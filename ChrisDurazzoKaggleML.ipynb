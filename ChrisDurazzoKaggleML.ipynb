{
 "cells": [
  {
   "cell_type": "code",
   "execution_count": 33,
   "metadata": {},
   "outputs": [
    {
     "name": "stdout",
     "output_type": "stream",
     "text": [
      "c:\\users\\chris\\mypythonscripts\n"
     ]
    }
   ],
   "source": [
    "import pandas as pd\n",
    "import numpy as np\n",
    "from scipy import stats\n",
    "import matplotlib.pyplot as plt\n",
    "from scipy import stats\n",
    "%matplotlib inline\n",
    "from sklearn import linear_model\n",
    "\n",
    "test = pd.read_csv('c:\\\\users\\\\chris\\\\csv files\\\\test.csv')\n",
    "train = pd.read_csv('c:\\\\users\\\\chris\\\\csv files\\\\train.csv')\n",
    "%cd c:\\\\users\\\\chris\\\\mypythonscripts\n",
    "train2 = train.copy()\n",
    "train2 = train2.drop('Id',axis=1)"
   ]
  },
  {
   "cell_type": "code",
   "execution_count": 34,
   "metadata": {},
   "outputs": [
    {
     "data": {
      "text/plain": [
       "'c:\\\\users\\\\chris\\\\mypythonscripts'"
      ]
     },
     "execution_count": 34,
     "metadata": {},
     "output_type": "execute_result"
    }
   ],
   "source": []
  },
  {
   "cell_type": "code",
   "execution_count": 2,
   "metadata": {},
   "outputs": [],
   "source": [
    "train.drop(train.index[1298], inplace = True)\n",
    "train.drop(train.index[523], inplace = True)\n",
    "train.drop(train.index[1182], inplace = True)"
   ]
  },
  {
   "cell_type": "code",
   "execution_count": 3,
   "metadata": {},
   "outputs": [],
   "source": [
    "full_df = pd.concat([train, test])"
   ]
  },
  {
   "cell_type": "code",
   "execution_count": 4,
   "metadata": {},
   "outputs": [
    {
     "data": {
      "text/plain": [
       "<matplotlib.axes._subplots.AxesSubplot at 0xc65a6a0>"
      ]
     },
     "execution_count": 4,
     "metadata": {},
     "output_type": "execute_result"
    },
    {
     "data": {
      "image/png": "[encoded data removed]",
      "text/plain": [
       "<matplotlib.figure.Figure at 0x6b52c50>"
      ]
     },
     "metadata": {},
     "output_type": "display_data"
    }
   ],
   "source": [
    "\n",
    "full_df[full_df.isnull() == True].sum().plot()"
   ]
  },
  {
   "cell_type": "code",
   "execution_count": 5,
   "metadata": {},
   "outputs": [],
   "source": [
    "full_df['PoolQC'].fillna('No Pool',inplace = True)\n",
    "full_df['MiscFeature'].fillna('None',inplace = True)\n",
    "full_df['Alley'].fillna('No Alley Access',inplace = True)\n",
    "full_df['Fence'].fillna('No Fence',inplace = True)\n",
    "full_df['FireplaceQu'].fillna('No Fireplace',inplace = True)\n",
    "full_df['LotFrontage'] = full_df['LotFrontage'].fillna(full_df.groupby(['Neighborhood'])['LotFrontage'].transform('mean').round())\n",
    "full_df['GarageYrBlt'].fillna('No Garage',inplace = True)\n",
    "full_df['GarageType'].fillna('No Garage',inplace = True)\n",
    "full_df['GarageFinish'].fillna('No Garage',inplace = True)\n",
    "full_df['GarageQual'].fillna('No Garage',inplace = True)\n",
    "full_df['GarageCond'].fillna('No Garage',inplace = True)\n",
    "full_df['BsmtFinType2'].fillna('No Garage',inplace = True)\n",
    "full_df['BsmtExposure'].fillna('No Garage',inplace = True)\n",
    "full_df['BsmtFinType1'].fillna('No Garage',inplace = True)\n",
    "full_df['BsmtCond'].fillna('No Garage',inplace = True)\n",
    "full_df['BsmtQual'].fillna('No Garage',inplace = True)\n",
    "full_df['MasVnrArea'].fillna(0,inplace = True)\n",
    "full_df['MasVnrType'].fillna('None',inplace = True)\n",
    "full_df['Electrical'].fillna('SBrkr', inplace = True)"
   ]
  },
  {
   "cell_type": "code",
   "execution_count": 6,
   "metadata": {},
   "outputs": [],
   "source": [
    "full_df['BsmtFinSF1'] = full_df['BsmtFinSF1'].fillna(full_df.groupby(['Neighborhood'])['BsmtFinSF1'].transform('mean'))\n",
    "full_df['BsmtFinSF2'] = full_df['BsmtFinSF2'].fillna(full_df.groupby(['Neighborhood'])['BsmtFinSF2'].transform('mean'))\n",
    "full_df['BsmtUnfSF'] = full_df['BsmtUnfSF'].fillna(full_df.groupby(['Neighborhood'])['BsmtUnfSF'].transform('mean'))\n",
    "full_df['TotalBsmtSF'] = full_df['TotalBsmtSF'].fillna(full_df.groupby(['Neighborhood'])['TotalBsmtSF'].transform('mean'))\n",
    "full_df['BsmtHalfBath'] = full_df['BsmtHalfBath'].fillna(full_df.groupby(['Neighborhood'])['BsmtHalfBath'].transform('mean'))\n",
    "full_df['BsmtFullBath'] = full_df['BsmtFullBath'].fillna(full_df.groupby(['Neighborhood'])['BsmtFullBath'].transform('mean'))\n",
    "full_df['BsmtFullBath'] = full_df['BsmtFullBath'].fillna(full_df.groupby(['Neighborhood'])['BsmtFullBath'].transform('mean'))\n",
    "full_df['GarageCars'] = full_df['GarageCars'].fillna(full_df.groupby(['Neighborhood'])['GarageCars'].transform('mean'))\n",
    "full_df['GarageArea'] = full_df['GarageArea'].fillna(full_df.groupby(['Neighborhood'])['GarageArea'].transform('mean'))\n",
    "full_df['Exterior1st'] = full_df['Exterior1st'].fillna('VinylSd')\n",
    "full_df['Exterior2nd'] = full_df['Exterior2nd'].fillna('VinylSd')\n",
    "full_df['Functional'] = full_df['Functional'].fillna('Typ')\n",
    "full_df.KitchenQual.fillna(lambda x: random.choice(full_df[full_df['KitchenQual'] != np.nan][\"KitchenQual\"]), inplace =True)\n",
    "full_df['MSZoning'] = full_df['MSZoning'].fillna('RL')\n",
    "full_df['SaleType'] = full_df['SaleType'].fillna('WD')\n",
    "full_df['Utilities'] = full_df['Utilities'].fillna('AllPub')"
   ]
  },
  {
   "cell_type": "code",
   "execution_count": 7,
   "metadata": {},
   "outputs": [],
   "source": [
    "full_df = full_df.drop('SalePrice', axis=1)"
   ]
  },
  {
   "cell_type": "code",
   "execution_count": 8,
   "metadata": {},
   "outputs": [],
   "source": [
    "pd.set_option('display.max_rows', 500)\n",
    "pd.set_option('display.max_columns',500)"
   ]
  },
  {
   "cell_type": "code",
   "execution_count": 9,
   "metadata": {},
   "outputs": [
    {
     "data": {
      "text/plain": [
       "0"
      ]
     },
     "execution_count": 9,
     "metadata": {},
     "output_type": "execute_result"
    }
   ],
   "source": [
    "sum(full_df.isnull().sum())"
   ]
  },
  {
   "cell_type": "code",
   "execution_count": 175,
   "metadata": {},
   "outputs": [
    {
     "data": {
      "text/plain": [
       "0    VinylSd\n",
       "dtype: object"
      ]
     },
     "execution_count": 175,
     "metadata": {},
     "output_type": "execute_result"
    }
   ],
   "source": [
    "full_df.Exterior1st.mode()"
   ]
  },
  {
   "cell_type": "code",
   "execution_count": 168,
   "metadata": {},
   "outputs": [
    {
     "data": {
      "text/plain": [
       "0    VinylSd\n",
       "dtype: object"
      ]
     },
     "execution_count": 168,
     "metadata": {},
     "output_type": "execute_result"
    }
   ],
   "source": [
    "full_df.Exterior2nd.mode()"
   ]
  },
  {
   "cell_type": "code",
   "execution_count": 177,
   "metadata": {},
   "outputs": [
    {
     "data": {
      "text/plain": [
       "0    Typ\n",
       "dtype: object"
      ]
     },
     "execution_count": 177,
     "metadata": {},
     "output_type": "execute_result"
    }
   ],
   "source": [
    "full_df.Functional.mode()"
   ]
  },
  {
   "cell_type": "code",
   "execution_count": 196,
   "metadata": {},
   "outputs": [
    {
     "data": {
      "text/plain": [
       "TA    1492\n",
       "Gd    1151\n",
       "Ex     205\n",
       "Fa      70\n",
       "Name: KitchenQual, dtype: int64"
      ]
     },
     "execution_count": 196,
     "metadata": {},
     "output_type": "execute_result"
    }
   ],
   "source": [
    "full_df.KitchenQual.value_counts()"
   ]
  },
  {
   "cell_type": "code",
   "execution_count": 203,
   "metadata": {},
   "outputs": [
    {
     "data": {
      "text/plain": [
       "RL         2265\n",
       "RM          460\n",
       "FV          139\n",
       "RH           26\n",
       "C (all)      25\n",
       "Name: MSZoning, dtype: int64"
      ]
     },
     "execution_count": 203,
     "metadata": {},
     "output_type": "execute_result"
    }
   ],
   "source": [
    "full_df.MSZoning.value_counts()"
   ]
  },
  {
   "cell_type": "code",
   "execution_count": 207,
   "metadata": {},
   "outputs": [
    {
     "data": {
      "text/plain": [
       "WD       2525\n",
       "New       239\n",
       "COD        87\n",
       "ConLD      26\n",
       "CWD        12\n",
       "ConLI       9\n",
       "ConLw       8\n",
       "Oth         7\n",
       "Con         5\n",
       "Name: SaleType, dtype: int64"
      ]
     },
     "execution_count": 207,
     "metadata": {},
     "output_type": "execute_result"
    }
   ],
   "source": [
    "full_df.SaleType.value_counts()"
   ]
  },
  {
   "cell_type": "code",
   "execution_count": 210,
   "metadata": {},
   "outputs": [
    {
     "data": {
      "text/plain": [
       "AllPub    2916\n",
       "NoSeWa       1\n",
       "Name: Utilities, dtype: int64"
      ]
     },
     "execution_count": 210,
     "metadata": {},
     "output_type": "execute_result"
    }
   ],
   "source": [
    "full_df.Utilities.value_counts()"
   ]
  },
  {
   "cell_type": "markdown",
   "metadata": {},
   "source": [
    "# Normalizing Data"
   ]
  },
  {
   "cell_type": "code",
   "execution_count": 10,
   "metadata": {},
   "outputs": [],
   "source": [
    "import scipy.stats as st\n",
    "from scipy.stats import boxcox\n",
    "import seaborn as sns"
   ]
  },
  {
   "cell_type": "code",
   "execution_count": 240,
   "metadata": {},
   "outputs": [],
   "source": [
    "#full_df.GrLivArea = pd.DataFrame(boxcox(full_df.GrLivArea)[0])"
   ]
  },
  {
   "cell_type": "code",
   "execution_count": 11,
   "metadata": {},
   "outputs": [],
   "source": [
    "full_df.MasVnrArea = np.log1p(full_df.MasVnrArea)"
   ]
  },
  {
   "cell_type": "code",
   "execution_count": 12,
   "metadata": {},
   "outputs": [],
   "source": [
    "full_df.TotalBsmtSF = np.log1p(full_df.TotalBsmtSF)\n",
    "full_df.LotFrontage = np.log1p(full_df.LotFrontage)\n",
    "full_df.LotArea = np.log1p(full_df.LotArea)"
   ]
  },
  {
   "cell_type": "markdown",
   "metadata": {},
   "source": [
    "# Dummifying"
   ]
  },
  {
   "cell_type": "code",
   "execution_count": 13,
   "metadata": {},
   "outputs": [],
   "source": [
    "dummy_train = pd.get_dummies(full_df, drop_first=True)"
   ]
  },
  {
   "cell_type": "code",
   "execution_count": 14,
   "metadata": {},
   "outputs": [
    {
     "data": {
      "text/plain": [
       "(2916, 362)"
      ]
     },
     "execution_count": 14,
     "metadata": {},
     "output_type": "execute_result"
    }
   ],
   "source": [
    "dummy_train.shape"
   ]
  },
  {
   "cell_type": "code",
   "execution_count": 15,
   "metadata": {},
   "outputs": [],
   "source": [
    "# Selecting the train rows\n",
    "train_df = dummy_train.head(1457)"
   ]
  },
  {
   "cell_type": "code",
   "execution_count": 16,
   "metadata": {},
   "outputs": [],
   "source": [
    "# Selecting the test rows\n",
    "test_df = dummy_train.tail(1459)"
   ]
  },
  {
   "cell_type": "markdown",
   "metadata": {},
   "source": [
    "# Regression"
   ]
  },
  {
   "cell_type": "code",
   "execution_count": 17,
   "metadata": {},
   "outputs": [],
   "source": [
    "from sklearn.model_selection import train_test_split\n",
    "from sklearn.linear_model import LinearRegression"
   ]
  },
  {
   "cell_type": "code",
   "execution_count": 18,
   "metadata": {},
   "outputs": [],
   "source": [
    "y = train.SalePrice\n",
    "X = train_df.loc[:, train_df.columns != 'Id']\n",
    "X_test = test_df.loc[:, test_df.columns != 'Id']"
   ]
  },
  {
   "cell_type": "code",
   "execution_count": 19,
   "metadata": {},
   "outputs": [],
   "source": [
    "train_X, val_X, train_y, val_y = train_test_split(X, y,test_size = 0.25,random_state=0)"
   ]
  },
  {
   "cell_type": "code",
   "execution_count": 20,
   "metadata": {},
   "outputs": [],
   "source": [
    "lin_reg = LinearRegression()"
   ]
  },
  {
   "cell_type": "code",
   "execution_count": 21,
   "metadata": {},
   "outputs": [
    {
     "data": {
      "text/plain": [
       "LinearRegression(copy_X=True, fit_intercept=True, n_jobs=1, normalize=False)"
      ]
     },
     "execution_count": 21,
     "metadata": {},
     "output_type": "execute_result"
    }
   ],
   "source": [
    "lin_reg.fit(train_X,train_y, sample_weight=None)"
   ]
  },
  {
   "cell_type": "code",
   "execution_count": 22,
   "metadata": {},
   "outputs": [
    {
     "data": {
      "text/plain": [
       "array([  1.35090453e+05,   1.77966062e+05,   1.05036391e+05,\n",
       "         1.42370672e+05,   2.98299766e+05,   1.51537109e+05,\n",
       "         1.84818562e+05,   1.31236812e+05,   1.31516234e+05,\n",
       "         2.73269781e+05,   1.96226031e+05,   2.21537594e+05,\n",
       "         1.75821953e+05,   1.47800031e+05,   9.32793750e+04,\n",
       "         1.55072562e+05,   1.98401453e+05,   8.16045000e+04,\n",
       "         1.50930625e+05,   4.22040062e+05,   2.98011000e+05,\n",
       "         1.60866562e+05,   3.01567766e+05,   8.62269062e+04,\n",
       "         1.11413766e+05,   1.23341844e+05,   1.13916875e+05,\n",
       "         7.41444844e+04,   1.47935844e+05,   2.96649766e+05,\n",
       "         1.69214438e+05,   2.48169906e+05,   1.72084969e+05,\n",
       "         1.89038078e+05,   1.82864904e+13,   1.64132062e+05,\n",
       "         8.25514219e+04,   1.76419391e+05,   1.49595922e+05,\n",
       "         1.05521250e+05,   1.22162641e+05,   2.02877828e+05,\n",
       "         2.75085047e+05,   1.08857922e+05,   1.81232250e+05,\n",
       "         1.28220359e+05,   2.72892734e+05,   1.21528359e+05,\n",
       "         1.09745328e+05,   2.62588344e+05,   2.67941500e+05,\n",
       "         1.04980203e+05,   5.25214985e+12,   1.04526703e+05,\n",
       "         3.81651828e+05,   2.83896453e+05,   2.96153453e+05,\n",
       "         1.28215953e+05,   1.68136484e+05,   1.47556594e+05,\n",
       "         1.18658938e+05,   1.49506250e+05,   9.44984375e+04,\n",
       "         1.49280141e+05,   1.05488047e+05,   1.80541047e+05,\n",
       "         3.65071250e+05,   1.61482609e+05,   2.36241359e+05,\n",
       "         1.85660391e+05,   1.70202172e+05,   2.55970750e+05,\n",
       "         8.24674375e+04,   2.82736234e+05,   3.86686594e+05,\n",
       "         2.76334562e+05,   2.33239516e+05,   7.96619844e+04,\n",
       "         1.48668766e+05,   1.55113578e+05,   1.44442688e+05,\n",
       "         1.39986594e+05,   2.48103438e+05,   2.15992859e+05,\n",
       "         1.24364844e+05,   2.34040453e+05,   1.48200453e+05,\n",
       "         1.37224750e+05,   1.29972438e+05,   3.21229156e+05,\n",
       "         2.80144062e+05,   1.64881844e+05,   1.05895766e+05,\n",
       "         1.23973766e+05,   3.72921922e+05,   1.10801828e+05,\n",
       "         2.99160609e+05,   1.16405562e+05,   1.34427484e+05,\n",
       "         1.74498234e+05,   1.58744719e+05,   2.21175688e+05,\n",
       "         1.97487828e+05,   1.51621672e+05,   1.27517859e+05,\n",
       "         1.94085328e+05,   1.98857500e+05,   2.00924516e+05,\n",
       "         2.96108422e+05,   2.49249969e+05,   1.24869438e+05,\n",
       "         1.51839609e+05,   2.18283688e+05,   1.23398766e+05,\n",
       "         1.85575375e+05,   8.44509688e+04,   2.02427922e+05,\n",
       "         2.49730547e+05,   2.99242062e+05,   1.35889781e+05,\n",
       "         2.21163297e+05,   1.49953375e+05,   7.12642500e+04,\n",
       "         8.13786094e+04,   1.96159500e+05,   1.57559609e+05,\n",
       "         1.31777516e+05,   1.64425250e+05,   2.48877969e+05,\n",
       "         2.45351547e+05,   3.34360594e+05,   1.36228109e+05,\n",
       "         2.09753703e+05,   2.57506531e+05,   2.62097203e+05,\n",
       "         1.58950078e+05,   3.23054828e+05,   1.62343406e+05,\n",
       "         1.56044812e+05,   2.78533219e+05,   3.06416125e+05,\n",
       "         1.27433031e+05,   1.64249469e+05,   1.04577016e+05,\n",
       "         1.89771172e+05,   1.54006922e+05,   1.79428469e+05,\n",
       "         2.00255125e+05,   1.40247609e+05,   1.21043000e+05,\n",
       "         1.21689719e+05,   1.07293844e+05,   1.90522359e+05,\n",
       "         4.70630781e+04,   1.67014031e+05,   1.82744469e+05,\n",
       "         2.13140328e+05,   1.41589672e+05,   5.22714141e+05,\n",
       "         1.34435797e+05,   7.63528750e+04,   2.12122156e+05,\n",
       "         4.19804688e+05,   1.59041672e+05,   1.85103344e+05,\n",
       "         2.40263766e+05,   2.00573859e+05,   1.10921969e+05,\n",
       "         7.03512344e+04,   1.54893609e+05,   1.34497234e+05,\n",
       "         1.77015953e+05,   1.21862406e+05,   3.02153719e+05,\n",
       "         4.36236234e+05,   1.53859359e+05,   1.10839031e+05,\n",
       "         1.92489188e+05,   8.05612344e+04,   1.23215000e+05,\n",
       "         1.36570359e+05,   1.11844062e+05,   1.74227969e+05,\n",
       "         1.30408406e+05,   2.70539312e+05,   1.85512672e+05,\n",
       "         2.15096484e+05,   1.78724734e+05,   1.12849312e+05,\n",
       "         1.08793531e+05,   7.10606094e+04,   3.45252453e+05,\n",
       "         1.27004594e+05,   1.15624578e+05,   1.91954172e+05,\n",
       "         1.52286266e+05,   1.49939438e+05,   1.69049078e+05,\n",
       "         1.21134188e+05,   1.54213641e+05,   1.41578891e+05,\n",
       "         1.32690406e+05,   2.12024797e+05,   3.82657750e+05,\n",
       "         1.09708000e+05,   1.18116766e+05,   1.75993250e+05,\n",
       "         2.49271625e+05,   2.53221266e+05,   2.05477031e+05,\n",
       "         1.89768781e+05,   9.96949375e+04,   2.15475281e+05,\n",
       "         9.94973281e+04,   2.93365578e+05,   6.61757500e+04,\n",
       "         2.77724469e+05,   1.31100531e+05,   1.98270375e+05,\n",
       "         3.08220828e+05,   7.87447344e+04,   1.51469797e+05,\n",
       "         1.51902828e+05,   1.10748766e+05,   2.46523094e+05,\n",
       "         1.86323984e+05,   1.14982672e+05,   1.31870703e+05,\n",
       "         1.12191172e+05,   8.85145625e+04,   1.89711172e+05,\n",
       "         2.11178500e+05,   2.03911656e+05,   2.12693828e+05,\n",
       "         2.40437469e+05,   1.73423312e+05,   1.30407453e+05,\n",
       "         1.95482328e+05,   1.75505688e+05,   2.33703469e+05,\n",
       "         2.35569766e+05,   4.59903547e+05,   1.16689891e+05,\n",
       "         1.21375094e+05,   1.02327328e+05,   1.99229344e+05,\n",
       "         2.36591812e+05,   2.18970547e+05,   1.01550109e+05,\n",
       "         1.87796641e+05,   1.84103797e+05,   1.10199141e+05,\n",
       "         1.26776969e+05,   1.34639234e+05,   1.55793156e+05,\n",
       "         1.99429453e+05,   1.94501047e+05,   9.72257188e+04,\n",
       "         1.42327844e+05,   1.33138031e+05,   6.73981562e+04,\n",
       "         1.11849172e+05,   2.14163719e+05,   1.48041109e+05,\n",
       "         3.82864312e+05,   3.12163562e+05,   1.80676453e+05,\n",
       "         9.84587656e+04,   1.34324641e+05,   1.55556375e+05,\n",
       "         1.01227953e+05,   2.63278062e+05,   2.31663750e+05,\n",
       "         8.24444531e+04,   1.04838641e+05,   2.83199594e+05,\n",
       "         1.32804266e+05,   8.60005625e+04,   1.76886047e+05,\n",
       "         1.83393234e+05,   2.00260594e+05,   7.80889375e+04,\n",
       "         1.47528531e+05,   1.71192797e+05,   1.07023203e+05,\n",
       "         1.06318922e+05,   1.43390312e+05,   1.86797203e+05,\n",
       "         1.08189156e+05,   1.29623297e+05,   1.65908266e+05,\n",
       "         1.29613219e+05,   1.31874922e+05,   1.18283984e+05,\n",
       "         1.07050266e+05,   2.43084547e+05,   1.62459938e+05,\n",
       "         3.22030266e+05,   1.56725125e+05,   1.00810281e+05,\n",
       "         1.62983328e+05,   1.02881250e+05,   1.44894781e+05,\n",
       "         1.39689578e+05,   3.04938391e+05,   1.26989578e+05,\n",
       "         1.74307031e+05,   1.25329500e+05,   1.63965156e+05,\n",
       "         2.19745391e+05,   1.68402719e+05,   2.33009734e+05,\n",
       "         1.54952125e+05,   2.60615734e+05,   1.53835984e+05,\n",
       "         1.92512562e+05,   1.62979719e+05,   3.60350016e+05,\n",
       "         3.04752594e+05,   6.85082188e+04,   2.37040516e+05,\n",
       "         1.20790859e+05,   1.45246359e+05,   1.93617281e+05,\n",
       "         1.75669938e+05,   3.56615922e+05,   8.23613750e+04,\n",
       "         2.12176906e+05,   9.97861719e+04,   1.17944203e+05,\n",
       "         1.40118156e+05,   1.31664781e+05,   4.76576344e+05,\n",
       "         1.46610984e+05,   2.86040078e+05,   8.05929531e+04,\n",
       "         1.98465516e+05,   3.21167891e+05,   1.77066719e+05,\n",
       "         1.39966828e+05,   2.79493812e+05,   1.51986641e+05,\n",
       "         2.16052672e+05,   7.73012344e+04,   3.23291219e+05,\n",
       "         1.86484047e+05,   1.41966172e+05,   3.19028359e+05,\n",
       "         1.20775156e+05,   2.28509578e+05,   2.53404094e+05,\n",
       "         2.83203172e+05,   2.95410109e+05,   1.63733094e+05,\n",
       "         2.36706203e+05,   1.39191766e+05,   2.43282453e+05,\n",
       "         1.41338422e+05,   1.05871641e+05,   1.62180391e+05,\n",
       "         7.73221875e+04,   1.43147859e+05,   2.28403344e+05,\n",
       "         9.74141719e+04,   1.00009641e+05])"
      ]
     },
     "execution_count": 22,
     "metadata": {},
     "output_type": "execute_result"
    }
   ],
   "source": [
    "lin_reg.predict(val_X)"
   ]
  },
  {
   "cell_type": "code",
   "execution_count": 23,
   "metadata": {},
   "outputs": [
    {
     "data": {
      "text/plain": [
       "-155899987302018.0"
      ]
     },
     "execution_count": 23,
     "metadata": {},
     "output_type": "execute_result"
    }
   ],
   "source": [
    "lin_reg.score(val_X,val_y)"
   ]
  },
  {
   "cell_type": "markdown",
   "metadata": {},
   "source": [
    "# Ridge"
   ]
  },
  {
   "cell_type": "code",
   "execution_count": 24,
   "metadata": {},
   "outputs": [],
   "source": [
    "from sklearn.linear_model import LassoCV\n",
    "from sklearn.linear_model import RidgeCV"
   ]
  },
  {
   "cell_type": "code",
   "execution_count": 25,
   "metadata": {},
   "outputs": [
    {
     "data": {
      "text/plain": [
       "0.91410659278816686"
      ]
     },
     "execution_count": 25,
     "metadata": {},
     "output_type": "execute_result"
    }
   ],
   "source": [
    "ridge_reg = RidgeCV(cv=12)\n",
    "\n",
    "ridge_reg.fit(train_X, train_y)\n",
    "\n",
    "ridge_reg.predict(val_X)\n",
    "\n",
    "ridge_reg.score(val_X, val_y)"
   ]
  },
  {
   "cell_type": "markdown",
   "metadata": {},
   "source": [
    "# Lasso"
   ]
  },
  {
   "cell_type": "code",
   "execution_count": 26,
   "metadata": {},
   "outputs": [
    {
     "data": {
      "text/plain": [
       "0.81392293292530038"
      ]
     },
     "execution_count": 26,
     "metadata": {},
     "output_type": "execute_result"
    }
   ],
   "source": [
    "lasso_reg = LassoCV(cv=10)\n",
    "\n",
    "lasso_reg.fit(train_X, train_y)\n",
    "\n",
    "lasso_reg.predict(val_X)\n",
    "\n",
    "lasso_reg.score(val_X, val_y)"
   ]
  },
  {
   "cell_type": "code",
   "execution_count": 27,
   "metadata": {},
   "outputs": [],
   "source": [
    "submission7 = pd.DataFrame([test_df.Id, lin_reg.predict(X_test)]).T"
   ]
  },
  {
   "cell_type": "code",
   "execution_count": 28,
   "metadata": {},
   "outputs": [],
   "source": [
    "submission8 = pd.DataFrame([test_df.Id,ridge_reg.predict(X_test)]).T"
   ]
  },
  {
   "cell_type": "code",
   "execution_count": 29,
   "metadata": {},
   "outputs": [],
   "source": [
    "submission9 = pd.DataFrame([test_df.Id,lasso_reg.predict(X_test)]).T"
   ]
  },
  {
   "cell_type": "code",
   "execution_count": 30,
   "metadata": {},
   "outputs": [],
   "source": [
    "submission7.to_csv('c:\\\\users\\\\chris\\\\csv files\\\\submission7.csv')"
   ]
  },
  {
   "cell_type": "code",
   "execution_count": 31,
   "metadata": {},
   "outputs": [],
   "source": [
    "submission8.to_csv('c:\\\\users\\\\chris\\\\csv files\\\\submission8.csv')"
   ]
  },
  {
   "cell_type": "code",
   "execution_count": 32,
   "metadata": {},
   "outputs": [],
   "source": [
    "submission9.to_csv('c:\\\\users\\\\chris\\\\csv files\\\\submission9.csv')"
   ]
  }
 ],
 "metadata": {
  "kernelspec": {
   "display_name": "Python 3",
   "language": "python",
   "name": "python3"
  },
  "language_info": {
   "codemirror_mode": {
    "name": "ipython",
    "version": 3
   },
   "file_extension": ".py",
   "mimetype": "text/x-python",
   "name": "python",
   "nbconvert_exporter": "python",
   "pygments_lexer": "ipython3",
   "version": "3.6.3"
  }
 },
 "nbformat": 4,
 "nbformat_minor": 2
}
