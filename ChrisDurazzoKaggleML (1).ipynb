{
 "cells": [
  {
   "cell_type": "code",
   "execution_count": 1,
   "metadata": {},
   "outputs": [
    {
     "name": "stdout",
     "output_type": "stream",
     "text": [
      "c:\\users\\chris\\mypythonscripts\n"
     ]
    }
   ],
   "source": [
    "import pandas as pd\n",
    "import numpy as np\n",
    "from scipy import stats\n",
    "import matplotlib.pyplot as plt\n",
    "from scipy import stats\n",
    "%matplotlib inline\n",
    "from sklearn import linear_model\n",
    "\n",
    "test = pd.read_csv('c:\\\\users\\\\chris\\\\csv files\\\\test.csv')\n",
    "train = pd.read_csv('c:\\\\users\\\\chris\\\\csv files\\\\train.csv')\n",
    "%cd c:\\\\users\\\\chris\\\\mypythonscripts\n",
    "train2 = train.copy()\n",
    "train2 = train2.drop('Id',axis=1)"
   ]
  },
  {
   "cell_type": "code",
   "execution_count": 2,
   "metadata": {},
   "outputs": [],
   "source": [
    "train.drop(train.index[1298], inplace = True)\n",
    "train.drop(train.index[523], inplace = True)\n",
    "train.drop(train.index[1182], inplace = True)"
   ]
  },
  {
   "cell_type": "code",
   "execution_count": 3,
   "metadata": {},
   "outputs": [],
   "source": [
    "full_df = pd.concat([train, test])"
   ]
  },
  {
   "cell_type": "code",
   "execution_count": 4,
   "metadata": {},
   "outputs": [
    {
     "data": {
      "text/plain": [
       "<matplotlib.axes._subplots.AxesSubplot at 0x5987fd0>"
      ]
     },
     "execution_count": 4,
     "metadata": {},
     "output_type": "execute_result"
    },
    {
     "data": {
      "image/png": "[encoded data removed]",
      "text/plain": [
       "<matplotlib.figure.Figure at 0xc65a9e8>"
      ]
     },
     "metadata": {},
     "output_type": "display_data"
    }
   ],
   "source": [
    "\n",
    "full_df[full_df.isnull() == True].sum().plot()"
   ]
  },
  {
   "cell_type": "code",
   "execution_count": 5,
   "metadata": {},
   "outputs": [],
   "source": [
    "full_df['PoolQC'].fillna('No Pool',inplace = True)\n",
    "full_df['MiscFeature'].fillna('None',inplace = True)\n",
    "full_df['Alley'].fillna('No Alley Access',inplace = True)\n",
    "full_df['Fence'].fillna('No Fence',inplace = True)\n",
    "full_df['FireplaceQu'].fillna('No Fireplace',inplace = True)\n",
    "full_df['LotFrontage'] = full_df['LotFrontage'].fillna(full_df.groupby(['Neighborhood'])['LotFrontage'].transform('mean').round())\n",
    "full_df['GarageYrBlt'].fillna('No Garage',inplace = True)\n",
    "full_df['GarageType'].fillna('No Garage',inplace = True)\n",
    "full_df['GarageFinish'].fillna('No Garage',inplace = True)\n",
    "full_df['GarageQual'].fillna('No Garage',inplace = True)\n",
    "full_df['GarageCond'].fillna('No Garage',inplace = True)\n",
    "full_df['BsmtFinType2'].fillna('No Garage',inplace = True)\n",
    "full_df['BsmtExposure'].fillna('No Garage',inplace = True)\n",
    "full_df['BsmtFinType1'].fillna('No Garage',inplace = True)\n",
    "full_df['BsmtCond'].fillna('No Garage',inplace = True)\n",
    "full_df['BsmtQual'].fillna('No Garage',inplace = True)\n",
    "full_df['MasVnrArea'].fillna(0,inplace = True)\n",
    "full_df['MasVnrType'].fillna('None',inplace = True)\n",
    "full_df['Electrical'].fillna('SBrkr', inplace = True)"
   ]
  },
  {
   "cell_type": "code",
   "execution_count": 6,
   "metadata": {},
   "outputs": [],
   "source": [
    "full_df['BsmtFinSF1'] = full_df['BsmtFinSF1'].fillna(full_df.groupby(['Neighborhood'])['BsmtFinSF1'].transform('mean'))\n",
    "full_df['BsmtFinSF2'] = full_df['BsmtFinSF2'].fillna(full_df.groupby(['Neighborhood'])['BsmtFinSF2'].transform('mean'))\n",
    "full_df['BsmtUnfSF'] = full_df['BsmtUnfSF'].fillna(full_df.groupby(['Neighborhood'])['BsmtUnfSF'].transform('mean'))\n",
    "full_df['TotalBsmtSF'] = full_df['TotalBsmtSF'].fillna(full_df.groupby(['Neighborhood'])['TotalBsmtSF'].transform('mean'))\n",
    "full_df['BsmtHalfBath'] = full_df['BsmtHalfBath'].fillna(full_df.groupby(['Neighborhood'])['BsmtHalfBath'].transform('mean'))\n",
    "full_df['BsmtFullBath'] = full_df['BsmtFullBath'].fillna(full_df.groupby(['Neighborhood'])['BsmtFullBath'].transform('mean'))\n",
    "full_df['BsmtFullBath'] = full_df['BsmtFullBath'].fillna(full_df.groupby(['Neighborhood'])['BsmtFullBath'].transform('mean'))\n",
    "full_df['GarageCars'] = full_df['GarageCars'].fillna(full_df.groupby(['Neighborhood'])['GarageCars'].transform('mean'))\n",
    "full_df['GarageArea'] = full_df['GarageArea'].fillna(full_df.groupby(['Neighborhood'])['GarageArea'].transform('mean'))\n",
    "full_df['Exterior1st'] = full_df['Exterior1st'].fillna('VinylSd')\n",
    "full_df['Exterior2nd'] = full_df['Exterior2nd'].fillna('VinylSd')\n",
    "full_df['Functional'] = full_df['Functional'].fillna('Typ')\n",
    "full_df.KitchenQual.fillna(lambda x: random.choice(full_df[full_df['KitchenQual'] != np.nan][\"KitchenQual\"]), inplace =True)\n",
    "full_df['MSZoning'] = full_df['MSZoning'].fillna('RL')\n",
    "full_df['SaleType'] = full_df['SaleType'].fillna('WD')\n",
    "full_df['Utilities'] = full_df['Utilities'].fillna('AllPub')"
   ]
  },
  {
   "cell_type": "code",
   "execution_count": 7,
   "metadata": {},
   "outputs": [],
   "source": [
    "full_df = full_df.drop('SalePrice', axis=1)"
   ]
  },
  {
   "cell_type": "code",
   "execution_count": 8,
   "metadata": {},
   "outputs": [],
   "source": [
    "pd.set_option('display.max_rows', 500)\n",
    "pd.set_option('display.max_columns',500)"
   ]
  },
  {
   "cell_type": "code",
   "execution_count": 9,
   "metadata": {},
   "outputs": [
    {
     "data": {
      "text/plain": [
       "0"
      ]
     },
     "execution_count": 9,
     "metadata": {},
     "output_type": "execute_result"
    }
   ],
   "source": [
    "sum(full_df.isnull().sum())"
   ]
  },
  {
   "cell_type": "code",
   "execution_count": 175,
   "metadata": {},
   "outputs": [
    {
     "data": {
      "text/plain": [
       "0    VinylSd\n",
       "dtype: object"
      ]
     },
     "execution_count": 175,
     "metadata": {},
     "output_type": "execute_result"
    }
   ],
   "source": [
    "full_df.Exterior1st.mode()"
   ]
  },
  {
   "cell_type": "code",
   "execution_count": 168,
   "metadata": {},
   "outputs": [
    {
     "data": {
      "text/plain": [
       "0    VinylSd\n",
       "dtype: object"
      ]
     },
     "execution_count": 168,
     "metadata": {},
     "output_type": "execute_result"
    }
   ],
   "source": [
    "full_df.Exterior2nd.mode()"
   ]
  },
  {
   "cell_type": "code",
   "execution_count": 177,
   "metadata": {},
   "outputs": [
    {
     "data": {
      "text/plain": [
       "0    Typ\n",
       "dtype: object"
      ]
     },
     "execution_count": 177,
     "metadata": {},
     "output_type": "execute_result"
    }
   ],
   "source": [
    "full_df.Functional.mode()"
   ]
  },
  {
   "cell_type": "code",
   "execution_count": 196,
   "metadata": {},
   "outputs": [
    {
     "data": {
      "text/plain": [
       "TA    1492\n",
       "Gd    1151\n",
       "Ex     205\n",
       "Fa      70\n",
       "Name: KitchenQual, dtype: int64"
      ]
     },
     "execution_count": 196,
     "metadata": {},
     "output_type": "execute_result"
    }
   ],
   "source": [
    "full_df.KitchenQual.value_counts()"
   ]
  },
  {
   "cell_type": "code",
   "execution_count": 203,
   "metadata": {},
   "outputs": [
    {
     "data": {
      "text/plain": [
       "RL         2265\n",
       "RM          460\n",
       "FV          139\n",
       "RH           26\n",
       "C (all)      25\n",
       "Name: MSZoning, dtype: int64"
      ]
     },
     "execution_count": 203,
     "metadata": {},
     "output_type": "execute_result"
    }
   ],
   "source": [
    "full_df.MSZoning.value_counts()"
   ]
  },
  {
   "cell_type": "code",
   "execution_count": 207,
   "metadata": {},
   "outputs": [
    {
     "data": {
      "text/plain": [
       "WD       2525\n",
       "New       239\n",
       "COD        87\n",
       "ConLD      26\n",
       "CWD        12\n",
       "ConLI       9\n",
       "ConLw       8\n",
       "Oth         7\n",
       "Con         5\n",
       "Name: SaleType, dtype: int64"
      ]
     },
     "execution_count": 207,
     "metadata": {},
     "output_type": "execute_result"
    }
   ],
   "source": [
    "full_df.SaleType.value_counts()"
   ]
  },
  {
   "cell_type": "code",
   "execution_count": 210,
   "metadata": {},
   "outputs": [
    {
     "data": {
      "text/plain": [
       "AllPub    2916\n",
       "NoSeWa       1\n",
       "Name: Utilities, dtype: int64"
      ]
     },
     "execution_count": 210,
     "metadata": {},
     "output_type": "execute_result"
    }
   ],
   "source": [
    "full_df.Utilities.value_counts()"
   ]
  },
  {
   "cell_type": "code",
   "execution_count": 10,
   "metadata": {},
   "outputs": [],
   "source": [
    "# Make copy dataframe for non-normalized data\n",
    "full_df2 = full_df.copy()"
   ]
  },
  {
   "cell_type": "markdown",
   "metadata": {},
   "source": [
    "# Normalizing Data"
   ]
  },
  {
   "cell_type": "code",
   "execution_count": 11,
   "metadata": {},
   "outputs": [],
   "source": [
    "import scipy.stats as st\n",
    "from scipy.stats import boxcox\n",
    "import seaborn as sns"
   ]
  },
  {
   "cell_type": "code",
   "execution_count": 240,
   "metadata": {},
   "outputs": [],
   "source": [
    "full_df.GrLivArea = pd.DataFrame(boxcox(full_df.GrLivArea)[0])"
   ]
  },
  {
   "cell_type": "code",
   "execution_count": 12,
   "metadata": {},
   "outputs": [],
   "source": [
    "full_df.MasVnrArea = np.log1p(full_df.MasVnrArea)"
   ]
  },
  {
   "cell_type": "code",
   "execution_count": 13,
   "metadata": {},
   "outputs": [],
   "source": [
    "full_df.TotalBsmtSF = np.log1p(full_df.TotalBsmtSF)\n",
    "full_df.LotFrontage = np.log1p(full_df.LotFrontage)\n",
    "full_df.LotArea = np.log1p(full_df.LotArea)"
   ]
  },
  {
   "cell_type": "markdown",
   "metadata": {},
   "source": [
    "# Dummifying"
   ]
  },
  {
   "cell_type": "code",
   "execution_count": 14,
   "metadata": {},
   "outputs": [],
   "source": [
    "dummy_train = pd.get_dummies(full_df, drop_first=True)"
   ]
  },
  {
   "cell_type": "code",
   "execution_count": 15,
   "metadata": {},
   "outputs": [
    {
     "data": {
      "text/plain": [
       "(2916, 362)"
      ]
     },
     "execution_count": 15,
     "metadata": {},
     "output_type": "execute_result"
    }
   ],
   "source": [
    "dummy_train.shape"
   ]
  },
  {
   "cell_type": "code",
   "execution_count": 31,
   "metadata": {},
   "outputs": [],
   "source": [
    "dummy_2 = pd.get_dummies(full_df2, drop_first=True)"
   ]
  },
  {
   "cell_type": "code",
   "execution_count": 32,
   "metadata": {},
   "outputs": [
    {
     "data": {
      "text/plain": [
       "(2916, 362)"
      ]
     },
     "execution_count": 32,
     "metadata": {},
     "output_type": "execute_result"
    }
   ],
   "source": [
    "dummy_2.shape"
   ]
  },
  {
   "cell_type": "code",
   "execution_count": 16,
   "metadata": {},
   "outputs": [],
   "source": [
    "# Selecting the train rows\n",
    "train_df = dummy_train.head(1457)"
   ]
  },
  {
   "cell_type": "code",
   "execution_count": 17,
   "metadata": {},
   "outputs": [],
   "source": [
    "# Selecting the test rows\n",
    "test_df = dummy_train.tail(1459)"
   ]
  },
  {
   "cell_type": "code",
   "execution_count": 33,
   "metadata": {},
   "outputs": [],
   "source": [
    "train_df2 = dummy_2.head(1457)"
   ]
  },
  {
   "cell_type": "code",
   "execution_count": 34,
   "metadata": {},
   "outputs": [],
   "source": [
    "test_df2 = dummy_2.tail(1549)"
   ]
  },
  {
   "cell_type": "markdown",
   "metadata": {},
   "source": [
    "# Regression"
   ]
  },
  {
   "cell_type": "code",
   "execution_count": 18,
   "metadata": {},
   "outputs": [],
   "source": [
    "from sklearn.model_selection import train_test_split\n",
    "from sklearn.linear_model import LinearRegression"
   ]
  },
  {
   "cell_type": "code",
   "execution_count": 19,
   "metadata": {},
   "outputs": [],
   "source": [
    "y = train.SalePrice\n",
    "X = train_df.loc[:, train_df.columns != 'Id']\n",
    "X_test = test_df.loc[:, test_df.columns != 'Id']"
   ]
  },
  {
   "cell_type": "code",
   "execution_count": 35,
   "metadata": {},
   "outputs": [],
   "source": [
    "X_2 = train_df2.loc[:, train_df2.columns != 'Id']\n",
    "X_2test = test_df2.loc[:, test_df2.columns != 'Id']"
   ]
  },
  {
   "cell_type": "code",
   "execution_count": 20,
   "metadata": {},
   "outputs": [],
   "source": [
    "train_X, val_X, train_y, val_y = train_test_split(X, y,test_size = 0.25,random_state=0)"
   ]
  },
  {
   "cell_type": "code",
   "execution_count": 36,
   "metadata": {},
   "outputs": [],
   "source": [
    "train_X2, val_X2, train_y2, val_y2 = train_test_split(X_2, y, test_size = 0.25, random_state=0)"
   ]
  },
  {
   "cell_type": "code",
   "execution_count": 21,
   "metadata": {},
   "outputs": [],
   "source": [
    "lin_reg = LinearRegression()"
   ]
  },
  {
   "cell_type": "code",
   "execution_count": 22,
   "metadata": {},
   "outputs": [
    {
     "data": {
      "text/plain": [
       "LinearRegression(copy_X=True, fit_intercept=True, n_jobs=1, normalize=False)"
      ]
     },
     "execution_count": 22,
     "metadata": {},
     "output_type": "execute_result"
    }
   ],
   "source": [
    "lin_reg.fit(train_X,train_y, sample_weight=None)"
   ]
  },
  {
   "cell_type": "code",
   "execution_count": 37,
   "metadata": {},
   "outputs": [],
   "source": [
    "lin_reg2 = LinearRegression()"
   ]
  },
  {
   "cell_type": "code",
   "execution_count": 38,
   "metadata": {},
   "outputs": [
    {
     "data": {
      "text/plain": [
       "LinearRegression(copy_X=True, fit_intercept=True, n_jobs=1, normalize=False)"
      ]
     },
     "execution_count": 38,
     "metadata": {},
     "output_type": "execute_result"
    }
   ],
   "source": [
    "lin_reg2.fit(train_X2, train_y2, sample_weight=None)"
   ]
  },
  {
   "cell_type": "code",
   "execution_count": 23,
   "metadata": {},
   "outputs": [
    {
     "data": {
      "text/plain": [
       "array([  1.35090453e+05,   1.77966062e+05,   1.05036391e+05,\n",
       "         1.42370672e+05,   2.98299766e+05,   1.51537109e+05,\n",
       "         1.84818562e+05,   1.31236812e+05,   1.31516234e+05,\n",
       "         2.73269781e+05,   1.96226031e+05,   2.21537594e+05,\n",
       "         1.75821953e+05,   1.47800031e+05,   9.32793750e+04,\n",
       "         1.55072562e+05,   1.98401453e+05,   8.16045000e+04,\n",
       "         1.50930625e+05,   4.22040062e+05,   2.98011000e+05,\n",
       "         1.60866562e+05,   3.01567766e+05,   8.62269062e+04,\n",
       "         1.11413766e+05,   1.23341844e+05,   1.13916875e+05,\n",
       "         7.41444844e+04,   1.47935844e+05,   2.96649766e+05,\n",
       "         1.69214438e+05,   2.48169906e+05,   1.72084969e+05,\n",
       "         1.89038078e+05,   1.82864904e+13,   1.64132062e+05,\n",
       "         8.25514219e+04,   1.76419391e+05,   1.49595922e+05,\n",
       "         1.05521250e+05,   1.22162641e+05,   2.02877828e+05,\n",
       "         2.75085047e+05,   1.08857922e+05,   1.81232250e+05,\n",
       "         1.28220359e+05,   2.72892734e+05,   1.21528359e+05,\n",
       "         1.09745328e+05,   2.62588344e+05,   2.67941500e+05,\n",
       "         1.04980203e+05,   5.25214985e+12,   1.04526703e+05,\n",
       "         3.81651828e+05,   2.83896453e+05,   2.96153453e+05,\n",
       "         1.28215953e+05,   1.68136484e+05,   1.47556594e+05,\n",
       "         1.18658938e+05,   1.49506250e+05,   9.44984375e+04,\n",
       "         1.49280141e+05,   1.05488047e+05,   1.80541047e+05,\n",
       "         3.65071250e+05,   1.61482609e+05,   2.36241359e+05,\n",
       "         1.85660391e+05,   1.70202172e+05,   2.55970750e+05,\n",
       "         8.24674375e+04,   2.82736234e+05,   3.86686594e+05,\n",
       "         2.76334562e+05,   2.33239516e+05,   7.96619844e+04,\n",
       "         1.48668766e+05,   1.55113578e+05,   1.44442688e+05,\n",
       "         1.39986594e+05,   2.48103438e+05,   2.15992859e+05,\n",
       "         1.24364844e+05,   2.34040453e+05,   1.48200453e+05,\n",
       "         1.37224750e+05,   1.29972438e+05,   3.21229156e+05,\n",
       "         2.80144062e+05,   1.64881844e+05,   1.05895766e+05,\n",
       "         1.23973766e+05,   3.72921922e+05,   1.10801828e+05,\n",
       "         2.99160609e+05,   1.16405562e+05,   1.34427484e+05,\n",
       "         1.74498234e+05,   1.58744719e+05,   2.21175688e+05,\n",
       "         1.97487828e+05,   1.51621672e+05,   1.27517859e+05,\n",
       "         1.94085328e+05,   1.98857500e+05,   2.00924516e+05,\n",
       "         2.96108422e+05,   2.49249969e+05,   1.24869438e+05,\n",
       "         1.51839609e+05,   2.18283688e+05,   1.23398766e+05,\n",
       "         1.85575375e+05,   8.44509688e+04,   2.02427922e+05,\n",
       "         2.49730547e+05,   2.99242062e+05,   1.35889781e+05,\n",
       "         2.21163297e+05,   1.49953375e+05,   7.12642500e+04,\n",
       "         8.13786094e+04,   1.96159500e+05,   1.57559609e+05,\n",
       "         1.31777516e+05,   1.64425250e+05,   2.48877969e+05,\n",
       "         2.45351547e+05,   3.34360594e+05,   1.36228109e+05,\n",
       "         2.09753703e+05,   2.57506531e+05,   2.62097203e+05,\n",
       "         1.58950078e+05,   3.23054828e+05,   1.62343406e+05,\n",
       "         1.56044812e+05,   2.78533219e+05,   3.06416125e+05,\n",
       "         1.27433031e+05,   1.64249469e+05,   1.04577016e+05,\n",
       "         1.89771172e+05,   1.54006922e+05,   1.79428469e+05,\n",
       "         2.00255125e+05,   1.40247609e+05,   1.21043000e+05,\n",
       "         1.21689719e+05,   1.07293844e+05,   1.90522359e+05,\n",
       "         4.70630781e+04,   1.67014031e+05,   1.82744469e+05,\n",
       "         2.13140328e+05,   1.41589672e+05,   5.22714141e+05,\n",
       "         1.34435797e+05,   7.63528750e+04,   2.12122156e+05,\n",
       "         4.19804688e+05,   1.59041672e+05,   1.85103344e+05,\n",
       "         2.40263766e+05,   2.00573859e+05,   1.10921969e+05,\n",
       "         7.03512344e+04,   1.54893609e+05,   1.34497234e+05,\n",
       "         1.77015953e+05,   1.21862406e+05,   3.02153719e+05,\n",
       "         4.36236234e+05,   1.53859359e+05,   1.10839031e+05,\n",
       "         1.92489188e+05,   8.05612344e+04,   1.23215000e+05,\n",
       "         1.36570359e+05,   1.11844062e+05,   1.74227969e+05,\n",
       "         1.30408406e+05,   2.70539312e+05,   1.85512672e+05,\n",
       "         2.15096484e+05,   1.78724734e+05,   1.12849312e+05,\n",
       "         1.08793531e+05,   7.10606094e+04,   3.45252453e+05,\n",
       "         1.27004594e+05,   1.15624578e+05,   1.91954172e+05,\n",
       "         1.52286266e+05,   1.49939438e+05,   1.69049078e+05,\n",
       "         1.21134188e+05,   1.54213641e+05,   1.41578891e+05,\n",
       "         1.32690406e+05,   2.12024797e+05,   3.82657750e+05,\n",
       "         1.09708000e+05,   1.18116766e+05,   1.75993250e+05,\n",
       "         2.49271625e+05,   2.53221266e+05,   2.05477031e+05,\n",
       "         1.89768781e+05,   9.96949375e+04,   2.15475281e+05,\n",
       "         9.94973281e+04,   2.93365578e+05,   6.61757500e+04,\n",
       "         2.77724469e+05,   1.31100531e+05,   1.98270375e+05,\n",
       "         3.08220828e+05,   7.87447344e+04,   1.51469797e+05,\n",
       "         1.51902828e+05,   1.10748766e+05,   2.46523094e+05,\n",
       "         1.86323984e+05,   1.14982672e+05,   1.31870703e+05,\n",
       "         1.12191172e+05,   8.85145625e+04,   1.89711172e+05,\n",
       "         2.11178500e+05,   2.03911656e+05,   2.12693828e+05,\n",
       "         2.40437469e+05,   1.73423312e+05,   1.30407453e+05,\n",
       "         1.95482328e+05,   1.75505688e+05,   2.33703469e+05,\n",
       "         2.35569766e+05,   4.59903547e+05,   1.16689891e+05,\n",
       "         1.21375094e+05,   1.02327328e+05,   1.99229344e+05,\n",
       "         2.36591812e+05,   2.18970547e+05,   1.01550109e+05,\n",
       "         1.87796641e+05,   1.84103797e+05,   1.10199141e+05,\n",
       "         1.26776969e+05,   1.34639234e+05,   1.55793156e+05,\n",
       "         1.99429453e+05,   1.94501047e+05,   9.72257188e+04,\n",
       "         1.42327844e+05,   1.33138031e+05,   6.73981562e+04,\n",
       "         1.11849172e+05,   2.14163719e+05,   1.48041109e+05,\n",
       "         3.82864312e+05,   3.12163562e+05,   1.80676453e+05,\n",
       "         9.84587656e+04,   1.34324641e+05,   1.55556375e+05,\n",
       "         1.01227953e+05,   2.63278062e+05,   2.31663750e+05,\n",
       "         8.24444531e+04,   1.04838641e+05,   2.83199594e+05,\n",
       "         1.32804266e+05,   8.60005625e+04,   1.76886047e+05,\n",
       "         1.83393234e+05,   2.00260594e+05,   7.80889375e+04,\n",
       "         1.47528531e+05,   1.71192797e+05,   1.07023203e+05,\n",
       "         1.06318922e+05,   1.43390312e+05,   1.86797203e+05,\n",
       "         1.08189156e+05,   1.29623297e+05,   1.65908266e+05,\n",
       "         1.29613219e+05,   1.31874922e+05,   1.18283984e+05,\n",
       "         1.07050266e+05,   2.43084547e+05,   1.62459938e+05,\n",
       "         3.22030266e+05,   1.56725125e+05,   1.00810281e+05,\n",
       "         1.62983328e+05,   1.02881250e+05,   1.44894781e+05,\n",
       "         1.39689578e+05,   3.04938391e+05,   1.26989578e+05,\n",
       "         1.74307031e+05,   1.25329500e+05,   1.63965156e+05,\n",
       "         2.19745391e+05,   1.68402719e+05,   2.33009734e+05,\n",
       "         1.54952125e+05,   2.60615734e+05,   1.53835984e+05,\n",
       "         1.92512562e+05,   1.62979719e+05,   3.60350016e+05,\n",
       "         3.04752594e+05,   6.85082188e+04,   2.37040516e+05,\n",
       "         1.20790859e+05,   1.45246359e+05,   1.93617281e+05,\n",
       "         1.75669938e+05,   3.56615922e+05,   8.23613750e+04,\n",
       "         2.12176906e+05,   9.97861719e+04,   1.17944203e+05,\n",
       "         1.40118156e+05,   1.31664781e+05,   4.76576344e+05,\n",
       "         1.46610984e+05,   2.86040078e+05,   8.05929531e+04,\n",
       "         1.98465516e+05,   3.21167891e+05,   1.77066719e+05,\n",
       "         1.39966828e+05,   2.79493812e+05,   1.51986641e+05,\n",
       "         2.16052672e+05,   7.73012344e+04,   3.23291219e+05,\n",
       "         1.86484047e+05,   1.41966172e+05,   3.19028359e+05,\n",
       "         1.20775156e+05,   2.28509578e+05,   2.53404094e+05,\n",
       "         2.83203172e+05,   2.95410109e+05,   1.63733094e+05,\n",
       "         2.36706203e+05,   1.39191766e+05,   2.43282453e+05,\n",
       "         1.41338422e+05,   1.05871641e+05,   1.62180391e+05,\n",
       "         7.73221875e+04,   1.43147859e+05,   2.28403344e+05,\n",
       "         9.74141719e+04,   1.00009641e+05])"
      ]
     },
     "execution_count": 23,
     "metadata": {},
     "output_type": "execute_result"
    }
   ],
   "source": [
    "lin_reg.predict(val_X)"
   ]
  },
  {
   "cell_type": "code",
   "execution_count": 24,
   "metadata": {},
   "outputs": [
    {
     "data": {
      "text/plain": [
       "-155899987302018.0"
      ]
     },
     "execution_count": 24,
     "metadata": {},
     "output_type": "execute_result"
    }
   ],
   "source": [
    "lin_reg.score(val_X,val_y)"
   ]
  },
  {
   "cell_type": "code",
   "execution_count": 39,
   "metadata": {},
   "outputs": [
    {
     "data": {
      "text/plain": [
       "array([  1.36707042e+05,   1.80802931e+05,   1.01894726e+05,\n",
       "         1.39066700e+05,   3.01438476e+05,   1.52800040e+05,\n",
       "         1.88401488e+05,   1.31868115e+05,   1.34477615e+05,\n",
       "         2.69851158e+05,   1.86413621e+05,   2.21144205e+05,\n",
       "         1.79049317e+05,   1.54281218e+05,   8.76018672e+04,\n",
       "         1.55707146e+05,   1.97690613e+05,   8.42690805e+04,\n",
       "         1.47692812e+05,   4.27539843e+05,   2.95224217e+05,\n",
       "         1.59428071e+05,   3.02876265e+05,   9.15271089e+04,\n",
       "         1.11140352e+05,   1.23324857e+05,   1.09745899e+05,\n",
       "         4.86447963e+04,   1.49969207e+05,   2.89862919e+05,\n",
       "         1.66077499e+05,   2.37200876e+05,   1.71825389e+05,\n",
       "         1.94671546e+05,  -4.03368309e+08,   1.57485828e+05,\n",
       "         7.61059560e+04,   1.78026443e+05,   1.55671784e+05,\n",
       "         9.74933680e+04,   1.15144086e+05,   1.99649448e+05,\n",
       "         2.76485436e+05,   1.11284904e+05,   1.99541864e+05,\n",
       "         1.32514340e+05,   2.72136697e+05,   1.21004445e+05,\n",
       "         1.14148027e+05,   2.61783740e+05,   2.66342809e+05,\n",
       "         1.01454519e+05,  -5.56183088e+09,   9.78960299e+04,\n",
       "         3.87081170e+05,   3.00872735e+05,   2.91666073e+05,\n",
       "         1.30289020e+05,   1.58697303e+05,   1.42825891e+05,\n",
       "         1.19075411e+05,   1.41599613e+05,   8.99115254e+04,\n",
       "         1.50041746e+05,   1.07103579e+05,   1.78274165e+05,\n",
       "         3.67789239e+05,   1.62406952e+05,   2.46336448e+05,\n",
       "         1.86952712e+05,   1.68855924e+05,   2.50408422e+05,\n",
       "         8.59559208e+04,   2.87048133e+05,   3.94297207e+05,\n",
       "         2.75248401e+05,   2.38912798e+05,   7.19743633e+04,\n",
       "         1.52474812e+05,   1.62730259e+05,   1.35752815e+05,\n",
       "         1.53313113e+05,   2.48021736e+05,   2.10629531e+05,\n",
       "         1.19661876e+05,   2.33511119e+05,   1.46970873e+05,\n",
       "         1.36445916e+05,   1.29297368e+05,   3.20846768e+05,\n",
       "         2.71262793e+05,   1.68646824e+05,   1.07015400e+05,\n",
       "         1.28249757e+05,   3.77474998e+05,   1.03623800e+05,\n",
       "         2.94089337e+05,   1.05034213e+05,   1.33413145e+05,\n",
       "         1.63174985e+05,   1.60515094e+05,   2.17086082e+05,\n",
       "         1.99249866e+05,   1.51516155e+05,   1.26704251e+05,\n",
       "         1.93189551e+05,   2.06292310e+05,   1.99812891e+05,\n",
       "         2.92544693e+05,   2.46857203e+05,   1.28021759e+05,\n",
       "         1.50540543e+05,   2.13529222e+05,   1.21334804e+05,\n",
       "         1.83081122e+05,   8.55037332e+04,   1.99610924e+05,\n",
       "         2.61258959e+05,   3.16878370e+05,   1.37519929e+05,\n",
       "         2.13015544e+05,   1.61926979e+05,   6.91047480e+04,\n",
       "         8.56983531e+04,   2.29179126e+05,   1.61114690e+05,\n",
       "         1.31229949e+05,   1.66033652e+05,   2.48566166e+05,\n",
       "         2.50147091e+05,   3.36202957e+05,   1.41302460e+05,\n",
       "         2.07319690e+05,   2.56307787e+05,   2.52710078e+05,\n",
       "         1.63658746e+05,   3.27445227e+05,   1.61193673e+05,\n",
       "         1.57302170e+05,   2.74362486e+05,   3.04230260e+05,\n",
       "         1.28085323e+05,   1.63230154e+05,   1.01332474e+05,\n",
       "         1.75161250e+05,   9.49370800e+04,   1.81076044e+05,\n",
       "         1.96377007e+05,   1.34063806e+05,   1.20150109e+05,\n",
       "         1.23565294e+05,   1.02536427e+05,   1.93895973e+05,\n",
       "         7.07804973e+04,   1.73604449e+05,   1.81294212e+05,\n",
       "         2.08088670e+05,   1.39073390e+05,   4.82027636e+05,\n",
       "         1.37792452e+05,   8.06574145e+04,   2.13763214e+05,\n",
       "         4.21051751e+05,   1.59985671e+05,   1.82927628e+05,\n",
       "         2.39030347e+05,   1.96735395e+05,   1.07694016e+05,\n",
       "         8.06035707e+04,   1.49356181e+05,   1.34378441e+05,\n",
       "         1.74277858e+05,   1.25568543e+05,   2.97255610e+05,\n",
       "         4.34368751e+05,   1.46761434e+05,   1.08678788e+05,\n",
       "         1.90011413e+05,   8.29864236e+04,   1.24342387e+05,\n",
       "         1.38681366e+05,   1.16348000e+05,   1.79798132e+05,\n",
       "         1.32683025e+05,   2.64939459e+05,   1.84503839e+05,\n",
       "         2.11258891e+05,   1.77670640e+05,   1.20082258e+05,\n",
       "         1.18850157e+05,   8.07162946e+04,   3.38737483e+05,\n",
       "         1.31081524e+05,   1.07543106e+05,   2.03379217e+05,\n",
       "         1.45091393e+05,   1.46769527e+05,   1.62786567e+05,\n",
       "         1.25278561e+05,   1.55557672e+05,   1.40423464e+05,\n",
       "         1.35297425e+05,   2.10345022e+05,   3.84258651e+05,\n",
       "         1.08408521e+05,   1.23522258e+05,   1.78629855e+05,\n",
       "         2.44535502e+05,   2.53685274e+05,   2.03639918e+05,\n",
       "         1.89948680e+05,   1.01707499e+05,   2.12887760e+05,\n",
       "         9.77067751e+04,   2.92449378e+05,   7.59974852e+04,\n",
       "         2.82316904e+05,   1.35984887e+05,   1.98524023e+05,\n",
       "         3.09585012e+05,   7.73219633e+04,   1.50754252e+05,\n",
       "         1.55204484e+05,   1.11371230e+05,   2.17458694e+05,\n",
       "         1.74436357e+05,   1.15969204e+05,   1.34301507e+05,\n",
       "         1.21230621e+05,   9.22864106e+04,   1.90056983e+05,\n",
       "         2.07460323e+05,   2.09535196e+05,   2.19448065e+05,\n",
       "         2.33770405e+05,   1.62559995e+05,   1.33875478e+05,\n",
       "         1.95234746e+05,   1.72874541e+05,   2.35123211e+05,\n",
       "         2.32872628e+05,   4.78555752e+05,   1.16173044e+05,\n",
       "         1.14027162e+05,   1.04779067e+05,   2.00928437e+05,\n",
       "         2.34792556e+05,   2.16555221e+05,   1.04984247e+05,\n",
       "         1.92402490e+05,   1.85977630e+05,   1.10405913e+05,\n",
       "         1.21341706e+05,   1.30114299e+05,   1.58721002e+05,\n",
       "         2.00184721e+05,   1.87659583e+05,   1.02972387e+05,\n",
       "         1.37131002e+05,   1.26258760e+05,   7.25997594e+04,\n",
       "         1.16293495e+05,   2.11522118e+05,   1.51439428e+05,\n",
       "         3.78722945e+05,   3.10189028e+05,   1.81981037e+05,\n",
       "         1.03210007e+05,   1.23707721e+05,   1.53441998e+05,\n",
       "         1.04944856e+05,   2.47512227e+05,   2.29299092e+05,\n",
       "         8.17461540e+04,   1.12937074e+05,   2.85192015e+05,\n",
       "         1.32242421e+05,   9.69022256e+04,   1.75918535e+05,\n",
       "         1.75747741e+05,   1.98762143e+05,   7.85360515e+04,\n",
       "         1.43492096e+05,   1.69023724e+05,   1.08443129e+05,\n",
       "         7.46971525e+04,   1.42133889e+05,   1.82665391e+05,\n",
       "         1.01185921e+05,   1.32775798e+05,   1.71237598e+05,\n",
       "         1.27286123e+05,   1.34709803e+05,   1.15643276e+05,\n",
       "         1.12812938e+05,   2.42512672e+05,   1.63038591e+05,\n",
       "         3.35411739e+05,   1.54042603e+05,   1.05695344e+05,\n",
       "         1.63582653e+05,   1.10376680e+05,   1.54613279e+05,\n",
       "         1.41560698e+05,   3.00554254e+05,   1.34171657e+05,\n",
       "         1.71307370e+05,   1.23594176e+05,   1.65518725e+05,\n",
       "         2.16546355e+05,   1.56639124e+05,   2.29709660e+05,\n",
       "         1.51878932e+05,   2.59410358e+05,   1.47282788e+05,\n",
       "         1.97928545e+05,   1.77781759e+05,   3.53856816e+05,\n",
       "         3.00516405e+05,   7.16920909e+04,   2.33249621e+05,\n",
       "         1.29023319e+05,   1.46109575e+05,   1.94708977e+05,\n",
       "         1.72126229e+05,   3.59346715e+05,   8.60980348e+04,\n",
       "         2.10679471e+05,   9.60908757e+04,   1.16236823e+05,\n",
       "         1.44868896e+05,   1.33485387e+05,   4.78369596e+05,\n",
       "         1.50425624e+05,   2.87189667e+05,   9.17154121e+04,\n",
       "         2.14560040e+05,   3.20420830e+05,   1.72636297e+05,\n",
       "         1.43117329e+05,   2.77517820e+05,   1.51246700e+05,\n",
       "         2.13324132e+05,   7.77654119e+04,   3.18637508e+05,\n",
       "         1.85278227e+05,   1.35825609e+05,   3.24175852e+05,\n",
       "         1.24534454e+05,   2.26383270e+05,   2.52566214e+05,\n",
       "         2.92995760e+05,   3.34620980e+05,   1.63138610e+05,\n",
       "         2.34184546e+05,   1.35028971e+05,   2.45097022e+05,\n",
       "         1.39288990e+05,   9.68575107e+04,   1.66720265e+05,\n",
       "         7.57572977e+04,   1.48241526e+05,   2.28325169e+05,\n",
       "         9.98642432e+04,   1.10070792e+05])"
      ]
     },
     "execution_count": 39,
     "metadata": {},
     "output_type": "execute_result"
    }
   ],
   "source": [
    "lin_reg2.predict(val_X2)"
   ]
  },
  {
   "cell_type": "code",
   "execution_count": 41,
   "metadata": {},
   "outputs": [
    {
     "data": {
      "text/plain": [
       "-13393505.663228959"
      ]
     },
     "execution_count": 41,
     "metadata": {},
     "output_type": "execute_result"
    }
   ],
   "source": [
    "lin_reg2.score(val_X2, val_y2)"
   ]
  },
  {
   "cell_type": "markdown",
   "metadata": {},
   "source": [
    "# Ridge"
   ]
  },
  {
   "cell_type": "code",
   "execution_count": 25,
   "metadata": {},
   "outputs": [],
   "source": [
    "from sklearn.linear_model import LassoCV\n",
    "from sklearn.linear_model import RidgeCV"
   ]
  },
  {
   "cell_type": "code",
   "execution_count": 26,
   "metadata": {},
   "outputs": [
    {
     "data": {
      "text/plain": [
       "0.91410659278816686"
      ]
     },
     "execution_count": 26,
     "metadata": {},
     "output_type": "execute_result"
    }
   ],
   "source": [
    "ridge_reg = RidgeCV(cv=12)\n",
    "\n",
    "ridge_reg.fit(train_X, train_y)\n",
    "\n",
    "ridge_reg.predict(val_X)\n",
    "\n",
    "ridge_reg.score(val_X, val_y)"
   ]
  },
  {
   "cell_type": "code",
   "execution_count": 42,
   "metadata": {},
   "outputs": [
    {
     "data": {
      "text/plain": [
       "0.91228513286015223"
      ]
     },
     "execution_count": 42,
     "metadata": {},
     "output_type": "execute_result"
    }
   ],
   "source": [
    "ridge_reg2 = RidgeCV(cv=12)\n",
    "\n",
    "ridge_reg2.fit(train_X2, train_y2)\n",
    "\n",
    "ridge_reg2.predict(val_X2)\n",
    "\n",
    "ridge_reg2.score(val_X2, val_y2)"
   ]
  },
  {
   "cell_type": "markdown",
   "metadata": {},
   "source": [
    "# Lasso"
   ]
  },
  {
   "cell_type": "code",
   "execution_count": 43,
   "metadata": {},
   "outputs": [
    {
     "data": {
      "text/plain": [
       "0.81392293292530038"
      ]
     },
     "execution_count": 43,
     "metadata": {},
     "output_type": "execute_result"
    }
   ],
   "source": [
    "lasso_reg = LassoCV(cv=10)\n",
    "\n",
    "lasso_reg.fit(train_X, train_y)\n",
    "\n",
    "lasso_reg.predict(val_X)\n",
    "\n",
    "lasso_reg.score(val_X, val_y)"
   ]
  },
  {
   "cell_type": "code",
   "execution_count": 44,
   "metadata": {},
   "outputs": [
    {
     "data": {
      "text/plain": [
       "0.79627742009337477"
      ]
     },
     "execution_count": 44,
     "metadata": {},
     "output_type": "execute_result"
    }
   ],
   "source": [
    "lasso_reg2 = LassoCV(cv=10)\n",
    "\n",
    "lasso_reg2.fit(train_X2, train_y2)\n",
    "\n",
    "lasso_reg2.predict(val_X2)\n",
    "\n",
    "lasso_reg2.score(val_X2, val_y2)"
   ]
  },
  {
   "cell_type": "markdown",
   "metadata": {},
   "source": [
    "# Predicting on the test values"
   ]
  },
  {
   "cell_type": "code",
   "execution_count": 46,
   "metadata": {},
   "outputs": [],
   "source": [
    "submission4 = pd.DataFrame([test_df.Id, lin_reg2.predict(X_2test)]).T"
   ]
  },
  {
   "cell_type": "code",
   "execution_count": 47,
   "metadata": {},
   "outputs": [],
   "source": [
    "submission5 = pd.DataFrame([test_df.Id, ridge_reg2.predict(X_2test)]).T"
   ]
  },
  {
   "cell_type": "code",
   "execution_count": 48,
   "metadata": {},
   "outputs": [],
   "source": [
    "submission6 = pd.DataFrame([test_df.Id, lasso_reg.predict(X_2test)]).T"
   ]
  },
  {
   "cell_type": "code",
   "execution_count": 28,
   "metadata": {},
   "outputs": [],
   "source": [
    "submission7 = pd.DataFrame([test_df.Id, lin_reg.predict(X_test)]).T"
   ]
  },
  {
   "cell_type": "code",
   "execution_count": 29,
   "metadata": {},
   "outputs": [],
   "source": [
    "submission8 = pd.DataFrame([test_df.Id,ridge_reg.predict(X_test)]).T"
   ]
  },
  {
   "cell_type": "code",
   "execution_count": 30,
   "metadata": {},
   "outputs": [],
   "source": [
    "submission9 = pd.DataFrame([test_df.Id,lasso_reg.predict(X_test)]).T"
   ]
  },
  {
   "cell_type": "code",
   "execution_count": 30,
   "metadata": {},
   "outputs": [],
   "source": [
    "submission7.to_csv('c:\\\\users\\\\chris\\\\csv files\\\\submission7.csv')"
   ]
  },
  {
   "cell_type": "code",
   "execution_count": 31,
   "metadata": {},
   "outputs": [],
   "source": [
    "submission8.to_csv('c:\\\\users\\\\chris\\\\csv files\\\\submission8.csv')"
   ]
  },
  {
   "cell_type": "code",
   "execution_count": 32,
   "metadata": {},
   "outputs": [],
   "source": [
    "submission9.to_csv('c:\\\\users\\\\chris\\\\csv files\\\\submission9.csv')"
   ]
  }
 ],
 "metadata": {
  "kernelspec": {
   "display_name": "Python 3",
   "language": "python",
   "name": "python3"
  },
  "language_info": {
   "codemirror_mode": {
    "name": "ipython",
    "version": 3
   },
   "file_extension": ".py",
   "mimetype": "text/x-python",
   "name": "python",
   "nbconvert_exporter": "python",
   "pygments_lexer": "ipython3",
   "version": "3.6.3"
  }
 },
 "nbformat": 4,
 "nbformat_minor": 2
}
