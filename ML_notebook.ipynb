{
 "cells": [
  {
   "cell_type": "markdown",
   "metadata": {},
   "source": [
    "## Importing Data and making Dataframe"
   ]
  },
  {
   "cell_type": "code",
   "execution_count": 696,
   "metadata": {},
   "outputs": [],
   "source": [
    "import pandas as pd\n",
    "import numpy as np\n",
    "from scipy import stats\n",
    "import matplotlib.pyplot as plt\n",
    "from scipy import stats\n",
    "\n",
    "from sklearn import linear_model\n",
    "\n",
    "test = pd.read_csv('test.csv')\n",
    "train = pd.read_csv('train.csv')\n",
    "\n",
    "train2 = train.copy()\n",
    "\n",
    "train2 = train2.drop('Id',axis=1)"
   ]
  },
  {
   "cell_type": "code",
   "execution_count": 697,
   "metadata": {},
   "outputs": [
    {
     "name": "stdout",
     "output_type": "stream",
     "text": [
      "Index(['MSSubClass', 'MSZoning', 'LotFrontage', 'LotArea', 'Street', 'Alley',\n",
      "       'LotShape', 'LandContour', 'Utilities', 'LotConfig', 'LandSlope',\n",
      "       'Neighborhood', 'Condition1', 'Condition2', 'BldgType', 'HouseStyle',\n",
      "       'OverallQual', 'OverallCond', 'YearBuilt', 'YearRemodAdd', 'RoofStyle',\n",
      "       'RoofMatl', 'Exterior1st', 'Exterior2nd', 'MasVnrType', 'MasVnrArea',\n",
      "       'ExterQual', 'ExterCond', 'Foundation', 'BsmtQual', 'BsmtCond',\n",
      "       'BsmtExposure', 'BsmtFinType1', 'BsmtFinSF1', 'BsmtFinType2',\n",
      "       'BsmtFinSF2', 'BsmtUnfSF', 'TotalBsmtSF', 'Heating', 'HeatingQC',\n",
      "       'CentralAir', 'Electrical', '1stFlrSF', '2ndFlrSF', 'LowQualFinSF',\n",
      "       'GrLivArea', 'BsmtFullBath', 'BsmtHalfBath', 'FullBath', 'HalfBath',\n",
      "       'BedroomAbvGr', 'KitchenAbvGr', 'KitchenQual', 'TotRmsAbvGrd',\n",
      "       'Functional', 'Fireplaces', 'FireplaceQu', 'GarageType', 'GarageYrBlt',\n",
      "       'GarageFinish', 'GarageCars', 'GarageArea', 'GarageQual', 'GarageCond',\n",
      "       'PavedDrive', 'WoodDeckSF', 'OpenPorchSF', 'EnclosedPorch', '3SsnPorch',\n",
      "       'ScreenPorch', 'PoolArea', 'PoolQC', 'Fence', 'MiscFeature', 'MiscVal',\n",
      "       'MoSold', 'YrSold', 'SaleType', 'SaleCondition', 'SalePrice'],\n",
      "      dtype='object')\n"
     ]
    },
    {
     "data": {
      "text/plain": [
       "(1460, 80)"
      ]
     },
     "execution_count": 697,
     "metadata": {},
     "output_type": "execute_result"
    }
   ],
   "source": [
    "print(train2.keys())\n",
    "train2.shape"
   ]
  },
  {
   "cell_type": "markdown",
   "metadata": {},
   "source": [
    "## Identifying NAs"
   ]
  },
  {
   "cell_type": "code",
   "execution_count": 648,
   "metadata": {},
   "outputs": [
    {
     "data": {
      "text/plain": [
       "<matplotlib.axes._subplots.AxesSubplot at 0x113b9c81a58>"
      ]
     },
     "execution_count": 648,
     "metadata": {},
     "output_type": "execute_result"
    },
    {
     "data": {
      "image/png": "[encoded data removed]",
      "text/plain": [
       "<matplotlib.figure.Figure at 0x113b9c14d68>"
      ]
     },
     "metadata": {},
     "output_type": "display_data"
    }
   ],
   "source": [
    "%matplotlib inline\n",
    "\n",
    "missing = train2.isnull().sum()\n",
    "missing = missing[missing > 0]\n",
    "missing.sort_values(inplace=True)\n",
    "missing.plot.bar()"
   ]
  },
  {
   "cell_type": "code",
   "execution_count": 649,
   "metadata": {},
   "outputs": [
    {
     "data": {
      "text/plain": [
       "array(['WD', 'New', 'COD', 'ConLD', 'ConLI', 'CWD', 'ConLw', 'Con', 'Oth'], dtype=object)"
      ]
     },
     "execution_count": 649,
     "metadata": {},
     "output_type": "execute_result"
    }
   ],
   "source": [
    "train2[\"SaleType\"].unique()"
   ]
  },
  {
   "cell_type": "code",
   "execution_count": 650,
   "metadata": {},
   "outputs": [
    {
     "data": {
      "text/plain": [
       "Index(['MSSubClass', 'MSZoning', 'LotFrontage', 'LotArea', 'Street', 'Alley',\n",
       "       'LotShape', 'LandContour', 'Utilities', 'LotConfig', 'LandSlope',\n",
       "       'Neighborhood', 'Condition1', 'Condition2', 'BldgType', 'HouseStyle',\n",
       "       'OverallQual', 'OverallCond', 'YearBuilt', 'YearRemodAdd', 'RoofStyle',\n",
       "       'RoofMatl', 'Exterior1st', 'Exterior2nd', 'MasVnrType', 'MasVnrArea',\n",
       "       'ExterQual', 'ExterCond', 'Foundation', 'BsmtQual', 'BsmtCond',\n",
       "       'BsmtExposure', 'BsmtFinType1', 'BsmtFinSF1', 'BsmtFinType2',\n",
       "       'BsmtFinSF2', 'BsmtUnfSF', 'TotalBsmtSF', 'Heating', 'HeatingQC',\n",
       "       'CentralAir', 'Electrical', '1stFlrSF', '2ndFlrSF', 'LowQualFinSF',\n",
       "       'GrLivArea', 'BsmtFullBath', 'BsmtHalfBath', 'FullBath', 'HalfBath',\n",
       "       'BedroomAbvGr', 'KitchenAbvGr', 'KitchenQual', 'TotRmsAbvGrd',\n",
       "       'Functional', 'Fireplaces', 'FireplaceQu', 'GarageType', 'GarageYrBlt',\n",
       "       'GarageFinish', 'GarageCars', 'GarageArea', 'GarageQual', 'GarageCond',\n",
       "       'PavedDrive', 'WoodDeckSF', 'OpenPorchSF', 'EnclosedPorch', '3SsnPorch',\n",
       "       'ScreenPorch', 'PoolArea', 'PoolQC', 'Fence', 'MiscFeature', 'MiscVal',\n",
       "       'MoSold', 'YrSold', 'SaleType', 'SaleCondition', 'SalePrice'],\n",
       "      dtype='object')"
      ]
     },
     "execution_count": 650,
     "metadata": {},
     "output_type": "execute_result"
    }
   ],
   "source": [
    "quant = [f for f in train2.columns if train2.dtypes[f] != 'object']\n",
    "#qual = [f for f in train2.columns if train2.dtypes[f] == 'object']\n",
    "\n",
    "train2[quant]\n",
    "train2.columns"
   ]
  },
  {
   "cell_type": "code",
   "execution_count": 673,
   "metadata": {},
   "outputs": [
    {
     "data": {
      "text/plain": [
       "LinearRegression(copy_X=True, fit_intercept=True, n_jobs=1, normalize=False)"
      ]
     },
     "execution_count": 673,
     "metadata": {},
     "output_type": "execute_result"
    }
   ],
   "source": [
    "from sklearn import linear_model\n",
    "ols = linear_model.LinearRegression()\n",
    "## fit your linear model with fit() function\n",
    "ols.fit(train2[['SalePrice']], train2['LotArea'])"
   ]
  },
  {
   "cell_type": "code",
   "execution_count": 698,
   "metadata": {},
   "outputs": [
    {
     "data": {
      "text/plain": [
       "Electrical         1\n",
       "MasVnrType         8\n",
       "MasVnrArea         8\n",
       "BsmtQual          37\n",
       "BsmtCond          37\n",
       "BsmtFinType1      37\n",
       "BsmtExposure      38\n",
       "BsmtFinType2      38\n",
       "GarageCond        81\n",
       "GarageQual        81\n",
       "GarageFinish      81\n",
       "GarageType        81\n",
       "GarageYrBlt       81\n",
       "LotFrontage      259\n",
       "FireplaceQu      690\n",
       "Fence           1179\n",
       "Alley           1369\n",
       "MiscFeature     1406\n",
       "PoolQC          1453\n",
       "dtype: int64"
      ]
     },
     "execution_count": 698,
     "metadata": {},
     "output_type": "execute_result"
    }
   ],
   "source": [
    "train2.isnull().sum().sort_values(ascending=False)\n",
    "missing[missing>0] "
   ]
  },
  {
   "cell_type": "code",
   "execution_count": 674,
   "metadata": {},
   "outputs": [
    {
     "data": {
      "text/plain": [
       "<matplotlib.axes._subplots.AxesSubplot at 0x113ba4a82e8>"
      ]
     },
     "execution_count": 674,
     "metadata": {},
     "output_type": "execute_result"
    },
    {
     "data": {
      "image/png": "[encoded data removed]",
      "text/plain": [
       "<matplotlib.figure.Figure at 0x113ba43ac18>"
      ]
     },
     "metadata": {},
     "output_type": "display_data"
    }
   ],
   "source": [
    "histlot = train2[train2['LotFrontage'].notnull()]\n",
    "sns.distplot(dummy_train.TotalBsmtSF, kde=False, fit=st.johnsonsu)"
   ]
  },
  {
   "cell_type": "code",
   "execution_count": 675,
   "metadata": {},
   "outputs": [
    {
     "data": {
      "text/plain": [
       "count    1201.000000\n",
       "mean       70.049958\n",
       "std        24.284752\n",
       "min        21.000000\n",
       "25%        59.000000\n",
       "50%        69.000000\n",
       "75%        80.000000\n",
       "max       313.000000\n",
       "Name: LotFrontage, dtype: float64"
      ]
     },
     "execution_count": 675,
     "metadata": {},
     "output_type": "execute_result"
    }
   ],
   "source": [
    "train2[train2['LotFrontage'].notnull()].LotFrontage.describe()"
   ]
  },
  {
   "cell_type": "markdown",
   "metadata": {},
   "source": [
    "## Cleaning and munging Data"
   ]
  },
  {
   "cell_type": "code",
   "execution_count": 699,
   "metadata": {},
   "outputs": [],
   "source": [
    "train2['PoolQC'].fillna('No Pool',inplace = True)\n",
    "train2['MiscFeature'].fillna('None',inplace = True)\n",
    "train2['Alley'].fillna('No Alley Access',inplace = True)\n",
    "train2['Fence'].fillna('No Fence',inplace = True)\n",
    "train2['FireplaceQu'].fillna('No Fireplace',inplace = True)\n",
    "train2['LotFrontage'] = train2['LotFrontage'].fillna(train2.groupby(['Neighborhood'])['LotFrontage'].transform('mean').round())\n",
    "train2['GarageYrBlt'].fillna('No Garage',inplace = True)\n",
    "train2['GarageType'].fillna('No Garage',inplace = True)\n",
    "train2['GarageFinish'].fillna('No Garage',inplace = True)\n",
    "train2['GarageQual'].fillna('No Garage',inplace = True)\n",
    "train2['GarageCond'].fillna('No Garage',inplace = True)\n",
    "train2['BsmtFinType2'].fillna('No Garage',inplace = True)\n",
    "train2['BsmtExposure'].fillna('No Garage',inplace = True)\n",
    "train2['BsmtFinType1'].fillna('No Garage',inplace = True)\n",
    "train2['BsmtCond'].fillna('No Garage',inplace = True)\n",
    "train2['BsmtQual'].fillna('No Garage',inplace = True)\n",
    "train2['MasVnrArea'].fillna(0,inplace = True)\n",
    "train2['MasVnrType'].fillna('None',inplace = True)\n",
    "train2['Electrical'].fillna('SBrkr', inplace = True)"
   ]
  },
  {
   "cell_type": "code",
   "execution_count": 700,
   "metadata": {},
   "outputs": [
    {
     "data": {
      "text/plain": [
       "MSSubClass        1.407657\n",
       "LotFrontage       2.165893\n",
       "LotArea          12.207688\n",
       "OverallQual       0.216944\n",
       "OverallCond       0.693067\n",
       "YearBuilt        -0.613461\n",
       "YearRemodAdd     -0.503562\n",
       "MasVnrArea        2.677616\n",
       "BsmtFinSF1        1.685503\n",
       "BsmtFinSF2        4.255261\n",
       "BsmtUnfSF         0.920268\n",
       "TotalBsmtSF       1.524255\n",
       "1stFlrSF          1.376757\n",
       "2ndFlrSF          0.813030\n",
       "LowQualFinSF      9.011341\n",
       "GrLivArea         1.366560\n",
       "BsmtFullBath      0.596067\n",
       "BsmtHalfBath      4.103403\n",
       "FullBath          0.036562\n",
       "HalfBath          0.675897\n",
       "BedroomAbvGr      0.211790\n",
       "KitchenAbvGr      4.488397\n",
       "TotRmsAbvGrd      0.676341\n",
       "Fireplaces        0.649565\n",
       "GarageCars       -0.342549\n",
       "GarageArea        0.179981\n",
       "WoodDeckSF        1.541376\n",
       "OpenPorchSF       2.364342\n",
       "EnclosedPorch     3.089872\n",
       "3SsnPorch        10.304342\n",
       "ScreenPorch       4.122214\n",
       "PoolArea         14.828374\n",
       "MiscVal          24.476794\n",
       "MoSold            0.212053\n",
       "YrSold            0.096269\n",
       "SalePrice         1.882876\n",
       "dtype: float64"
      ]
     },
     "execution_count": 700,
     "metadata": {},
     "output_type": "execute_result"
    }
   ],
   "source": [
    "#stats.skew(train2[quant])\n",
    "train2.skew()"
   ]
  },
  {
   "cell_type": "markdown",
   "metadata": {},
   "source": [
    "## Normalizing Data"
   ]
  },
  {
   "cell_type": "code",
   "execution_count": 678,
   "metadata": {},
   "outputs": [
    {
     "data": {
      "text/plain": [
       "PoolArea    40.177307\n",
       "dtype: float64"
      ]
     },
     "execution_count": 678,
     "metadata": {},
     "output_type": "execute_result"
    },
    {
     "data": {
      "image/png": "[encoded data removed]",
      "text/plain": [
       "<matplotlib.figure.Figure at 0x113cef59588>"
      ]
     },
     "metadata": {},
     "output_type": "display_data"
    }
   ],
   "source": [
    "import scipy.stats as st\n",
    "import seaborn as sns\n",
    "\n",
    "y = pd.DataFrame(train2.PoolArea)\n",
    "\n",
    "plt.figure(1); plt.title('Johnson SU')\n",
    "sns.distplot(y, kde=False, fit=st.johnsonsu)\n",
    "\n",
    "y.std()"
   ]
  },
  {
   "cell_type": "code",
   "execution_count": 701,
   "metadata": {},
   "outputs": [],
   "source": [
    "train2.GrLivArea = np.log1p(train2.GrLivArea)\n",
    "train2.MasVnrArea = np.log1p(train2.MasVnrArea)\n",
    "train2.TotalBsmtSF = np.log1p(train2.TotalBsmtSF)\n",
    "train2.LotFrontage = np.log1p(train2.LotFrontage)\n",
    "train2.LotArea = np.log1p(train2.LotArea)\n",
    "train2.SalePrice = np.log1p(train2.SalePrice)\n",
    "#train2.MiscVal = np.log1p(train2.MiscVal)\n",
    "#train2.BsmtFinSF1 = np.log1p(train2.BsmtFinSF1)\n",
    "#train2.BsmtHalfBath = np.log1p(train2.BsmtHalfBath)\n",
    "#train2.BsmtFinSF2 = np.log1p(train2.BsmtFinSF2)\n",
    "#train2['1stFlrSF'] = np.log1p(train2['1stFlrSF'])\n",
    "#train2.OpenPorchSF = np.log1p(train2.OpenPorchSF)\n",
    "#train2.WoodDeckSF = np.log1p(train2.WoodDeckSF)\n",
    "#train2.BsmtHalfBath = np.log1p(train2.BsmtHalfBath)"
   ]
  },
  {
   "cell_type": "code",
   "execution_count": 702,
   "metadata": {},
   "outputs": [],
   "source": [
    "quant_feats = ['LotFrontage','LotArea','MasVnrArea','BsmtFinSF1','BsmtFinSF2','BsmtUnfSF',\n",
    "              'TotalBsmtSF','1stFlrSF','2ndFlrSF','LowQualFinSF','GrLivArea','BsmtFullBath',\n",
    "              'BsmtHalfBath','FullBath','HalfBath','BedroomAbvGr','KitchenAbvGr',\n",
    "              'TotRmsAbvGrd','Fireplaces','GarageCars','GarageArea','WoodDeckSF',\n",
    "              'OpenPorchSF','EnclosedPorch','3SsnPorch','ScreenPorch','PoolArea',\n",
    "              'MiscVal','SalePrice','YearBuilt','YearRemodAdd']\n",
    "\n",
    "qual_feats = [item for item in train2.columns if item not in quant_feats]"
   ]
  },
  {
   "cell_type": "code",
   "execution_count": 703,
   "metadata": {},
   "outputs": [],
   "source": [
    "train2[qual_feats] = train2[qual_feats].astype(object)"
   ]
  },
  {
   "cell_type": "code",
   "execution_count": 704,
   "metadata": {},
   "outputs": [
    {
     "data": {
      "image/png": "[encoded data removed]",
      "text/plain": [
       "<matplotlib.figure.Figure at 0x113d0871908>"
      ]
     },
     "metadata": {},
     "output_type": "display_data"
    }
   ],
   "source": [
    "import numpy as np \n",
    "import pylab \n",
    "import scipy.stats as stats\n",
    "  \n",
    "stats.probplot(train2.LotFrontage, dist=\"norm\", plot=pylab)\n",
    "pylab.show()"
   ]
  },
  {
   "cell_type": "markdown",
   "metadata": {},
   "source": [
    "## Dummyfying the Data"
   ]
  },
  {
   "cell_type": "code",
   "execution_count": 706,
   "metadata": {},
   "outputs": [],
   "source": [
    "df = train2.copy()"
   ]
  },
  {
   "cell_type": "code",
   "execution_count": 707,
   "metadata": {},
   "outputs": [],
   "source": [
    "qual_dummies = pd.get_dummies(df[qual_feats], drop_first = True)"
   ]
  },
  {
   "cell_type": "code",
   "execution_count": 708,
   "metadata": {},
   "outputs": [],
   "source": [
    "#qual_dummies.shape\n",
    "dummy_train = pd.concat([train2[quant_feats],qual_dummies],axis = 1)"
   ]
  },
  {
   "cell_type": "code",
   "execution_count": 686,
   "metadata": {},
   "outputs": [
    {
     "data": {
      "text/plain": [
       "<matplotlib.axes._subplots.AxesSubplot at 0x113cfce35c0>"
      ]
     },
     "execution_count": 686,
     "metadata": {},
     "output_type": "execute_result"
    },
    {
     "data": {
      "image/png": "[encoded data removed]",
      "text/plain": [
       "<matplotlib.figure.Figure at 0x113cf429a90>"
      ]
     },
     "metadata": {},
     "output_type": "display_data"
    }
   ],
   "source": [
    "sns.heatmap(train2[quant].sample(15, axis=1).corr())"
   ]
  },
  {
   "cell_type": "code",
   "execution_count": 709,
   "metadata": {},
   "outputs": [],
   "source": [
    "#dummy_train.iloc[[1298]]\n",
    "dummy_train.drop(dummy_train.index[1298], inplace = True)\n",
    "dummy_train.drop(dummy_train.index[523], inplace = True)\n",
    "dummy_train.drop(dummy_train.index[1182], inplace = True)"
   ]
  },
  {
   "cell_type": "code",
   "execution_count": 710,
   "metadata": {},
   "outputs": [
    {
     "data": {
      "text/plain": [
       "[1457, 397]"
      ]
     },
     "execution_count": 710,
     "metadata": {},
     "output_type": "execute_result"
    }
   ],
   "source": [
    "list(dummy_train.shape)"
   ]
  },
  {
   "cell_type": "markdown",
   "metadata": {},
   "source": [
    "## Regression"
   ]
  },
  {
   "cell_type": "code",
   "execution_count": 711,
   "metadata": {},
   "outputs": [],
   "source": [
    "from sklearn.model_selection import train_test_split\n",
    "from sklearn.linear_model import LinearRegression"
   ]
  },
  {
   "cell_type": "code",
   "execution_count": 712,
   "metadata": {},
   "outputs": [],
   "source": [
    "y = dummy_train.SalePrice\n",
    "X = dummy_train.loc[:, dummy_train.columns != 'SalePrice']"
   ]
  },
  {
   "cell_type": "code",
   "execution_count": 713,
   "metadata": {},
   "outputs": [],
   "source": [
    "train_X, val_X, train_y, val_y = train_test_split(X, y,test_size = 0.25,random_state=0)"
   ]
  },
  {
   "cell_type": "code",
   "execution_count": 714,
   "metadata": {},
   "outputs": [],
   "source": [
    "kag_reg = LinearRegression()"
   ]
  },
  {
   "cell_type": "code",
   "execution_count": 715,
   "metadata": {},
   "outputs": [
    {
     "data": {
      "text/plain": [
       "LinearRegression(copy_X=True, fit_intercept=True, n_jobs=1, normalize=False)"
      ]
     },
     "execution_count": 715,
     "metadata": {},
     "output_type": "execute_result"
    }
   ],
   "source": [
    "kag_reg.fit(train_X,train_y, sample_weight=None)"
   ]
  },
  {
   "cell_type": "code",
   "execution_count": 716,
   "metadata": {},
   "outputs": [
    {
     "data": {
      "text/plain": [
       "array([ 11.80388098,  12.09058497,  11.52262086,  11.80778303,\n",
       "        12.67907499,  11.88468175,  12.05646217,  11.76956538,\n",
       "        11.86048751,  12.47338825,  12.02688845,  12.26130533,\n",
       "        12.11078017,  11.89383406,  11.30175105,  11.925358  ,\n",
       "        12.20823219,  11.3620985 ,  12.02200284,  13.06215624,\n",
       "        12.55253996,  11.99333785,  12.62985055,  11.60083162,\n",
       "        11.69876533,  11.77220618,  11.70846997,  11.25243261,\n",
       "        11.89175414,  12.60763157,  11.9924625 ,  12.35185074,\n",
       "        12.29063779,  12.17143393,  13.01059937,  11.92905909,\n",
       "        11.8010004 ,  12.11266355,  11.90617691,  11.56045016,\n",
       "        11.74687568,  12.20822338,  12.50311476,  11.63879954,\n",
       "        12.32355072,  11.75287874,  12.53867954,  11.80267627,\n",
       "        11.67289306,  12.42801173,  12.47938687,  11.52177607,\n",
       "        11.57518904,  11.88547946,  12.91025074,  12.41482935,\n",
       "        12.56578595,  11.73153168,  12.09180679,  11.84813415,\n",
       "        11.70708846,  11.76434546,  11.58213642,  11.85701347,\n",
       "        11.93199458,  12.04214722,  12.80647453,  11.95799244,\n",
       "        12.35616288,  12.02198054,  12.05364414,  12.37777933,\n",
       "        11.4465278 ,  12.47019781,  12.98032393,  12.56230695,\n",
       "        12.31803276,  11.18206296,  11.90685122,  11.96615061,\n",
       "        11.67072708,  11.8696106 ,  12.45560215,  12.2701561 ,\n",
       "        11.78428814,  12.28708801,  11.76836686,  11.84210276,\n",
       "        11.78238462,  12.66959025,  12.56703937,  11.98240003,\n",
       "        11.73720203,  11.75332088,  12.84519098,  11.57275464,\n",
       "        12.5316191 ,  11.67860482,  11.86323373,  12.03476818,\n",
       "        11.86791594,  12.28378237,  12.16201301,  11.89174084,\n",
       "        11.92024768,  12.02853687,  12.22572345,  12.27202223,\n",
       "        12.59785089,  12.36124791,  11.73406978,  11.81872304,\n",
       "        12.28644884,  11.70039939,  12.10402565,  11.57646245,\n",
       "        12.19125126,  12.44007519,  12.60622285,  11.830389  ,\n",
       "        12.46545927,  11.87739691,  11.24197459,  11.4474161 ,\n",
       "        12.26012878,  11.96409343,  11.72147308,  11.97662729,\n",
       "        12.40873077,  12.41309826,  12.7325825 ,  11.86099072,\n",
       "        12.28111061,  12.50397195,  12.44412795,  12.06243576,\n",
       "        12.72780376,  11.86136629,  11.92887059,  12.51812254,\n",
       "        12.58934354,  11.81638048,  12.03343652,  11.67643769,\n",
       "        12.0654846 ,  11.65107829,  12.06762326,  12.19649079,\n",
       "        11.87191284,  11.78592541,  11.83114308,  11.55937455,\n",
       "        12.15544935,  10.95597533,  12.04856173,  11.99968835,\n",
       "        12.18458627,  11.84731146,  13.18724922,  11.88851822,\n",
       "        11.46690517,  12.27758375,  12.88568518,  11.88941546,\n",
       "        12.15603167,  12.45574476,  12.18132078,  11.53457674,\n",
       "        11.32291169,  11.89981624,  11.80622747,  12.10148343,\n",
       "        11.67310791,  12.64345054,  13.06301633,  11.88200196,\n",
       "        11.73427087,  12.17785563,  11.38445739,  11.71783444,\n",
       "        11.83831962,  11.72840914,  12.13581623,  11.74631307,\n",
       "        12.44876066,  12.0574258 ,  12.29532218,  12.07613099,\n",
       "        11.65015184,  11.65980865,  11.55242048,  12.66754239,\n",
       "        11.74875955,  11.49748421,  12.05902963,  11.8791788 ,\n",
       "        11.84537657,  11.78863206,  11.79452453,  11.92347287,\n",
       "        11.85031778,  11.81281718,  12.26815028,  12.86840485,\n",
       "        11.57558621,  11.75940777,  12.11107738,  12.44347693,\n",
       "        12.53769718,  12.21177954,  12.13438389,  11.55714075,\n",
       "        12.29958142,  11.58198916,  12.54778042,  11.463438  ,\n",
       "        12.49993396,  11.86029914,  12.17141735,  12.5490368 ,\n",
       "        11.47609227,  11.85047191,  12.00434288,  11.71809449,\n",
       "        12.30677424,  12.00543329,  11.17706285,  11.8659291 ,\n",
       "        11.50273045,  11.5600544 ,  12.2877857 ,  12.29938929,\n",
       "        12.20634843,  12.28702171,  12.3001431 ,  11.99470419,\n",
       "        11.787178  ,  12.1552368 ,  11.94548477,  12.2272945 ,\n",
       "        12.36229685,  12.98787655,  11.79448219,  11.68693896,\n",
       "        11.45600884,  12.08730001,  12.26671752,  12.30581175,\n",
       "        11.53773791,  12.11746329,  12.12282041,  11.52089564,\n",
       "        11.62431642,  11.82426783,  11.93461534,  12.24043863,\n",
       "        12.14168047,  11.43033245,  11.87939837,  11.87017955,\n",
       "        11.27755908,  11.71624746,  12.33259408,  11.67902976,\n",
       "        12.80177563,  12.62818175,  11.96003239,  11.54428126,\n",
       "        11.77931878,  11.92654014,  11.46547635,  12.47578229,\n",
       "        12.34446097,  11.52738918,  11.56160624,  12.45944559,\n",
       "        11.83491492,  11.2984326 ,  11.9798238 ,  12.1110408 ,\n",
       "        12.19114001,  11.33977269,  11.91156138,  12.05620501,\n",
       "        11.78794924,  11.23062902,  11.98102573,  12.03221166,\n",
       "        11.55579047,  11.82394533,  12.09660019,  11.68690978,\n",
       "        11.84122872,  11.37286235,  11.79378184,  12.40570012,\n",
       "        11.96751261,  12.65648243,  11.81031411,  11.34045693,\n",
       "        11.98988507,  11.63940486,  12.02454729,  11.66360564,\n",
       "        12.53591656,  11.76331517,  12.10598948,  11.81862799,\n",
       "        12.03386377,  12.30601461,  12.05108769,  12.32552656,\n",
       "        11.8682472 ,  12.55253189,  11.94179236,  12.13816801,\n",
       "        12.11028526,  12.87315519,  12.68569572,  11.23173362,\n",
       "        12.40810319,  11.70863523,  11.85007329,  12.20332024,\n",
       "        12.05624662,  12.78398755,  11.49114666,  12.18518869,\n",
       "        11.52480554,  11.74966098,  11.71656884,  11.86257554,\n",
       "        13.13913282,  11.94186114,  12.48700088,  11.48283908,\n",
       "        12.19390964,  12.6061706 ,  12.10208321,  11.9095366 ,\n",
       "        12.51061272,  11.87415515,  12.25031907,  11.30749192,\n",
       "        12.74606914,  12.16063145,  11.6086853 ,  12.69335055,\n",
       "        11.79752338,  12.24724125,  12.45007769,  12.58378977,\n",
       "        12.45138151,  11.88229709,  12.30755105,  11.82726831,\n",
       "        12.31686549,  11.97129997,  11.44789883,  11.99973296,\n",
       "        11.28336665,  11.92781168,  12.37244627,  11.68399007,  11.69483464])"
      ]
     },
     "execution_count": 716,
     "metadata": {},
     "output_type": "execute_result"
    }
   ],
   "source": [
    "kag_reg.predict(val_X)"
   ]
  },
  {
   "cell_type": "code",
   "execution_count": 717,
   "metadata": {},
   "outputs": [
    {
     "data": {
      "text/plain": [
       "0.87805116970306585"
      ]
     },
     "execution_count": 717,
     "metadata": {},
     "output_type": "execute_result"
    }
   ],
   "source": [
    "kag_reg.score(val_X,val_y)"
   ]
  },
  {
   "cell_type": "markdown",
   "metadata": {},
   "source": [
    "## Ridge and Lasso"
   ]
  },
  {
   "cell_type": "code",
   "execution_count": 718,
   "metadata": {},
   "outputs": [],
   "source": [
    "from sklearn.linear_model import LassoCV\n",
    "from sklearn.linear_model import RidgeCV"
   ]
  },
  {
   "cell_type": "code",
   "execution_count": 719,
   "metadata": {},
   "outputs": [
    {
     "data": {
      "text/plain": [
       "0.93250675091609359"
      ]
     },
     "execution_count": 719,
     "metadata": {},
     "output_type": "execute_result"
    }
   ],
   "source": [
    "ridge_reg = RidgeCV(cv=12)\n",
    "\n",
    "ridge_reg.fit(train_X, train_y)\n",
    "\n",
    "ridge_reg.predict(val_X)\n",
    "\n",
    "ridge_reg.score(val_X, val_y)"
   ]
  },
  {
   "cell_type": "code",
   "execution_count": 694,
   "metadata": {},
   "outputs": [
    {
     "data": {
      "text/plain": [
       "RidgeCV(alphas=(0.1, 1.0, 10.0), cv=12, fit_intercept=True, gcv_mode=None,\n",
       "    normalize=False, scoring=None, store_cv_values=False)"
      ]
     },
     "execution_count": 694,
     "metadata": {},
     "output_type": "execute_result"
    }
   ],
   "source": [
    "ridge_reg"
   ]
  },
  {
   "cell_type": "code",
   "execution_count": 720,
   "metadata": {},
   "outputs": [
    {
     "data": {
      "text/plain": [
       "0.87874351654046401"
      ]
     },
     "execution_count": 720,
     "metadata": {},
     "output_type": "execute_result"
    }
   ],
   "source": [
    "lasso_reg = LassoCV(cv=10)\n",
    "\n",
    "lasso_reg.fit(train_X, train_y)\n",
    "\n",
    "lasso_reg.predict(val_X)\n",
    "\n",
    "lasso_reg.score(val_X, val_y)"
   ]
  },
  {
   "cell_type": "code",
   "execution_count": null,
   "metadata": {},
   "outputs": [],
   "source": []
  }
 ],
 "metadata": {
  "kernelspec": {
   "display_name": "Python [default]",
   "language": "python",
   "name": "python3"
  },
  "language_info": {
   "codemirror_mode": {
    "name": "ipython",
    "version": 3
   },
   "file_extension": ".py",
   "mimetype": "text/x-python",
   "name": "python",
   "nbconvert_exporter": "python",
   "pygments_lexer": "ipython3",
   "version": "3.5.4"
  }
 },
 "nbformat": 4,
 "nbformat_minor": 2
}
