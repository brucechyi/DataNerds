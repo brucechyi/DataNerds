{
 "cells": [
  {
   "cell_type": "markdown",
   "metadata": {},
   "source": [
    "## Importing Data and making Dataframe"
   ]
  },
  {
   "cell_type": "code",
   "execution_count": 2,
   "metadata": {},
   "outputs": [],
   "source": [
    "import pandas as pd\n",
    "import numpy as np\n",
    "from scipy import stats\n",
    "import matplotlib.pyplot as plt\n",
    "from scipy import stats\n",
    "\n",
    "from sklearn import linear_model\n",
    "\n",
    "test = pd.read_csv('test.csv')\n",
    "train = pd.read_csv('train.csv')\n",
    "\n",
    "train2 = train.copy()\n",
    "\n",
    "train2.drop(train2.index[1298], inplace = True)\n",
    "train2.drop(train2.index[523], inplace = True)\n",
    "train2.drop(train2.index[1182], inplace = True)\n",
    "\n",
    "full_df = pd.concat([train, test])\n",
    "\n",
    "full_df = full_df.drop('Id',axis=1)"
   ]
  },
  {
   "cell_type": "code",
   "execution_count": 865,
   "metadata": {},
   "outputs": [
    {
     "name": "stdout",
     "output_type": "stream",
     "text": [
      "Index(['1stFlrSF', '2ndFlrSF', '3SsnPorch', 'Alley', 'BedroomAbvGr',\n",
      "       'BldgType', 'BsmtCond', 'BsmtExposure', 'BsmtFinSF1', 'BsmtFinSF2',\n",
      "       'BsmtFinType1', 'BsmtFinType2', 'BsmtFullBath', 'BsmtHalfBath',\n",
      "       'BsmtQual', 'BsmtUnfSF', 'CentralAir', 'Condition1', 'Condition2',\n",
      "       'Electrical', 'EnclosedPorch', 'ExterCond', 'ExterQual', 'Exterior1st',\n",
      "       'Exterior2nd', 'Fence', 'FireplaceQu', 'Fireplaces', 'Foundation',\n",
      "       'FullBath', 'Functional', 'GarageArea', 'GarageCars', 'GarageCond',\n",
      "       'GarageFinish', 'GarageQual', 'GarageType', 'GarageYrBlt', 'GrLivArea',\n",
      "       'HalfBath', 'Heating', 'HeatingQC', 'HouseStyle', 'KitchenAbvGr',\n",
      "       'KitchenQual', 'LandContour', 'LandSlope', 'LotArea', 'LotConfig',\n",
      "       'LotFrontage', 'LotShape', 'LowQualFinSF', 'MSSubClass', 'MSZoning',\n",
      "       'MasVnrArea', 'MasVnrType', 'MiscFeature', 'MiscVal', 'MoSold',\n",
      "       'Neighborhood', 'OpenPorchSF', 'OverallCond', 'OverallQual',\n",
      "       'PavedDrive', 'PoolArea', 'PoolQC', 'RoofMatl', 'RoofStyle',\n",
      "       'SaleCondition', 'SalePrice', 'SaleType', 'ScreenPorch', 'Street',\n",
      "       'TotRmsAbvGrd', 'TotalBsmtSF', 'Utilities', 'WoodDeckSF', 'YearBuilt',\n",
      "       'YearRemodAdd', 'YrSold'],\n",
      "      dtype='object')\n"
     ]
    },
    {
     "data": {
      "text/plain": [
       "(1460, 81)"
      ]
     },
     "execution_count": 865,
     "metadata": {},
     "output_type": "execute_result"
    }
   ],
   "source": [
    "print(full_df.keys())\n",
    "train2.shape"
   ]
  },
  {
   "cell_type": "markdown",
   "metadata": {},
   "source": [
    "## Identifying NAs"
   ]
  },
  {
   "cell_type": "code",
   "execution_count": 985,
   "metadata": {},
   "outputs": [
    {
     "data": {
      "text/plain": [
       "<matplotlib.axes._subplots.AxesSubplot at 0x113cd91a278>"
      ]
     },
     "execution_count": 985,
     "metadata": {},
     "output_type": "execute_result"
    },
    {
     "data": {
      "image/png": "[encoded data removed]",
      "text/plain": [
       "<matplotlib.figure.Figure at 0x113cf3e8470>"
      ]
     },
     "metadata": {},
     "output_type": "display_data"
    }
   ],
   "source": [
    "%matplotlib inline\n",
    "\n",
    "missing = full_df.isnull().sum()\n",
    "missing = missing[missing > 0]\n",
    "missing.sort_values(inplace=True)\n",
    "missing.plot.bar()"
   ]
  },
  {
   "cell_type": "code",
   "execution_count": 649,
   "metadata": {},
   "outputs": [
    {
     "data": {
      "text/plain": [
       "array(['WD', 'New', 'COD', 'ConLD', 'ConLI', 'CWD', 'ConLw', 'Con', 'Oth'], dtype=object)"
      ]
     },
     "execution_count": 649,
     "metadata": {},
     "output_type": "execute_result"
    }
   ],
   "source": [
    "train2[\"SaleType\"].unique()"
   ]
  },
  {
   "cell_type": "code",
   "execution_count": 3,
   "metadata": {},
   "outputs": [
    {
     "data": {
      "text/plain": [
       "Index(['Id', 'MSSubClass', 'MSZoning', 'LotFrontage', 'LotArea', 'Street',\n",
       "       'Alley', 'LotShape', 'LandContour', 'Utilities', 'LotConfig',\n",
       "       'LandSlope', 'Neighborhood', 'Condition1', 'Condition2', 'BldgType',\n",
       "       'HouseStyle', 'OverallQual', 'OverallCond', 'YearBuilt', 'YearRemodAdd',\n",
       "       'RoofStyle', 'RoofMatl', 'Exterior1st', 'Exterior2nd', 'MasVnrType',\n",
       "       'MasVnrArea', 'ExterQual', 'ExterCond', 'Foundation', 'BsmtQual',\n",
       "       'BsmtCond', 'BsmtExposure', 'BsmtFinType1', 'BsmtFinSF1',\n",
       "       'BsmtFinType2', 'BsmtFinSF2', 'BsmtUnfSF', 'TotalBsmtSF', 'Heating',\n",
       "       'HeatingQC', 'CentralAir', 'Electrical', '1stFlrSF', '2ndFlrSF',\n",
       "       'LowQualFinSF', 'GrLivArea', 'BsmtFullBath', 'BsmtHalfBath', 'FullBath',\n",
       "       'HalfBath', 'BedroomAbvGr', 'KitchenAbvGr', 'KitchenQual',\n",
       "       'TotRmsAbvGrd', 'Functional', 'Fireplaces', 'FireplaceQu', 'GarageType',\n",
       "       'GarageYrBlt', 'GarageFinish', 'GarageCars', 'GarageArea', 'GarageQual',\n",
       "       'GarageCond', 'PavedDrive', 'WoodDeckSF', 'OpenPorchSF',\n",
       "       'EnclosedPorch', '3SsnPorch', 'ScreenPorch', 'PoolArea', 'PoolQC',\n",
       "       'Fence', 'MiscFeature', 'MiscVal', 'MoSold', 'YrSold', 'SaleType',\n",
       "       'SaleCondition', 'SalePrice'],\n",
       "      dtype='object')"
      ]
     },
     "execution_count": 3,
     "metadata": {},
     "output_type": "execute_result"
    }
   ],
   "source": [
    "quant = [f for f in full_df.columns if full_df.dtypes[f] != 'object']\n",
    "#qual = [f for f in train2.columns if train2.dtypes[f] == 'object']\n",
    "\n",
    "train2[quant]\n",
    "train2.columns"
   ]
  },
  {
   "cell_type": "code",
   "execution_count": 4,
   "metadata": {},
   "outputs": [
    {
     "ename": "NameError",
     "evalue": "name 'train_df' is not defined",
     "output_type": "error",
     "traceback": [
      "\u001b[1;31m---------------------------------------------------------------------------\u001b[0m",
      "\u001b[1;31mNameError\u001b[0m                                 Traceback (most recent call last)",
      "\u001b[1;32m<ipython-input-4-8ea48e7ba455>\u001b[0m in \u001b[0;36m<module>\u001b[1;34m()\u001b[0m\n\u001b[1;32m----> 1\u001b[1;33m \u001b[0mmissing\u001b[0m \u001b[1;33m=\u001b[0m \u001b[0mtrain_df\u001b[0m\u001b[1;33m.\u001b[0m\u001b[0misnull\u001b[0m\u001b[1;33m(\u001b[0m\u001b[1;33m)\u001b[0m\u001b[1;33m.\u001b[0m\u001b[0msum\u001b[0m\u001b[1;33m(\u001b[0m\u001b[1;33m)\u001b[0m\u001b[1;33m.\u001b[0m\u001b[0msort_values\u001b[0m\u001b[1;33m(\u001b[0m\u001b[0mascending\u001b[0m\u001b[1;33m=\u001b[0m\u001b[1;32mFalse\u001b[0m\u001b[1;33m)\u001b[0m\u001b[1;33m\u001b[0m\u001b[0m\n\u001b[0m\u001b[0;32m      2\u001b[0m \u001b[0mmissing\u001b[0m\u001b[1;33m[\u001b[0m\u001b[0mmissing\u001b[0m\u001b[1;33m>\u001b[0m\u001b[1;36m0\u001b[0m\u001b[1;33m]\u001b[0m\u001b[1;33m\u001b[0m\u001b[0m\n",
      "\u001b[1;31mNameError\u001b[0m: name 'train_df' is not defined"
     ]
    }
   ],
   "source": [
    "missing = train_df.isnull().sum().sort_values(ascending=False)\n",
    "missing[missing>0] "
   ]
  },
  {
   "cell_type": "code",
   "execution_count": 5,
   "metadata": {},
   "outputs": [
    {
     "ename": "NameError",
     "evalue": "name 'sns' is not defined",
     "output_type": "error",
     "traceback": [
      "\u001b[1;31m---------------------------------------------------------------------------\u001b[0m",
      "\u001b[1;31mNameError\u001b[0m                                 Traceback (most recent call last)",
      "\u001b[1;32m<ipython-input-5-479eaaef2fe5>\u001b[0m in \u001b[0;36m<module>\u001b[1;34m()\u001b[0m\n\u001b[0;32m      1\u001b[0m \u001b[0mhistlot\u001b[0m \u001b[1;33m=\u001b[0m \u001b[0mtrain2\u001b[0m\u001b[1;33m[\u001b[0m\u001b[0mtrain2\u001b[0m\u001b[1;33m[\u001b[0m\u001b[1;34m'LotFrontage'\u001b[0m\u001b[1;33m]\u001b[0m\u001b[1;33m.\u001b[0m\u001b[0mnotnull\u001b[0m\u001b[1;33m(\u001b[0m\u001b[1;33m)\u001b[0m\u001b[1;33m]\u001b[0m\u001b[1;33m\u001b[0m\u001b[0m\n\u001b[1;32m----> 2\u001b[1;33m \u001b[0msns\u001b[0m\u001b[1;33m.\u001b[0m\u001b[0mdistplot\u001b[0m\u001b[1;33m(\u001b[0m\u001b[0mdummy_train\u001b[0m\u001b[1;33m.\u001b[0m\u001b[0mTotalBsmtSF\u001b[0m\u001b[1;33m,\u001b[0m \u001b[0mkde\u001b[0m\u001b[1;33m=\u001b[0m\u001b[1;32mFalse\u001b[0m\u001b[1;33m,\u001b[0m \u001b[0mfit\u001b[0m\u001b[1;33m=\u001b[0m\u001b[0mst\u001b[0m\u001b[1;33m.\u001b[0m\u001b[0mjohnsonsu\u001b[0m\u001b[1;33m)\u001b[0m\u001b[1;33m\u001b[0m\u001b[0m\n\u001b[0m",
      "\u001b[1;31mNameError\u001b[0m: name 'sns' is not defined"
     ]
    }
   ],
   "source": [
    "histlot = train2[train2['LotFrontage'].notnull()]\n",
    "sns.distplot(dummy_train.TotalBsmtSF, kde=False, fit=st.johnsonsu)"
   ]
  },
  {
   "cell_type": "code",
   "execution_count": 940,
   "metadata": {},
   "outputs": [
    {
     "data": {
      "text/plain": [
       "count    1201.000000\n",
       "mean       70.049958\n",
       "std        24.284752\n",
       "min        21.000000\n",
       "25%        59.000000\n",
       "50%        69.000000\n",
       "75%        80.000000\n",
       "max       313.000000\n",
       "Name: LotFrontage, dtype: float64"
      ]
     },
     "execution_count": 940,
     "metadata": {},
     "output_type": "execute_result"
    }
   ],
   "source": [
    "train2[train2['LotFrontage'].notnull()].LotFrontage.describe()"
   ]
  },
  {
   "cell_type": "markdown",
   "metadata": {},
   "source": [
    "## Cleaning and munging Data"
   ]
  },
  {
   "cell_type": "code",
   "execution_count": 6,
   "metadata": {},
   "outputs": [],
   "source": [
    "full_df['PoolQC'].fillna('No Pool',inplace = True)\n",
    "full_df['MiscFeature'].fillna('None',inplace = True)\n",
    "full_df['Alley'].fillna('No Alley Access',inplace = True)\n",
    "full_df['Fence'].fillna('No Fence',inplace = True)\n",
    "full_df['FireplaceQu'].fillna('No Fireplace',inplace = True)\n",
    "full_df['LotFrontage'] = full_df['LotFrontage'].fillna(full_df.groupby(['Neighborhood'])['LotFrontage'].transform('mean').round())\n",
    "full_df['GarageYrBlt'].fillna('No Garage',inplace = True)\n",
    "full_df['GarageType'].fillna('No Garage',inplace = True)\n",
    "full_df['GarageFinish'].fillna('No Garage',inplace = True)\n",
    "full_df['GarageQual'].fillna('No Garage',inplace = True)\n",
    "full_df['GarageCond'].fillna('No Garage',inplace = True)\n",
    "full_df['BsmtFinType2'].fillna('No Garage',inplace = True)\n",
    "full_df['BsmtExposure'].fillna('No Garage',inplace = True)\n",
    "full_df['BsmtFinType1'].fillna('No Garage',inplace = True)\n",
    "full_df['BsmtCond'].fillna('No Garage',inplace = True)\n",
    "full_df['BsmtQual'].fillna('No Garage',inplace = True)\n",
    "full_df['MasVnrArea'].fillna(0,inplace = True)\n",
    "full_df['MasVnrType'].fillna('None',inplace = True)\n",
    "full_df['Electrical'].fillna('SBrkr', inplace = True)\n",
    "\n",
    "full_df['BsmtFinSF1'] = full_df['BsmtFinSF1'].fillna(full_df.groupby(['Neighborhood'])['BsmtFinSF1'].transform('mean'))\n",
    "full_df['BsmtFinSF2'] = full_df['BsmtFinSF2'].fillna(full_df.groupby(['Neighborhood'])['BsmtFinSF2'].transform('mean'))\n",
    "full_df['BsmtUnfSF'] = full_df['BsmtUnfSF'].fillna(full_df.groupby(['Neighborhood'])['BsmtUnfSF'].transform('mean'))\n",
    "full_df['TotalBsmtSF'] = full_df['TotalBsmtSF'].fillna(full_df.groupby(['Neighborhood'])['TotalBsmtSF'].transform('mean'))\n",
    "full_df['BsmtHalfBath'] = full_df['BsmtHalfBath'].fillna(full_df.groupby(['Neighborhood'])['BsmtHalfBath'].transform('mean'))\n",
    "full_df['BsmtFullBath'] = full_df['BsmtFullBath'].fillna(full_df.groupby(['Neighborhood'])['BsmtFullBath'].transform('mean'))\n",
    "full_df['BsmtFullBath'] = full_df['BsmtFullBath'].fillna(full_df.groupby(['Neighborhood'])['BsmtFullBath'].transform('mean'))\n",
    "full_df['GarageCars'] = full_df['GarageCars'].fillna(full_df.groupby(['Neighborhood'])['GarageCars'].transform('mean'))\n",
    "full_df['GarageArea'] = full_df['GarageArea'].fillna(full_df.groupby(['Neighborhood'])['GarageArea'].transform('mean'))\n",
    "full_df['Exterior1st'] = full_df['Exterior1st'].fillna('VinylSd')\n",
    "full_df['Exterior2nd'] = full_df['Exterior2nd'].fillna('VinylSd')\n",
    "full_df['Functional'] = full_df['Functional'].fillna('Typ')\n",
    "full_df.KitchenQual.fillna(lambda x: random.choice(full_df[full_df['KitchenQual'] != np.nan][\"KitchenQual\"]), inplace =True)\n",
    "full_df['MSZoning'] = full_df['MSZoning'].fillna('RL')\n",
    "full_df['SaleType'] = full_df['SaleType'].fillna('WD')\n",
    "full_df['Utilities'] = full_df['Utilities'].fillna('AllPub')"
   ]
  },
  {
   "cell_type": "markdown",
   "metadata": {},
   "source": [
    "## Normalizing Data"
   ]
  },
  {
   "cell_type": "code",
   "execution_count": 1020,
   "metadata": {},
   "outputs": [
    {
     "data": {
      "text/plain": [
       "1stFlrSF          1.470360\n",
       "2ndFlrSF          0.862118\n",
       "3SsnPorch        11.381914\n",
       "BedroomAbvGr      0.326492\n",
       "BsmtFinSF1        1.426255\n",
       "BsmtFinSF2        4.148279\n",
       "BsmtFullBath      0.624567\n",
       "BsmtHalfBath      3.933340\n",
       "BsmtUnfSF         0.920021\n",
       "EnclosedPorch     4.005950\n",
       "Fireplaces        0.733872\n",
       "FullBath          0.167692\n",
       "GarageArea        0.241912\n",
       "GarageCars       -0.217618\n",
       "GrLivArea         1.270010\n",
       "HalfBath          0.694924\n",
       "KitchenAbvGr      4.304467\n",
       "LotArea          12.829025\n",
       "LotFrontage       1.460582\n",
       "LowQualFinSF     12.094977\n",
       "MSSubClass        1.376165\n",
       "MasVnrArea        2.614936\n",
       "MiscVal          21.958480\n",
       "MoSold            0.195985\n",
       "OpenPorchSF       2.536417\n",
       "OverallCond       0.570605\n",
       "OverallQual       0.197212\n",
       "PoolArea         16.907017\n",
       "SalePrice         1.882876\n",
       "ScreenPorch       3.948723\n",
       "TotRmsAbvGrd      0.758757\n",
       "TotalBsmtSF       1.163403\n",
       "WoodDeckSF        1.843380\n",
       "YearBuilt        -0.600114\n",
       "YearRemodAdd     -0.451252\n",
       "YrSold            0.132467\n",
       "dtype: float64"
      ]
     },
     "execution_count": 1020,
     "metadata": {},
     "output_type": "execute_result"
    }
   ],
   "source": [
    "#stats.skew(train2[quant])\n",
    "full_df.skew()"
   ]
  },
  {
   "cell_type": "code",
   "execution_count": 7,
   "metadata": {},
   "outputs": [
    {
     "data": {
      "text/plain": [
       "PoolArea    38.223013\n",
       "dtype: float64"
      ]
     },
     "execution_count": 7,
     "metadata": {},
     "output_type": "execute_result"
    }
   ],
   "source": [
    "import scipy.stats as st\n",
    "import seaborn as sns\n",
    "\n",
    "y = pd.DataFrame(train2.PoolArea)\n",
    "\n",
    "plt.figure(1); plt.title('Johnson SU')\n",
    "sns.distplot(y, kde=False, fit=st.johnsonsu)\n",
    "\n",
    "y.std()"
   ]
  },
  {
   "cell_type": "code",
   "execution_count": 8,
   "metadata": {},
   "outputs": [],
   "source": [
    "full_df.GrLivArea = np.log1p(full_df.GrLivArea)\n",
    "full_df.MasVnrArea = np.log1p(full_df.MasVnrArea)\n",
    "full_df.TotalBsmtSF = np.log1p(full_df.TotalBsmtSF)\n",
    "full_df.LotFrontage = np.log1p(full_df.LotFrontage)\n",
    "full_df.LotArea = np.log1p(full_df.LotArea)\n",
    "full_df.SalePrice = np.log1p(full_df.SalePrice)\n",
    "#train2.MiscVal = np.log1p(train2.MiscVal)\n",
    "#train2.BsmtFinSF1 = np.log1p(train2.BsmtFinSF1)\n",
    "#train2.BsmtHalfBath = np.log1p(train2.BsmtHalfBath)\n",
    "#train2.BsmtFinSF2 = np.log1p(train2.BsmtFinSF2)\n",
    "#train2['1stFlrSF'] = np.log1p(train2['1stFlrSF'])\n",
    "#train2.OpenPorchSF = np.log1p(train2.OpenPorchSF)\n",
    "#train2.WoodDeckSF = np.log1p(train2.WoodDeckSF)\n",
    "#train2.BsmtHalfBath = np.log1p(train2.BsmtHalfBath)"
   ]
  },
  {
   "cell_type": "code",
   "execution_count": 9,
   "metadata": {},
   "outputs": [],
   "source": [
    "quant_feats = ['LotFrontage','LotArea','MasVnrArea','BsmtFinSF1','BsmtFinSF2','BsmtUnfSF',\n",
    "              'TotalBsmtSF','1stFlrSF','2ndFlrSF','LowQualFinSF','GrLivArea','BsmtFullBath',\n",
    "              'BsmtHalfBath','FullBath','HalfBath','BedroomAbvGr','KitchenAbvGr',\n",
    "              'TotRmsAbvGrd','Fireplaces','GarageCars','GarageArea','WoodDeckSF',\n",
    "              'OpenPorchSF','EnclosedPorch','3SsnPorch','ScreenPorch','PoolArea',\n",
    "              'MiscVal','SalePrice','YearBuilt','YearRemodAdd']\n",
    "\n",
    "qual_feats = [item for item in full_df.columns if item not in quant_feats]"
   ]
  },
  {
   "cell_type": "code",
   "execution_count": 10,
   "metadata": {},
   "outputs": [],
   "source": [
    "full_df[qual_feats] = full_df[qual_feats].astype(object)"
   ]
  },
  {
   "cell_type": "code",
   "execution_count": 33,
   "metadata": {},
   "outputs": [
    {
     "data": {
      "image/png": "[encoded data removed]",
      "text/plain": [
       "<matplotlib.figure.Figure at 0x25fbcb0ff28>"
      ]
     },
     "metadata": {},
     "output_type": "display_data"
    }
   ],
   "source": [
    "import numpy as np \n",
    "import pylab \n",
    "import scipy.stats as stats\n",
    "  \n",
    "stats.probplot(train_df.LotFrontage, dist=\"norm\", plot=pylab)\n",
    "pylab.show()"
   ]
  },
  {
   "cell_type": "markdown",
   "metadata": {},
   "source": [
    "## Dummyfying the Data"
   ]
  },
  {
   "cell_type": "code",
   "execution_count": 12,
   "metadata": {},
   "outputs": [],
   "source": [
    "df = full_df.copy()"
   ]
  },
  {
   "cell_type": "code",
   "execution_count": 13,
   "metadata": {},
   "outputs": [],
   "source": [
    "qual_dummies = pd.get_dummies(df[qual_feats], drop_first = True)"
   ]
  },
  {
   "cell_type": "code",
   "execution_count": 14,
   "metadata": {},
   "outputs": [],
   "source": [
    "#qual_dummies.shape\n",
    "dummy_train = pd.concat([full_df[quant_feats],qual_dummies],axis = 1)"
   ]
  },
  {
   "cell_type": "code",
   "execution_count": 15,
   "metadata": {},
   "outputs": [
    {
     "data": {
      "text/plain": [
       "<matplotlib.axes._subplots.AxesSubplot at 0x25fbb2a9c50>"
      ]
     },
     "execution_count": 15,
     "metadata": {},
     "output_type": "execute_result"
    }
   ],
   "source": [
    "sns.heatmap(train2[quant].sample(15, axis=1).corr())"
   ]
  },
  {
   "cell_type": "code",
   "execution_count": 16,
   "metadata": {},
   "outputs": [],
   "source": [
    "#dummy_train.iloc[[1298]]\n",
    "dummy_train.drop(dummy_train.index[1298], inplace = True)\n",
    "dummy_train.drop(dummy_train.index[523], inplace = True)\n",
    "dummy_train.drop(dummy_train.index[1182], inplace = True)"
   ]
  },
  {
   "cell_type": "code",
   "execution_count": 17,
   "metadata": {},
   "outputs": [
    {
     "data": {
      "text/plain": [
       "[2913, 405]"
      ]
     },
     "execution_count": 17,
     "metadata": {},
     "output_type": "execute_result"
    }
   ],
   "source": [
    "list(dummy_train.shape)"
   ]
  },
  {
   "cell_type": "code",
   "execution_count": 18,
   "metadata": {},
   "outputs": [],
   "source": [
    "train_df = dummy_train.head(1457)\n",
    "test_df = dummy_train.tail(1459)"
   ]
  },
  {
   "cell_type": "code",
   "execution_count": 19,
   "metadata": {},
   "outputs": [
    {
     "data": {
      "text/plain": [
       "(1457, 405)"
      ]
     },
     "execution_count": 19,
     "metadata": {},
     "output_type": "execute_result"
    }
   ],
   "source": [
    "train_df.shape"
   ]
  },
  {
   "cell_type": "markdown",
   "metadata": {},
   "source": [
    "## Regression"
   ]
  },
  {
   "cell_type": "code",
   "execution_count": 20,
   "metadata": {},
   "outputs": [],
   "source": [
    "from sklearn.model_selection import train_test_split\n",
    "from sklearn.linear_model import LinearRegression"
   ]
  },
  {
   "cell_type": "code",
   "execution_count": 21,
   "metadata": {},
   "outputs": [],
   "source": [
    "y = train_df.SalePrice\n",
    "X = train_df.loc[:, train_df.columns != 'SalePrice']"
   ]
  },
  {
   "cell_type": "code",
   "execution_count": 22,
   "metadata": {},
   "outputs": [],
   "source": [
    "train_X, val_X, train_y, val_y = train_test_split(X, y,test_size = 0.25,random_state=0)"
   ]
  },
  {
   "cell_type": "code",
   "execution_count": 23,
   "metadata": {},
   "outputs": [],
   "source": [
    "kag_reg = LinearRegression()"
   ]
  },
  {
   "cell_type": "code",
   "execution_count": 24,
   "metadata": {},
   "outputs": [
    {
     "data": {
      "text/plain": [
       "LinearRegression(copy_X=True, fit_intercept=True, n_jobs=1, normalize=False)"
      ]
     },
     "execution_count": 24,
     "metadata": {},
     "output_type": "execute_result"
    }
   ],
   "source": [
    "kag_reg.fit(train_X,train_y, sample_weight=None)"
   ]
  },
  {
   "cell_type": "code",
   "execution_count": 25,
   "metadata": {},
   "outputs": [
    {
     "data": {
      "text/plain": [
       "array([ 11.80421411,  12.09054831,  11.52208429,  11.80788215,\n",
       "        12.67938072,  11.88507557,  12.0565826 ,  11.76933994,\n",
       "        11.86046065,  12.47338267,  12.0268147 ,  12.25907882,\n",
       "        12.1094292 ,  11.89404743,  11.30137272,  11.92514875,\n",
       "        12.207299  ,  11.36165193,  12.02094167,  13.06232352,\n",
       "        12.55260903,  11.99322911,  12.62957643,  11.60084572,\n",
       "        11.69906778,  11.77207096,  11.70854706,  11.25305469,\n",
       "        11.89185435,  12.60747602,  11.99269802,  12.35055612,\n",
       "        12.29095623,  12.17115294,  13.01055263,  11.92849621,\n",
       "        11.80085461,  12.11285931,  11.9060974 ,  11.56031863,\n",
       "        11.74720309,  12.20833984,  12.50325071,  11.63907625,\n",
       "        12.321966  ,  11.75265074,  12.53868828,  11.8027221 ,\n",
       "        11.67330722,  12.42796292,  12.47983607,  11.52129988,\n",
       "        11.57410506,  11.88578897,  12.91018163,  12.41462905,\n",
       "        12.56586767,  11.73136671,  12.09216582,  11.84815191,\n",
       "        11.70724811,  11.76433899,  11.58233802,  11.85703293,\n",
       "        11.93254977,  12.04204142,  12.80637362,  11.95774416,\n",
       "        12.35618154,  12.02208091,  12.053429  ,  12.3768668 ,\n",
       "        11.44651713,  12.46998287,  12.98036451,  12.56234652,\n",
       "        12.31785823,  11.18235378,  11.90677485,  11.96589456,\n",
       "        11.67052423,  11.86951806,  12.45543425,  12.27039107,\n",
       "        11.78404814,  12.2870088 ,  11.76873699,  11.84188937,\n",
       "        11.78238066,  12.66980812,  12.56504608,  11.98251638,\n",
       "        11.737096  ,  11.75341088,  12.84553595,  11.57289641,\n",
       "        12.53171327,  11.67706926,  11.86375063,  12.03433782,\n",
       "        11.86791722,  12.28393545,  12.16200782,  11.89223964,\n",
       "        11.92049081,  12.02871784,  12.22576105,  12.27208958,\n",
       "        12.59770876,  12.36110936,  11.73398231,  11.81869064,\n",
       "        12.2863285 ,  11.6997107 ,  12.10406106,  11.57652507,\n",
       "        12.19115867,  12.43983219,  12.60639905,  11.83027396,\n",
       "        12.46457959,  11.87750711,  11.24145306,  11.44715882,\n",
       "        12.26020541,  11.96385165,  11.72159357,  11.97578389,\n",
       "        12.40850462,  12.41269024,  12.73256494,  11.86100385,\n",
       "        12.28107487,  12.50388278,  12.44350933,  12.06245049,\n",
       "        12.72799607,  11.86147964,  11.92818769,  12.51773941,\n",
       "        12.5895852 ,  11.8161879 ,  12.03304107,  11.67653214,\n",
       "        12.06712072,  11.65197768,  12.06806291,  12.19655969,\n",
       "        11.87182649,  11.78515714,  11.83103348,  11.55921744,\n",
       "        12.15563832,  10.95627522,  12.04819225,  11.99972554,\n",
       "        12.18547467,  11.8473339 ,  13.18699773,  11.887854  ,\n",
       "        11.46653711,  12.27816388,  12.88598779,  11.88937816,\n",
       "        12.15565603,  12.45655962,  12.18121866,  11.53437153,\n",
       "        11.32311537,  11.89941446,  11.80619242,  12.1017444 ,\n",
       "        11.6731468 ,  12.64344778,  13.06279441,  11.88284494,\n",
       "        11.7343442 ,  12.17778689,  11.3844714 ,  11.71766279,\n",
       "        11.83806388,  11.72796666,  12.13595359,  11.74645437,\n",
       "        12.44900806,  12.0573513 ,  12.29571303,  12.07584558,\n",
       "        11.65011152,  11.66000836,  11.5527335 ,  12.6675508 ,\n",
       "        11.74807564,  11.49756077,  12.0593375 ,  11.87895028,\n",
       "        11.84528701,  11.7888372 ,  11.79399983,  11.92324551,\n",
       "        11.85011049,  11.81267388,  12.26861343,  12.86620315,\n",
       "        11.57557718,  11.75943624,  12.111469  ,  12.44338333,\n",
       "        12.53758782,  12.2118886 ,  12.13425675,  11.55767133,\n",
       "        12.29977022,  11.58197124,  12.54762161,  11.46366884,\n",
       "        12.50024778,  11.8601886 ,  12.1717522 ,  12.54909506,\n",
       "        11.47640464,  11.85009438,  12.00435245,  11.71792158,\n",
       "        12.30519202,  12.00516007,  11.17736505,  11.86572935,\n",
       "        11.50306941,  11.56021444,  12.28646967,  12.29955767,\n",
       "        12.20428254,  12.28672866,  12.30044899,  11.99417697,\n",
       "        11.78699812,  12.15504986,  11.94540355,  12.22847021,\n",
       "        12.36256764,  12.98789199,  11.79475572,  11.68697162,\n",
       "        11.45631062,  12.08703571,  12.26781988,  12.30566119,\n",
       "        11.53791739,  12.11746506,  12.12268144,  11.52085862,\n",
       "        11.62452857,  11.82443461,  11.93412402,  12.24036214,\n",
       "        12.14144402,  11.43029105,  11.87934381,  11.870177  ,\n",
       "        11.27766821,  11.71602148,  12.33440489,  11.67927075,\n",
       "        12.8019521 ,  12.62796224,  11.9599129 ,  11.54432146,\n",
       "        11.77972726,  11.92670122,  11.46590759,  12.47530274,\n",
       "        12.34423731,  11.52722566,  11.56159038,  12.4599069 ,\n",
       "        11.83474949,  11.29853998,  11.97986401,  12.1103119 ,\n",
       "        12.19111769,  11.3396621 ,  11.91168037,  12.05606623,\n",
       "        11.78850066,  11.23152317,  11.98150896,  12.03210545,\n",
       "        11.5558051 ,  11.82291562,  12.09647471,  11.6871553 ,\n",
       "        11.84083049,  11.37361822,  11.79331219,  12.40530184,\n",
       "        11.96781648,  12.65637948,  11.81037598,  11.34054654,\n",
       "        11.99007416,  11.6393536 ,  12.02538653,  11.66373776,\n",
       "        12.5357648 ,  11.7636391 ,  12.10605148,  11.81832544,\n",
       "        12.03330344,  12.30575696,  12.05076848,  12.32566319,\n",
       "        11.86770653,  12.55246175,  11.9421248 ,  12.1385228 ,\n",
       "        12.11041608,  12.87320336,  12.68545323,  11.23153017,\n",
       "        12.40827528,  11.70868708,  11.85009151,  12.20348738,\n",
       "        12.05628483,  12.78378644,  11.49147731,  12.18524289,\n",
       "        11.52461839,  11.74990528,  11.71668339,  11.86238719,\n",
       "        13.13886296,  11.94276325,  12.48738355,  11.48293311,\n",
       "        12.19400205,  12.60586754,  12.10196139,  11.90942907,\n",
       "        12.51053231,  11.87402854,  12.25034806,  11.30764419,\n",
       "        12.74586879,  12.16069247,  11.60931338,  12.69296868,\n",
       "        11.79767655,  12.24740081,  12.45017498,  12.58422572,\n",
       "        12.4519806 ,  11.8822316 ,  12.30747318,  11.827949  ,\n",
       "        12.31674969,  11.97143217,  11.44790935,  11.99987009,\n",
       "        11.28327721,  11.92744021,  12.37258533,  11.68395097,  11.69491234])"
      ]
     },
     "execution_count": 25,
     "metadata": {},
     "output_type": "execute_result"
    }
   ],
   "source": [
    "kag_reg.predict(val_X)"
   ]
  },
  {
   "cell_type": "code",
   "execution_count": 27,
   "metadata": {},
   "outputs": [
    {
     "data": {
      "text/plain": [
       "0.8780196128673784"
      ]
     },
     "execution_count": 27,
     "metadata": {},
     "output_type": "execute_result"
    }
   ],
   "source": [
    "kag_reg.score(val_X,val_y)"
   ]
  },
  {
   "cell_type": "markdown",
   "metadata": {},
   "source": [
    "## Ridge and Lasso"
   ]
  },
  {
   "cell_type": "code",
   "execution_count": 28,
   "metadata": {},
   "outputs": [],
   "source": [
    "from sklearn.linear_model import LassoCV\n",
    "from sklearn.linear_model import RidgeCV"
   ]
  },
  {
   "cell_type": "code",
   "execution_count": 29,
   "metadata": {},
   "outputs": [
    {
     "data": {
      "text/plain": [
       "0.9316520978734244"
      ]
     },
     "execution_count": 29,
     "metadata": {},
     "output_type": "execute_result"
    }
   ],
   "source": [
    "ridge_reg = RidgeCV(cv=10)\n",
    "\n",
    "ridge_reg.fit(train_X, train_y)\n",
    "\n",
    "ridge_reg.predict(val_X)\n",
    "\n",
    "ridge_reg.score(val_X, val_y)"
   ]
  },
  {
   "cell_type": "code",
   "execution_count": 30,
   "metadata": {},
   "outputs": [
    {
     "data": {
      "text/plain": [
       "RidgeCV(alphas=(0.1, 1.0, 10.0), cv=10, fit_intercept=True, gcv_mode=None,\n",
       "    normalize=False, scoring=None, store_cv_values=False)"
      ]
     },
     "execution_count": 30,
     "metadata": {},
     "output_type": "execute_result"
    }
   ],
   "source": [
    "ridge_reg"
   ]
  },
  {
   "cell_type": "code",
   "execution_count": 31,
   "metadata": {},
   "outputs": [
    {
     "data": {
      "text/plain": [
       "0.92938475901296935"
      ]
     },
     "execution_count": 31,
     "metadata": {},
     "output_type": "execute_result"
    }
   ],
   "source": [
    "lasso_reg = LassoCV(cv=10, alphas = (.001,1.0,10.0))\n",
    "\n",
    "lasso_reg.fit(train_X, train_y)\n",
    "\n",
    "lasso_reg.predict(val_X)\n",
    "\n",
    "lasso_reg.score(val_X, val_y)"
   ]
  },
  {
   "cell_type": "code",
   "execution_count": null,
   "metadata": {},
   "outputs": [],
   "source": []
  }
 ],
 "metadata": {
  "kernelspec": {
   "display_name": "Python [default]",
   "language": "python",
   "name": "python3"
  },
  "language_info": {
   "codemirror_mode": {
    "name": "ipython",
    "version": 3
   },
   "file_extension": ".py",
   "mimetype": "text/x-python",
   "name": "python",
   "nbconvert_exporter": "python",
   "pygments_lexer": "ipython3",
   "version": "3.5.4"
  }
 },
 "nbformat": 4,
 "nbformat_minor": 2
}
