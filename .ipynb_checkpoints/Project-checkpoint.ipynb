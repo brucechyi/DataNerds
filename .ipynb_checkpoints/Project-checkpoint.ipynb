{
 "cells": [
  {
   "cell_type": "code",
   "execution_count": 165,
   "metadata": {},
   "outputs": [],
   "source": [
    "import numpy as np\n",
    "import pandas as pd\n",
    "import seaborn as sns\n",
    "import matplotlib.pyplot as plt"
   ]
  },
  {
   "cell_type": "code",
   "execution_count": 216,
   "metadata": {},
   "outputs": [],
   "source": [
    "#test_df = pd.read_csv('test.csv')\n",
    "train_df = pd.read_csv('train.csv')\n",
    "\n",
    "X = train_df.iloc[:,[4]].values\n",
    "y = train_df.iloc[:, -1].values"
   ]
  },
  {
   "cell_type": "code",
   "execution_count": 217,
   "metadata": {},
   "outputs": [],
   "source": [
    "train_df.drop(columns='Id', inplace = True)"
   ]
  },
  {
   "cell_type": "code",
   "execution_count": 218,
   "metadata": {},
   "outputs": [],
   "source": [
    "# Splitting the dataset into the Training set and Test set\n",
    "from sklearn.cross_validation import train_test_split\n",
    "X_train, X_test, y_train, y_test = train_test_split(X, y, test_size = 1/4, random_state = 0)\n",
    "\n",
    "# Feature Scaling\n",
    "# =============================================================================\n",
    "#from sklearn.preprocessing import StandardScaler\n",
    "#sc_X = StandardScaler()\n",
    "#X_train = sc_X.fit_transform(X_train)\n",
    "#X_test = sc_X.transform(X_test)\n",
    "#sc_y = StandardScaler()\n",
    "#y_train = sc_y.fit_transform(y_train)\n",
    "# ============================================================================="
   ]
  },
  {
   "cell_type": "code",
   "execution_count": 137,
   "metadata": {},
   "outputs": [],
   "source": [
    "# # Fitting Simple Linear Regression to the Training set\n",
    "# from sklearn.linear_model import LinearRegression\n",
    "# regressor = LinearRegression()\n",
    "# regressor.fit(X_train, y_train)\n",
    "\n",
    "# # Predicting the Test set results\n",
    "# y_pred = regressor.predict(X_test)\n",
    "# regressor.score(X_train, y_train)"
   ]
  },
  {
   "cell_type": "code",
   "execution_count": 136,
   "metadata": {},
   "outputs": [],
   "source": [
    "# # Visualising the Training set results\n",
    "# plt.scatter(X_train[:,0], y_train, color = 'red')\n",
    "# plt.plot(X_train, regressor.predict(X_train), color = 'blue')\n",
    "# plt.title('Sales vs LotArea (Training set)')\n",
    "# plt.xlabel('LotArea')\n",
    "# plt.ylabel('Sales Price')\n",
    "# plt.show()"
   ]
  },
  {
   "cell_type": "code",
   "execution_count": 135,
   "metadata": {},
   "outputs": [],
   "source": [
    "# # Visualising the Test set results\n",
    "# plt.scatter(X_test[:,0], y_test, color = 'red')\n",
    "# plt.plot(X_train, regressor.predict(X_train), color = 'blue')\n",
    "# plt.title('Sales vs LotArea (Test set)')\n",
    "# plt.xlabel('LotArea')\n",
    "# plt.ylabel('Sales Price')\n",
    "# plt.show()"
   ]
  },
  {
   "cell_type": "code",
   "execution_count": 134,
   "metadata": {},
   "outputs": [],
   "source": [
    "# len([col for col in train_df.columns if train_df[col].dtype!='object'])"
   ]
  },
  {
   "cell_type": "code",
   "execution_count": 133,
   "metadata": {},
   "outputs": [],
   "source": [
    "# train_df.columns.get_loc('Id')"
   ]
  },
  {
   "cell_type": "code",
   "execution_count": 132,
   "metadata": {},
   "outputs": [],
   "source": [
    "# train_df.describe(include=['O']).T"
   ]
  },
  {
   "cell_type": "code",
   "execution_count": 131,
   "metadata": {},
   "outputs": [],
   "source": [
    "# sns.set()\n",
    "# cols = ['SalePrice', 'OverallQual', 'GrLivArea', 'GarageCars', 'TotalBsmtSF', 'FullBath', 'YearBuilt']\n",
    "# sns.pairplot(train_df[cols])\n",
    "# plt.show();"
   ]
  },
  {
   "cell_type": "code",
   "execution_count": 219,
   "metadata": {},
   "outputs": [
    {
     "data": {
      "text/plain": [
       "PoolQC          1453\n",
       "MiscFeature     1406\n",
       "Alley           1369\n",
       "Fence           1179\n",
       "FireplaceQu      690\n",
       "LotFrontage      259\n",
       "GarageType        81\n",
       "GarageCond        81\n",
       "GarageFinish      81\n",
       "GarageQual        81\n",
       "GarageYrBlt       81\n",
       "BsmtFinType2      38\n",
       "BsmtExposure      38\n",
       "BsmtQual          37\n",
       "BsmtCond          37\n",
       "BsmtFinType1      37\n",
       "MasVnrArea         8\n",
       "MasVnrType         8\n",
       "Electrical         1\n",
       "dtype: int64"
      ]
     },
     "execution_count": 219,
     "metadata": {},
     "output_type": "execute_result"
    }
   ],
   "source": [
    "missing_df = train_df.isna().sum().sort_values(ascending=False)\n",
    "missing_df[missing_df>0]"
   ]
  },
  {
   "cell_type": "code",
   "execution_count": 220,
   "metadata": {},
   "outputs": [],
   "source": [
    "train_df['PoolQC'].fillna('No Pool', inplace=True)\n",
    "train_df['MiscFeature'].fillna('None', inplace=True)\n",
    "train_df['Alley'].fillna('No Alley Access', inplace=True)\n",
    "train_df['Fence'].fillna('No Fence', inplace=True)\n",
    "train_df['FireplaceQu'].fillna('No Fireplace', inplace=True)\n",
    "train_df['LotFrontage'].fillna(train_df.groupby(['Neighborhood'])['LotFrontage'].transform('mean'), inplace = True)\n",
    "train_df['LotFrontage'] = train_df['LotFrontage'].round()\n",
    "train_df['GarageCond'].fillna(\"None\", inplace = True)\n",
    "train_df['GarageYrBlt'].fillna(\"None\", inplace = True)\n",
    "train_df['GarageFinish'].fillna(\"None\", inplace = True)\n",
    "train_df['GarageQual'].fillna(\"None\", inplace = True)\n",
    "train_df['GarageCond'].fillna(\"None\", inplace = True)\n",
    "train_df['GarageYrBlt'].fillna(\"None\", inplace = True)\n",
    "train_df['BsmtExposure'].fillna(\"No Basement\", inplace = True)\n",
    "train_df['BsmtFinType2'].fillna(\"No Basement\", inplace = True)\n",
    "train_df['BsmtFinType1'].fillna(\"No Basement\", inplace = True)\n",
    "train_df['BsmtCond'].fillna(\"No Basement\", inplace = True)\n",
    "train_df['BsmtQual'].fillna(\"No Basement\", inplace = True)\n",
    "train_df['MasVnrArea'].fillna(0, inplace = True)\n",
    "train_df['MasVnrType'].fillna('None', inplace = True)\n",
    "train_df['Electrical'].fillna('SBrkr', inplace = True)"
   ]
  },
  {
   "cell_type": "code",
   "execution_count": 221,
   "metadata": {},
   "outputs": [],
   "source": [
    "categorial_col = [col for col in train_df.columns if train_df.dtypes[col]=='object']\n",
    "numerical_col = [col for col in train_df.columns if train_df.dtypes[col]!='object']"
   ]
  },
  {
   "cell_type": "code",
   "execution_count": 224,
   "metadata": {},
   "outputs": [
    {
     "data": {
      "text/plain": [
       "44"
      ]
     },
     "execution_count": 224,
     "metadata": {},
     "output_type": "execute_result"
    }
   ],
   "source": [
    "len(categorial_col)"
   ]
  },
  {
   "cell_type": "code",
   "execution_count": 225,
   "metadata": {},
   "outputs": [
    {
     "data": {
      "text/plain": [
       "36"
      ]
     },
     "execution_count": 225,
     "metadata": {},
     "output_type": "execute_result"
    }
   ],
   "source": [
    "len(numerical_col)"
   ]
  },
  {
   "cell_type": "code",
   "execution_count": 226,
   "metadata": {},
   "outputs": [
    {
     "data": {
      "text/plain": [
       "['MSZoning',\n",
       " 'Street',\n",
       " 'Alley',\n",
       " 'LotShape',\n",
       " 'LandContour',\n",
       " 'Utilities',\n",
       " 'LotConfig',\n",
       " 'LandSlope',\n",
       " 'Neighborhood',\n",
       " 'Condition1',\n",
       " 'Condition2',\n",
       " 'BldgType',\n",
       " 'HouseStyle',\n",
       " 'RoofStyle',\n",
       " 'RoofMatl',\n",
       " 'Exterior1st',\n",
       " 'Exterior2nd',\n",
       " 'MasVnrType',\n",
       " 'ExterQual',\n",
       " 'ExterCond',\n",
       " 'Foundation',\n",
       " 'BsmtQual',\n",
       " 'BsmtCond',\n",
       " 'BsmtExposure',\n",
       " 'BsmtFinType1',\n",
       " 'BsmtFinType2',\n",
       " 'Heating',\n",
       " 'HeatingQC',\n",
       " 'CentralAir',\n",
       " 'Electrical',\n",
       " 'KitchenQual',\n",
       " 'Functional',\n",
       " 'FireplaceQu',\n",
       " 'GarageType',\n",
       " 'GarageYrBlt',\n",
       " 'GarageFinish',\n",
       " 'GarageQual',\n",
       " 'GarageCond',\n",
       " 'PavedDrive',\n",
       " 'PoolQC',\n",
       " 'Fence',\n",
       " 'MiscFeature',\n",
       " 'SaleType',\n",
       " 'SaleCondition']"
      ]
     },
     "execution_count": 226,
     "metadata": {},
     "output_type": "execute_result"
    }
   ],
   "source": [
    "categorial_col"
   ]
  },
  {
   "cell_type": "code",
   "execution_count": null,
   "metadata": {},
   "outputs": [],
   "source": []
  }
 ],
 "metadata": {
  "kernelspec": {
   "display_name": "Python 3",
   "language": "python",
   "name": "python3"
  },
  "language_info": {
   "codemirror_mode": {
    "name": "ipython",
    "version": 3
   },
   "file_extension": ".py",
   "mimetype": "text/x-python",
   "name": "python",
   "nbconvert_exporter": "python",
   "pygments_lexer": "ipython3",
   "version": "3.6.5"
  }
 },
 "nbformat": 4,
 "nbformat_minor": 2
}
