{
 "cells": [
  {
   "cell_type": "code",
   "execution_count": 1,
   "metadata": {},
   "outputs": [],
   "source": [
    "import pandas as pd\n",
    "import numpy as np\n",
    "import random\n",
    "%matplotlib inline"
   ]
  },
  {
   "cell_type": "code",
   "execution_count": 2,
   "metadata": {},
   "outputs": [],
   "source": [
    "from sklearn.model_selection import train_test_split\n",
    "from sklearn.linear_model import LinearRegression\n"
   ]
  },
  {
   "cell_type": "code",
   "execution_count": 4,
   "metadata": {},
   "outputs": [
    {
     "data": {
      "text/plain": [
       "<bound method NDFrame.head of         Id  MSSubClass MSZoning  LotFrontage  LotArea Street Alley LotShape  \\\n",
       "0        1          60       RL         65.0     8450   Pave   NaN      Reg   \n",
       "1        2          20       RL         80.0     9600   Pave   NaN      Reg   \n",
       "2        3          60       RL         68.0    11250   Pave   NaN      IR1   \n",
       "3        4          70       RL         60.0     9550   Pave   NaN      IR1   \n",
       "4        5          60       RL         84.0    14260   Pave   NaN      IR1   \n",
       "5        6          50       RL         85.0    14115   Pave   NaN      IR1   \n",
       "6        7          20       RL         75.0    10084   Pave   NaN      Reg   \n",
       "7        8          60       RL          NaN    10382   Pave   NaN      IR1   \n",
       "8        9          50       RM         51.0     6120   Pave   NaN      Reg   \n",
       "9       10         190       RL         50.0     7420   Pave   NaN      Reg   \n",
       "10      11          20       RL         70.0    11200   Pave   NaN      Reg   \n",
       "11      12          60       RL         85.0    11924   Pave   NaN      IR1   \n",
       "12      13          20       RL          NaN    12968   Pave   NaN      IR2   \n",
       "13      14          20       RL         91.0    10652   Pave   NaN      IR1   \n",
       "14      15          20       RL          NaN    10920   Pave   NaN      IR1   \n",
       "15      16          45       RM         51.0     6120   Pave   NaN      Reg   \n",
       "16      17          20       RL          NaN    11241   Pave   NaN      IR1   \n",
       "17      18          90       RL         72.0    10791   Pave   NaN      Reg   \n",
       "18      19          20       RL         66.0    13695   Pave   NaN      Reg   \n",
       "19      20          20       RL         70.0     7560   Pave   NaN      Reg   \n",
       "20      21          60       RL        101.0    14215   Pave   NaN      IR1   \n",
       "21      22          45       RM         57.0     7449   Pave  Grvl      Reg   \n",
       "22      23          20       RL         75.0     9742   Pave   NaN      Reg   \n",
       "23      24         120       RM         44.0     4224   Pave   NaN      Reg   \n",
       "24      25          20       RL          NaN     8246   Pave   NaN      IR1   \n",
       "25      26          20       RL        110.0    14230   Pave   NaN      Reg   \n",
       "26      27          20       RL         60.0     7200   Pave   NaN      Reg   \n",
       "27      28          20       RL         98.0    11478   Pave   NaN      Reg   \n",
       "28      29          20       RL         47.0    16321   Pave   NaN      IR1   \n",
       "29      30          30       RM         60.0     6324   Pave   NaN      IR1   \n",
       "...    ...         ...      ...          ...      ...    ...   ...      ...   \n",
       "1430  1431          60       RL         60.0    21930   Pave   NaN      IR3   \n",
       "1431  1432         120       RL          NaN     4928   Pave   NaN      IR1   \n",
       "1432  1433          30       RL         60.0    10800   Pave  Grvl      Reg   \n",
       "1433  1434          60       RL         93.0    10261   Pave   NaN      IR1   \n",
       "1434  1435          20       RL         80.0    17400   Pave   NaN      Reg   \n",
       "1435  1436          20       RL         80.0     8400   Pave   NaN      Reg   \n",
       "1436  1437          20       RL         60.0     9000   Pave   NaN      Reg   \n",
       "1437  1438          20       RL         96.0    12444   Pave   NaN      Reg   \n",
       "1438  1439          20       RM         90.0     7407   Pave   NaN      Reg   \n",
       "1439  1440          60       RL         80.0    11584   Pave   NaN      Reg   \n",
       "1440  1441          70       RL         79.0    11526   Pave   NaN      IR1   \n",
       "1441  1442         120       RM          NaN     4426   Pave   NaN      Reg   \n",
       "1442  1443          60       FV         85.0    11003   Pave   NaN      Reg   \n",
       "1443  1444          30       RL          NaN     8854   Pave   NaN      Reg   \n",
       "1444  1445          20       RL         63.0     8500   Pave   NaN      Reg   \n",
       "1445  1446          85       RL         70.0     8400   Pave   NaN      Reg   \n",
       "1446  1447          20       RL          NaN    26142   Pave   NaN      IR1   \n",
       "1447  1448          60       RL         80.0    10000   Pave   NaN      Reg   \n",
       "1448  1449          50       RL         70.0    11767   Pave   NaN      Reg   \n",
       "1449  1450         180       RM         21.0     1533   Pave   NaN      Reg   \n",
       "1450  1451          90       RL         60.0     9000   Pave   NaN      Reg   \n",
       "1451  1452          20       RL         78.0     9262   Pave   NaN      Reg   \n",
       "1452  1453         180       RM         35.0     3675   Pave   NaN      Reg   \n",
       "1453  1454          20       RL         90.0    17217   Pave   NaN      Reg   \n",
       "1454  1455          20       FV         62.0     7500   Pave  Pave      Reg   \n",
       "1455  1456          60       RL         62.0     7917   Pave   NaN      Reg   \n",
       "1456  1457          20       RL         85.0    13175   Pave   NaN      Reg   \n",
       "1457  1458          70       RL         66.0     9042   Pave   NaN      Reg   \n",
       "1458  1459          20       RL         68.0     9717   Pave   NaN      Reg   \n",
       "1459  1460          20       RL         75.0     9937   Pave   NaN      Reg   \n",
       "\n",
       "     LandContour Utilities    ...     PoolArea PoolQC  Fence MiscFeature  \\\n",
       "0            Lvl    AllPub    ...            0    NaN    NaN         NaN   \n",
       "1            Lvl    AllPub    ...            0    NaN    NaN         NaN   \n",
       "2            Lvl    AllPub    ...            0    NaN    NaN         NaN   \n",
       "3            Lvl    AllPub    ...            0    NaN    NaN         NaN   \n",
       "4            Lvl    AllPub    ...            0    NaN    NaN         NaN   \n",
       "5            Lvl    AllPub    ...            0    NaN  MnPrv        Shed   \n",
       "6            Lvl    AllPub    ...            0    NaN    NaN         NaN   \n",
       "7            Lvl    AllPub    ...            0    NaN    NaN        Shed   \n",
       "8            Lvl    AllPub    ...            0    NaN    NaN         NaN   \n",
       "9            Lvl    AllPub    ...            0    NaN    NaN         NaN   \n",
       "10           Lvl    AllPub    ...            0    NaN    NaN         NaN   \n",
       "11           Lvl    AllPub    ...            0    NaN    NaN         NaN   \n",
       "12           Lvl    AllPub    ...            0    NaN    NaN         NaN   \n",
       "13           Lvl    AllPub    ...            0    NaN    NaN         NaN   \n",
       "14           Lvl    AllPub    ...            0    NaN   GdWo         NaN   \n",
       "15           Lvl    AllPub    ...            0    NaN  GdPrv         NaN   \n",
       "16           Lvl    AllPub    ...            0    NaN    NaN        Shed   \n",
       "17           Lvl    AllPub    ...            0    NaN    NaN        Shed   \n",
       "18           Lvl    AllPub    ...            0    NaN    NaN         NaN   \n",
       "19           Lvl    AllPub    ...            0    NaN  MnPrv         NaN   \n",
       "20           Lvl    AllPub    ...            0    NaN    NaN         NaN   \n",
       "21           Bnk    AllPub    ...            0    NaN  GdPrv         NaN   \n",
       "22           Lvl    AllPub    ...            0    NaN    NaN         NaN   \n",
       "23           Lvl    AllPub    ...            0    NaN    NaN         NaN   \n",
       "24           Lvl    AllPub    ...            0    NaN  MnPrv         NaN   \n",
       "25           Lvl    AllPub    ...            0    NaN    NaN         NaN   \n",
       "26           Lvl    AllPub    ...            0    NaN    NaN         NaN   \n",
       "27           Lvl    AllPub    ...            0    NaN    NaN         NaN   \n",
       "28           Lvl    AllPub    ...            0    NaN    NaN         NaN   \n",
       "29           Lvl    AllPub    ...            0    NaN    NaN         NaN   \n",
       "...          ...       ...    ...          ...    ...    ...         ...   \n",
       "1430         Lvl    AllPub    ...            0    NaN    NaN         NaN   \n",
       "1431         Lvl    AllPub    ...            0    NaN    NaN         NaN   \n",
       "1432         Lvl    AllPub    ...            0    NaN    NaN         NaN   \n",
       "1433         Lvl    AllPub    ...            0    NaN    NaN         NaN   \n",
       "1434         Low    AllPub    ...            0    NaN    NaN         NaN   \n",
       "1435         Lvl    AllPub    ...            0    NaN  GdPrv         NaN   \n",
       "1436         Lvl    AllPub    ...            0    NaN   GdWo         NaN   \n",
       "1437         Lvl    AllPub    ...            0    NaN    NaN         NaN   \n",
       "1438         Lvl    AllPub    ...            0    NaN  MnPrv         NaN   \n",
       "1439         Lvl    AllPub    ...            0    NaN    NaN         NaN   \n",
       "1440         Bnk    AllPub    ...            0    NaN    NaN         NaN   \n",
       "1441         Lvl    AllPub    ...            0    NaN    NaN         NaN   \n",
       "1442         Lvl    AllPub    ...            0    NaN    NaN         NaN   \n",
       "1443         Lvl    AllPub    ...            0    NaN    NaN         NaN   \n",
       "1444         Lvl    AllPub    ...            0    NaN    NaN         NaN   \n",
       "1445         Lvl    AllPub    ...            0    NaN    NaN         NaN   \n",
       "1446         Lvl    AllPub    ...            0    NaN    NaN         NaN   \n",
       "1447         Lvl    AllPub    ...            0    NaN    NaN         NaN   \n",
       "1448         Lvl    AllPub    ...            0    NaN   GdWo         NaN   \n",
       "1449         Lvl    AllPub    ...            0    NaN    NaN         NaN   \n",
       "1450         Lvl    AllPub    ...            0    NaN    NaN         NaN   \n",
       "1451         Lvl    AllPub    ...            0    NaN    NaN         NaN   \n",
       "1452         Lvl    AllPub    ...            0    NaN    NaN         NaN   \n",
       "1453         Lvl    AllPub    ...            0    NaN    NaN         NaN   \n",
       "1454         Lvl    AllPub    ...            0    NaN    NaN         NaN   \n",
       "1455         Lvl    AllPub    ...            0    NaN    NaN         NaN   \n",
       "1456         Lvl    AllPub    ...            0    NaN  MnPrv         NaN   \n",
       "1457         Lvl    AllPub    ...            0    NaN  GdPrv        Shed   \n",
       "1458         Lvl    AllPub    ...            0    NaN    NaN         NaN   \n",
       "1459         Lvl    AllPub    ...            0    NaN    NaN         NaN   \n",
       "\n",
       "     MiscVal MoSold YrSold  SaleType  SaleCondition  SalePrice  \n",
       "0          0      2   2008        WD         Normal     208500  \n",
       "1          0      5   2007        WD         Normal     181500  \n",
       "2          0      9   2008        WD         Normal     223500  \n",
       "3          0      2   2006        WD        Abnorml     140000  \n",
       "4          0     12   2008        WD         Normal     250000  \n",
       "5        700     10   2009        WD         Normal     143000  \n",
       "6          0      8   2007        WD         Normal     307000  \n",
       "7        350     11   2009        WD         Normal     200000  \n",
       "8          0      4   2008        WD        Abnorml     129900  \n",
       "9          0      1   2008        WD         Normal     118000  \n",
       "10         0      2   2008        WD         Normal     129500  \n",
       "11         0      7   2006       New        Partial     345000  \n",
       "12         0      9   2008        WD         Normal     144000  \n",
       "13         0      8   2007       New        Partial     279500  \n",
       "14         0      5   2008        WD         Normal     157000  \n",
       "15         0      7   2007        WD         Normal     132000  \n",
       "16       700      3   2010        WD         Normal     149000  \n",
       "17       500     10   2006        WD         Normal      90000  \n",
       "18         0      6   2008        WD         Normal     159000  \n",
       "19         0      5   2009       COD        Abnorml     139000  \n",
       "20         0     11   2006       New        Partial     325300  \n",
       "21         0      6   2007        WD         Normal     139400  \n",
       "22         0      9   2008        WD         Normal     230000  \n",
       "23         0      6   2007        WD         Normal     129900  \n",
       "24         0      5   2010        WD         Normal     154000  \n",
       "25         0      7   2009        WD         Normal     256300  \n",
       "26         0      5   2010        WD         Normal     134800  \n",
       "27         0      5   2010        WD         Normal     306000  \n",
       "28         0     12   2006        WD         Normal     207500  \n",
       "29         0      5   2008        WD         Normal      68500  \n",
       "...      ...    ...    ...       ...            ...        ...  \n",
       "1430       0      7   2006        WD         Normal     192140  \n",
       "1431       0     10   2009        WD         Normal     143750  \n",
       "1432       0      8   2007        WD         Normal      64500  \n",
       "1433       0      5   2008        WD         Normal     186500  \n",
       "1434       0      5   2006        WD         Normal     160000  \n",
       "1435       0      7   2008       COD        Abnorml     174000  \n",
       "1436       0      5   2007        WD         Normal     120500  \n",
       "1437       0     11   2008       New        Partial     394617  \n",
       "1438       0      4   2010        WD         Normal     149700  \n",
       "1439       0     11   2007        WD         Normal     197000  \n",
       "1440       0      9   2008        WD         Normal     191000  \n",
       "1441       0      5   2008        WD         Normal     149300  \n",
       "1442       0      4   2009        WD         Normal     310000  \n",
       "1443       0      5   2009        WD         Normal     121000  \n",
       "1444       0     11   2007        WD         Normal     179600  \n",
       "1445       0      5   2007        WD         Normal     129000  \n",
       "1446       0      4   2010        WD         Normal     157900  \n",
       "1447       0     12   2007        WD         Normal     240000  \n",
       "1448       0      5   2007        WD         Normal     112000  \n",
       "1449       0      8   2006        WD        Abnorml      92000  \n",
       "1450       0      9   2009        WD         Normal     136000  \n",
       "1451       0      5   2009       New        Partial     287090  \n",
       "1452       0      5   2006        WD         Normal     145000  \n",
       "1453       0      7   2006        WD        Abnorml      84500  \n",
       "1454       0     10   2009        WD         Normal     185000  \n",
       "1455       0      8   2007        WD         Normal     175000  \n",
       "1456       0      2   2010        WD         Normal     210000  \n",
       "1457    2500      5   2010        WD         Normal     266500  \n",
       "1458       0      4   2010        WD         Normal     142125  \n",
       "1459       0      6   2008        WD         Normal     147500  \n",
       "\n",
       "[1460 rows x 81 columns]>"
      ]
     },
     "execution_count": 4,
     "metadata": {},
     "output_type": "execute_result"
    }
   ],
   "source": [
    "train_df = pd.read_csv('train.csv')\n"
   ]
  },
  {
   "cell_type": "code",
   "execution_count": 4,
   "metadata": {},
   "outputs": [
    {
     "data": {
      "text/plain": [
       "float"
      ]
     },
     "execution_count": 4,
     "metadata": {},
     "output_type": "execute_result"
    }
   ],
   "source": [
    "type(train_df.Alley[1])"
   ]
  },
  {
   "cell_type": "code",
   "execution_count": 5,
   "metadata": {},
   "outputs": [],
   "source": [
    "missing = train_df.isnull().sum().sort_values(ascending=False)"
   ]
  },
  {
   "cell_type": "code",
   "execution_count": 6,
   "metadata": {},
   "outputs": [
    {
     "data": {
      "text/plain": [
       "PoolQC           1453\n",
       "MiscFeature      1406\n",
       "Alley            1369\n",
       "Fence            1179\n",
       "FireplaceQu       690\n",
       "LotFrontage       259\n",
       "GarageCond         81\n",
       "GarageType         81\n",
       "GarageYrBlt        81\n",
       "GarageFinish       81\n",
       "GarageQual         81\n",
       "BsmtExposure       38\n",
       "BsmtFinType2       38\n",
       "BsmtFinType1       37\n",
       "BsmtCond           37\n",
       "BsmtQual           37\n",
       "MasVnrArea          8\n",
       "MasVnrType          8\n",
       "Electrical          1\n",
       "Utilities           0\n",
       "YearRemodAdd        0\n",
       "MSSubClass          0\n",
       "Foundation          0\n",
       "ExterCond           0\n",
       "ExterQual           0\n",
       "Exterior2nd         0\n",
       "Exterior1st         0\n",
       "RoofMatl            0\n",
       "RoofStyle           0\n",
       "YearBuilt           0\n",
       "                 ... \n",
       "GarageArea          0\n",
       "PavedDrive          0\n",
       "WoodDeckSF          0\n",
       "OpenPorchSF         0\n",
       "3SsnPorch           0\n",
       "BsmtUnfSF           0\n",
       "ScreenPorch         0\n",
       "PoolArea            0\n",
       "MiscVal             0\n",
       "MoSold              0\n",
       "YrSold              0\n",
       "SaleType            0\n",
       "Functional          0\n",
       "TotRmsAbvGrd        0\n",
       "KitchenQual         0\n",
       "KitchenAbvGr        0\n",
       "BedroomAbvGr        0\n",
       "HalfBath            0\n",
       "FullBath            0\n",
       "BsmtHalfBath        0\n",
       "BsmtFullBath        0\n",
       "GrLivArea           0\n",
       "LowQualFinSF        0\n",
       "2ndFlrSF            0\n",
       "1stFlrSF            0\n",
       "CentralAir          0\n",
       "SaleCondition       0\n",
       "Heating             0\n",
       "TotalBsmtSF         0\n",
       "Id                  0\n",
       "Length: 81, dtype: int64"
      ]
     },
     "execution_count": 6,
     "metadata": {},
     "output_type": "execute_result"
    }
   ],
   "source": [
    "missing"
   ]
  },
  {
   "cell_type": "code",
   "execution_count": 7,
   "metadata": {},
   "outputs": [],
   "source": [
    "# Missing value"
   ]
  },
  {
   "cell_type": "code",
   "execution_count": 7,
   "metadata": {},
   "outputs": [],
   "source": [
    "train_df.PoolQC = train_df.PoolQC.fillna('No Pool')"
   ]
  },
  {
   "cell_type": "code",
   "execution_count": 8,
   "metadata": {},
   "outputs": [],
   "source": [
    "train_df.MiscFeature = train_df.MiscFeature.fillna('None')"
   ]
  },
  {
   "cell_type": "code",
   "execution_count": 9,
   "metadata": {},
   "outputs": [],
   "source": [
    "train_df.Alley = train_df.Alley.fillna('No alley Access')"
   ]
  },
  {
   "cell_type": "code",
   "execution_count": 10,
   "metadata": {},
   "outputs": [],
   "source": [
    "train_df.Fence = train_df.Fence.fillna('No fence')"
   ]
  },
  {
   "cell_type": "code",
   "execution_count": 11,
   "metadata": {},
   "outputs": [],
   "source": [
    "train_df.FireplaceQu = train_df.FireplaceQu.fillna('No Fireplace')"
   ]
  },
  {
   "cell_type": "code",
   "execution_count": 13,
   "metadata": {},
   "outputs": [
    {
     "data": {
      "text/plain": [
       "count    1201.000000\n",
       "mean       70.049958\n",
       "std        24.284752\n",
       "min        21.000000\n",
       "25%        59.000000\n",
       "50%        69.000000\n",
       "75%        80.000000\n",
       "max       313.000000\n",
       "Name: LotFrontage, dtype: float64"
      ]
     },
     "execution_count": 13,
     "metadata": {},
     "output_type": "execute_result"
    }
   ],
   "source": [
    "train_df.LotFrontage.describe()"
   ]
  },
  {
   "cell_type": "code",
   "execution_count": 12,
   "metadata": {},
   "outputs": [
    {
     "data": {
      "text/plain": [
       "Neighborhood\n",
       "Blmngtn    47.142857\n",
       "Blueste    24.000000\n",
       "BrDale     21.562500\n",
       "BrkSide    57.509804\n",
       "ClearCr    83.461538\n",
       "CollgCr    71.682540\n",
       "Crawfor    71.804878\n",
       "Edwards    68.217391\n",
       "Gilbert    79.877551\n",
       "IDOTRR     62.500000\n",
       "MeadowV    27.800000\n",
       "Mitchel    70.083333\n",
       "NAmes      76.462366\n",
       "NPkVill    32.285714\n",
       "NWAmes     81.288889\n",
       "NoRidge    91.878788\n",
       "NridgHt    81.881579\n",
       "OldTown    62.788991\n",
       "SWISU      58.913043\n",
       "Sawyer     74.437500\n",
       "SawyerW    71.500000\n",
       "Somerst    64.666667\n",
       "StoneBr    62.700000\n",
       "Timber     80.133333\n",
       "Veenker    59.714286\n",
       "Name: LotFrontage, dtype: float64"
      ]
     },
     "execution_count": 12,
     "metadata": {},
     "output_type": "execute_result"
    }
   ],
   "source": [
    "train_df.groupby('Neighborhood').agg('mean')['LotFrontage']"
   ]
  },
  {
   "cell_type": "code",
   "execution_count": 13,
   "metadata": {},
   "outputs": [],
   "source": [
    "train_df['LotFrontage'] = train_df['LotFrontage'].fillna(train_df.groupby(['Neighborhood'])['LotFrontage'].transform('mean'))"
   ]
  },
  {
   "cell_type": "code",
   "execution_count": 14,
   "metadata": {},
   "outputs": [],
   "source": [
    "train_df.LotFrontage = train_df.LotFrontage.round()"
   ]
  },
  {
   "cell_type": "code",
   "execution_count": 15,
   "metadata": {},
   "outputs": [],
   "source": [
    "train_df.GarageCond = train_df.GarageCond.fillna('No garage')"
   ]
  },
  {
   "cell_type": "code",
   "execution_count": 16,
   "metadata": {},
   "outputs": [],
   "source": [
    "train_df.GarageType = train_df.GarageType.fillna('No garage')"
   ]
  },
  {
   "cell_type": "code",
   "execution_count": 17,
   "metadata": {},
   "outputs": [],
   "source": [
    "train_df.GarageYrBlt = train_df.GarageYrBlt.fillna('No garage')"
   ]
  },
  {
   "cell_type": "code",
   "execution_count": 18,
   "metadata": {},
   "outputs": [],
   "source": [
    "train_df.GarageFinish = train_df.GarageFinish.fillna('No garage')"
   ]
  },
  {
   "cell_type": "code",
   "execution_count": 19,
   "metadata": {},
   "outputs": [],
   "source": [
    "train_df.GarageQual = train_df.GarageQual.fillna('No garage')"
   ]
  },
  {
   "cell_type": "code",
   "execution_count": 20,
   "metadata": {},
   "outputs": [],
   "source": [
    "train_df.BsmtExposure = train_df.BsmtExposure.fillna('No basement')"
   ]
  },
  {
   "cell_type": "code",
   "execution_count": 21,
   "metadata": {},
   "outputs": [],
   "source": [
    "train_df.BsmtFinType2 = train_df.BsmtFinType2.fillna('No basement')"
   ]
  },
  {
   "cell_type": "code",
   "execution_count": 22,
   "metadata": {},
   "outputs": [],
   "source": [
    "train_df.BsmtFinType1 = train_df.BsmtFinType1.fillna('No basement')"
   ]
  },
  {
   "cell_type": "code",
   "execution_count": 23,
   "metadata": {},
   "outputs": [],
   "source": [
    "train_df.BsmtCond = train_df.BsmtCond.fillna('No basement')"
   ]
  },
  {
   "cell_type": "code",
   "execution_count": 24,
   "metadata": {},
   "outputs": [],
   "source": [
    "train_df.BsmtQual = train_df.BsmtQual.fillna('No basement')"
   ]
  },
  {
   "cell_type": "code",
   "execution_count": 25,
   "metadata": {},
   "outputs": [],
   "source": [
    "train_df.MasVnrArea = train_df.MasVnrArea.fillna(0)"
   ]
  },
  {
   "cell_type": "code",
   "execution_count": 26,
   "metadata": {},
   "outputs": [],
   "source": [
    "train_df.MasVnrType = train_df.MasVnrType.fillna('None')"
   ]
  },
  {
   "cell_type": "code",
   "execution_count": 27,
   "metadata": {},
   "outputs": [],
   "source": [
    "train_df.Electrical = train_df.Electrical.fillna('SBrkr')"
   ]
  },
  {
   "cell_type": "code",
   "execution_count": 28,
   "metadata": {},
   "outputs": [
    {
     "data": {
      "text/plain": [
       "SalePrice       0\n",
       "Heating         0\n",
       "RoofStyle       0\n",
       "RoofMatl        0\n",
       "Exterior1st     0\n",
       "Exterior2nd     0\n",
       "MasVnrType      0\n",
       "MasVnrArea      0\n",
       "ExterQual       0\n",
       "ExterCond       0\n",
       "Foundation      0\n",
       "BsmtQual        0\n",
       "BsmtCond        0\n",
       "BsmtExposure    0\n",
       "BsmtFinType1    0\n",
       "BsmtFinSF1      0\n",
       "BsmtFinType2    0\n",
       "BsmtFinSF2      0\n",
       "BsmtUnfSF       0\n",
       "YearRemodAdd    0\n",
       "YearBuilt       0\n",
       "OverallCond     0\n",
       "LandContour     0\n",
       "MSSubClass      0\n",
       "MSZoning        0\n",
       "LotFrontage     0\n",
       "LotArea         0\n",
       "Street          0\n",
       "Alley           0\n",
       "LotShape        0\n",
       "               ..\n",
       "ScreenPorch     0\n",
       "PoolArea        0\n",
       "PoolQC          0\n",
       "Fence           0\n",
       "MiscFeature     0\n",
       "MiscVal         0\n",
       "MoSold          0\n",
       "YrSold          0\n",
       "SaleType        0\n",
       "GarageCars      0\n",
       "GarageFinish    0\n",
       "GarageYrBlt     0\n",
       "FullBath        0\n",
       "Electrical      0\n",
       "1stFlrSF        0\n",
       "2ndFlrSF        0\n",
       "LowQualFinSF    0\n",
       "GrLivArea       0\n",
       "BsmtFullBath    0\n",
       "BsmtHalfBath    0\n",
       "HalfBath        0\n",
       "GarageType      0\n",
       "BedroomAbvGr    0\n",
       "KitchenAbvGr    0\n",
       "KitchenQual     0\n",
       "TotRmsAbvGrd    0\n",
       "Functional      0\n",
       "Fireplaces      0\n",
       "FireplaceQu     0\n",
       "Id              0\n",
       "Length: 81, dtype: int64"
      ]
     },
     "execution_count": 28,
     "metadata": {},
     "output_type": "execute_result"
    }
   ],
   "source": [
    "train_df.isnull().sum().sort_values(ascending=False)"
   ]
  },
  {
   "cell_type": "code",
   "execution_count": 42,
   "metadata": {},
   "outputs": [
    {
     "data": {
      "text/html": [
       "<div>\n",
       "<style>\n",
       "    .dataframe thead tr:only-child th {\n",
       "        text-align: right;\n",
       "    }\n",
       "\n",
       "    .dataframe thead th {\n",
       "        text-align: left;\n",
       "    }\n",
       "\n",
       "    .dataframe tbody tr th {\n",
       "        vertical-align: top;\n",
       "    }\n",
       "</style>\n",
       "<table border=\"1\" class=\"dataframe\">\n",
       "  <thead>\n",
       "    <tr style=\"text-align: right;\">\n",
       "      <th></th>\n",
       "      <th>GarageYrBlt</th>\n",
       "      <th>YearBuilt</th>\n",
       "      <th>YearRemodAdd</th>\n",
       "      <th>GarageCond</th>\n",
       "    </tr>\n",
       "  </thead>\n",
       "  <tbody>\n",
       "    <tr>\n",
       "      <th>39</th>\n",
       "      <td>NaN</td>\n",
       "      <td>1955</td>\n",
       "      <td>1955</td>\n",
       "      <td>No garage</td>\n",
       "    </tr>\n",
       "    <tr>\n",
       "      <th>48</th>\n",
       "      <td>NaN</td>\n",
       "      <td>1920</td>\n",
       "      <td>2008</td>\n",
       "      <td>No garage</td>\n",
       "    </tr>\n",
       "    <tr>\n",
       "      <th>78</th>\n",
       "      <td>NaN</td>\n",
       "      <td>1968</td>\n",
       "      <td>1968</td>\n",
       "      <td>No garage</td>\n",
       "    </tr>\n",
       "    <tr>\n",
       "      <th>88</th>\n",
       "      <td>NaN</td>\n",
       "      <td>1915</td>\n",
       "      <td>1982</td>\n",
       "      <td>No garage</td>\n",
       "    </tr>\n",
       "    <tr>\n",
       "      <th>89</th>\n",
       "      <td>NaN</td>\n",
       "      <td>1994</td>\n",
       "      <td>1995</td>\n",
       "      <td>No garage</td>\n",
       "    </tr>\n",
       "    <tr>\n",
       "      <th>99</th>\n",
       "      <td>NaN</td>\n",
       "      <td>1959</td>\n",
       "      <td>1959</td>\n",
       "      <td>No garage</td>\n",
       "    </tr>\n",
       "    <tr>\n",
       "      <th>108</th>\n",
       "      <td>NaN</td>\n",
       "      <td>1919</td>\n",
       "      <td>2005</td>\n",
       "      <td>No garage</td>\n",
       "    </tr>\n",
       "    <tr>\n",
       "      <th>125</th>\n",
       "      <td>NaN</td>\n",
       "      <td>1935</td>\n",
       "      <td>1982</td>\n",
       "      <td>No garage</td>\n",
       "    </tr>\n",
       "    <tr>\n",
       "      <th>127</th>\n",
       "      <td>NaN</td>\n",
       "      <td>1930</td>\n",
       "      <td>1950</td>\n",
       "      <td>No garage</td>\n",
       "    </tr>\n",
       "    <tr>\n",
       "      <th>140</th>\n",
       "      <td>NaN</td>\n",
       "      <td>1971</td>\n",
       "      <td>1971</td>\n",
       "      <td>No garage</td>\n",
       "    </tr>\n",
       "    <tr>\n",
       "      <th>148</th>\n",
       "      <td>NaN</td>\n",
       "      <td>2004</td>\n",
       "      <td>2005</td>\n",
       "      <td>No garage</td>\n",
       "    </tr>\n",
       "    <tr>\n",
       "      <th>155</th>\n",
       "      <td>NaN</td>\n",
       "      <td>1924</td>\n",
       "      <td>1950</td>\n",
       "      <td>No garage</td>\n",
       "    </tr>\n",
       "    <tr>\n",
       "      <th>163</th>\n",
       "      <td>NaN</td>\n",
       "      <td>1956</td>\n",
       "      <td>1956</td>\n",
       "      <td>No garage</td>\n",
       "    </tr>\n",
       "    <tr>\n",
       "      <th>165</th>\n",
       "      <td>NaN</td>\n",
       "      <td>1940</td>\n",
       "      <td>1999</td>\n",
       "      <td>No garage</td>\n",
       "    </tr>\n",
       "    <tr>\n",
       "      <th>198</th>\n",
       "      <td>NaN</td>\n",
       "      <td>1912</td>\n",
       "      <td>1950</td>\n",
       "      <td>No garage</td>\n",
       "    </tr>\n",
       "    <tr>\n",
       "      <th>210</th>\n",
       "      <td>NaN</td>\n",
       "      <td>1925</td>\n",
       "      <td>1950</td>\n",
       "      <td>No garage</td>\n",
       "    </tr>\n",
       "    <tr>\n",
       "      <th>241</th>\n",
       "      <td>NaN</td>\n",
       "      <td>1945</td>\n",
       "      <td>1997</td>\n",
       "      <td>No garage</td>\n",
       "    </tr>\n",
       "    <tr>\n",
       "      <th>250</th>\n",
       "      <td>NaN</td>\n",
       "      <td>1940</td>\n",
       "      <td>1966</td>\n",
       "      <td>No garage</td>\n",
       "    </tr>\n",
       "    <tr>\n",
       "      <th>287</th>\n",
       "      <td>NaN</td>\n",
       "      <td>1971</td>\n",
       "      <td>1971</td>\n",
       "      <td>No garage</td>\n",
       "    </tr>\n",
       "    <tr>\n",
       "      <th>291</th>\n",
       "      <td>NaN</td>\n",
       "      <td>1912</td>\n",
       "      <td>2000</td>\n",
       "      <td>No garage</td>\n",
       "    </tr>\n",
       "    <tr>\n",
       "      <th>307</th>\n",
       "      <td>NaN</td>\n",
       "      <td>1920</td>\n",
       "      <td>1950</td>\n",
       "      <td>No garage</td>\n",
       "    </tr>\n",
       "    <tr>\n",
       "      <th>375</th>\n",
       "      <td>NaN</td>\n",
       "      <td>1922</td>\n",
       "      <td>1950</td>\n",
       "      <td>No garage</td>\n",
       "    </tr>\n",
       "    <tr>\n",
       "      <th>386</th>\n",
       "      <td>NaN</td>\n",
       "      <td>1910</td>\n",
       "      <td>1996</td>\n",
       "      <td>No garage</td>\n",
       "    </tr>\n",
       "    <tr>\n",
       "      <th>393</th>\n",
       "      <td>NaN</td>\n",
       "      <td>1941</td>\n",
       "      <td>1950</td>\n",
       "      <td>No garage</td>\n",
       "    </tr>\n",
       "    <tr>\n",
       "      <th>431</th>\n",
       "      <td>NaN</td>\n",
       "      <td>1920</td>\n",
       "      <td>1998</td>\n",
       "      <td>No garage</td>\n",
       "    </tr>\n",
       "    <tr>\n",
       "      <th>434</th>\n",
       "      <td>NaN</td>\n",
       "      <td>1972</td>\n",
       "      <td>1972</td>\n",
       "      <td>No garage</td>\n",
       "    </tr>\n",
       "    <tr>\n",
       "      <th>441</th>\n",
       "      <td>NaN</td>\n",
       "      <td>1955</td>\n",
       "      <td>1955</td>\n",
       "      <td>No garage</td>\n",
       "    </tr>\n",
       "    <tr>\n",
       "      <th>464</th>\n",
       "      <td>NaN</td>\n",
       "      <td>1978</td>\n",
       "      <td>1978</td>\n",
       "      <td>No garage</td>\n",
       "    </tr>\n",
       "    <tr>\n",
       "      <th>495</th>\n",
       "      <td>NaN</td>\n",
       "      <td>1920</td>\n",
       "      <td>1950</td>\n",
       "      <td>No garage</td>\n",
       "    </tr>\n",
       "    <tr>\n",
       "      <th>520</th>\n",
       "      <td>NaN</td>\n",
       "      <td>1900</td>\n",
       "      <td>2000</td>\n",
       "      <td>No garage</td>\n",
       "    </tr>\n",
       "    <tr>\n",
       "      <th>...</th>\n",
       "      <td>...</td>\n",
       "      <td>...</td>\n",
       "      <td>...</td>\n",
       "      <td>...</td>\n",
       "    </tr>\n",
       "    <tr>\n",
       "      <th>954</th>\n",
       "      <td>NaN</td>\n",
       "      <td>1975</td>\n",
       "      <td>1975</td>\n",
       "      <td>No garage</td>\n",
       "    </tr>\n",
       "    <tr>\n",
       "      <th>960</th>\n",
       "      <td>NaN</td>\n",
       "      <td>1958</td>\n",
       "      <td>2008</td>\n",
       "      <td>No garage</td>\n",
       "    </tr>\n",
       "    <tr>\n",
       "      <th>968</th>\n",
       "      <td>NaN</td>\n",
       "      <td>1910</td>\n",
       "      <td>1950</td>\n",
       "      <td>No garage</td>\n",
       "    </tr>\n",
       "    <tr>\n",
       "      <th>970</th>\n",
       "      <td>NaN</td>\n",
       "      <td>1949</td>\n",
       "      <td>1950</td>\n",
       "      <td>No garage</td>\n",
       "    </tr>\n",
       "    <tr>\n",
       "      <th>976</th>\n",
       "      <td>NaN</td>\n",
       "      <td>1923</td>\n",
       "      <td>1958</td>\n",
       "      <td>No garage</td>\n",
       "    </tr>\n",
       "    <tr>\n",
       "      <th>1009</th>\n",
       "      <td>NaN</td>\n",
       "      <td>1926</td>\n",
       "      <td>1950</td>\n",
       "      <td>No garage</td>\n",
       "    </tr>\n",
       "    <tr>\n",
       "      <th>1011</th>\n",
       "      <td>NaN</td>\n",
       "      <td>1965</td>\n",
       "      <td>1965</td>\n",
       "      <td>No garage</td>\n",
       "    </tr>\n",
       "    <tr>\n",
       "      <th>1030</th>\n",
       "      <td>NaN</td>\n",
       "      <td>1916</td>\n",
       "      <td>1995</td>\n",
       "      <td>No garage</td>\n",
       "    </tr>\n",
       "    <tr>\n",
       "      <th>1038</th>\n",
       "      <td>NaN</td>\n",
       "      <td>1970</td>\n",
       "      <td>2008</td>\n",
       "      <td>No garage</td>\n",
       "    </tr>\n",
       "    <tr>\n",
       "      <th>1096</th>\n",
       "      <td>NaN</td>\n",
       "      <td>1914</td>\n",
       "      <td>2006</td>\n",
       "      <td>No garage</td>\n",
       "    </tr>\n",
       "    <tr>\n",
       "      <th>1123</th>\n",
       "      <td>NaN</td>\n",
       "      <td>1947</td>\n",
       "      <td>2008</td>\n",
       "      <td>No garage</td>\n",
       "    </tr>\n",
       "    <tr>\n",
       "      <th>1131</th>\n",
       "      <td>NaN</td>\n",
       "      <td>1991</td>\n",
       "      <td>1992</td>\n",
       "      <td>No garage</td>\n",
       "    </tr>\n",
       "    <tr>\n",
       "      <th>1137</th>\n",
       "      <td>NaN</td>\n",
       "      <td>1875</td>\n",
       "      <td>1996</td>\n",
       "      <td>No garage</td>\n",
       "    </tr>\n",
       "    <tr>\n",
       "      <th>1143</th>\n",
       "      <td>NaN</td>\n",
       "      <td>1959</td>\n",
       "      <td>1959</td>\n",
       "      <td>No garage</td>\n",
       "    </tr>\n",
       "    <tr>\n",
       "      <th>1173</th>\n",
       "      <td>NaN</td>\n",
       "      <td>1946</td>\n",
       "      <td>1994</td>\n",
       "      <td>No garage</td>\n",
       "    </tr>\n",
       "    <tr>\n",
       "      <th>1179</th>\n",
       "      <td>NaN</td>\n",
       "      <td>1954</td>\n",
       "      <td>1954</td>\n",
       "      <td>No garage</td>\n",
       "    </tr>\n",
       "    <tr>\n",
       "      <th>1218</th>\n",
       "      <td>NaN</td>\n",
       "      <td>1947</td>\n",
       "      <td>1950</td>\n",
       "      <td>No garage</td>\n",
       "    </tr>\n",
       "    <tr>\n",
       "      <th>1219</th>\n",
       "      <td>NaN</td>\n",
       "      <td>1971</td>\n",
       "      <td>1971</td>\n",
       "      <td>No garage</td>\n",
       "    </tr>\n",
       "    <tr>\n",
       "      <th>1234</th>\n",
       "      <td>NaN</td>\n",
       "      <td>1911</td>\n",
       "      <td>1950</td>\n",
       "      <td>No garage</td>\n",
       "    </tr>\n",
       "    <tr>\n",
       "      <th>1257</th>\n",
       "      <td>NaN</td>\n",
       "      <td>1922</td>\n",
       "      <td>1950</td>\n",
       "      <td>No garage</td>\n",
       "    </tr>\n",
       "    <tr>\n",
       "      <th>1283</th>\n",
       "      <td>NaN</td>\n",
       "      <td>1971</td>\n",
       "      <td>1971</td>\n",
       "      <td>No garage</td>\n",
       "    </tr>\n",
       "    <tr>\n",
       "      <th>1323</th>\n",
       "      <td>NaN</td>\n",
       "      <td>1940</td>\n",
       "      <td>1950</td>\n",
       "      <td>No garage</td>\n",
       "    </tr>\n",
       "    <tr>\n",
       "      <th>1325</th>\n",
       "      <td>NaN</td>\n",
       "      <td>1922</td>\n",
       "      <td>1950</td>\n",
       "      <td>No garage</td>\n",
       "    </tr>\n",
       "    <tr>\n",
       "      <th>1326</th>\n",
       "      <td>NaN</td>\n",
       "      <td>1931</td>\n",
       "      <td>2006</td>\n",
       "      <td>No garage</td>\n",
       "    </tr>\n",
       "    <tr>\n",
       "      <th>1337</th>\n",
       "      <td>NaN</td>\n",
       "      <td>1941</td>\n",
       "      <td>1950</td>\n",
       "      <td>No garage</td>\n",
       "    </tr>\n",
       "    <tr>\n",
       "      <th>1349</th>\n",
       "      <td>NaN</td>\n",
       "      <td>1872</td>\n",
       "      <td>1987</td>\n",
       "      <td>No garage</td>\n",
       "    </tr>\n",
       "    <tr>\n",
       "      <th>1407</th>\n",
       "      <td>NaN</td>\n",
       "      <td>1985</td>\n",
       "      <td>1985</td>\n",
       "      <td>No garage</td>\n",
       "    </tr>\n",
       "    <tr>\n",
       "      <th>1449</th>\n",
       "      <td>NaN</td>\n",
       "      <td>1970</td>\n",
       "      <td>1970</td>\n",
       "      <td>No garage</td>\n",
       "    </tr>\n",
       "    <tr>\n",
       "      <th>1450</th>\n",
       "      <td>NaN</td>\n",
       "      <td>1974</td>\n",
       "      <td>1974</td>\n",
       "      <td>No garage</td>\n",
       "    </tr>\n",
       "    <tr>\n",
       "      <th>1453</th>\n",
       "      <td>NaN</td>\n",
       "      <td>2006</td>\n",
       "      <td>2006</td>\n",
       "      <td>No garage</td>\n",
       "    </tr>\n",
       "  </tbody>\n",
       "</table>\n",
       "<p>81 rows × 4 columns</p>\n",
       "</div>"
      ],
      "text/plain": [
       "      GarageYrBlt  YearBuilt  YearRemodAdd GarageCond\n",
       "39            NaN       1955          1955  No garage\n",
       "48            NaN       1920          2008  No garage\n",
       "78            NaN       1968          1968  No garage\n",
       "88            NaN       1915          1982  No garage\n",
       "89            NaN       1994          1995  No garage\n",
       "99            NaN       1959          1959  No garage\n",
       "108           NaN       1919          2005  No garage\n",
       "125           NaN       1935          1982  No garage\n",
       "127           NaN       1930          1950  No garage\n",
       "140           NaN       1971          1971  No garage\n",
       "148           NaN       2004          2005  No garage\n",
       "155           NaN       1924          1950  No garage\n",
       "163           NaN       1956          1956  No garage\n",
       "165           NaN       1940          1999  No garage\n",
       "198           NaN       1912          1950  No garage\n",
       "210           NaN       1925          1950  No garage\n",
       "241           NaN       1945          1997  No garage\n",
       "250           NaN       1940          1966  No garage\n",
       "287           NaN       1971          1971  No garage\n",
       "291           NaN       1912          2000  No garage\n",
       "307           NaN       1920          1950  No garage\n",
       "375           NaN       1922          1950  No garage\n",
       "386           NaN       1910          1996  No garage\n",
       "393           NaN       1941          1950  No garage\n",
       "431           NaN       1920          1998  No garage\n",
       "434           NaN       1972          1972  No garage\n",
       "441           NaN       1955          1955  No garage\n",
       "464           NaN       1978          1978  No garage\n",
       "495           NaN       1920          1950  No garage\n",
       "520           NaN       1900          2000  No garage\n",
       "...           ...        ...           ...        ...\n",
       "954           NaN       1975          1975  No garage\n",
       "960           NaN       1958          2008  No garage\n",
       "968           NaN       1910          1950  No garage\n",
       "970           NaN       1949          1950  No garage\n",
       "976           NaN       1923          1958  No garage\n",
       "1009          NaN       1926          1950  No garage\n",
       "1011          NaN       1965          1965  No garage\n",
       "1030          NaN       1916          1995  No garage\n",
       "1038          NaN       1970          2008  No garage\n",
       "1096          NaN       1914          2006  No garage\n",
       "1123          NaN       1947          2008  No garage\n",
       "1131          NaN       1991          1992  No garage\n",
       "1137          NaN       1875          1996  No garage\n",
       "1143          NaN       1959          1959  No garage\n",
       "1173          NaN       1946          1994  No garage\n",
       "1179          NaN       1954          1954  No garage\n",
       "1218          NaN       1947          1950  No garage\n",
       "1219          NaN       1971          1971  No garage\n",
       "1234          NaN       1911          1950  No garage\n",
       "1257          NaN       1922          1950  No garage\n",
       "1283          NaN       1971          1971  No garage\n",
       "1323          NaN       1940          1950  No garage\n",
       "1325          NaN       1922          1950  No garage\n",
       "1326          NaN       1931          2006  No garage\n",
       "1337          NaN       1941          1950  No garage\n",
       "1349          NaN       1872          1987  No garage\n",
       "1407          NaN       1985          1985  No garage\n",
       "1449          NaN       1970          1970  No garage\n",
       "1450          NaN       1974          1974  No garage\n",
       "1453          NaN       2006          2006  No garage\n",
       "\n",
       "[81 rows x 4 columns]"
      ]
     },
     "execution_count": 42,
     "metadata": {},
     "output_type": "execute_result"
    }
   ],
   "source": [
    "train_df[['GarageYrBlt','YearBuilt','YearRemodAdd','GarageCond']][train_df.GarageYrBlt.isnull()]"
   ]
  },
  {
   "cell_type": "code",
   "execution_count": null,
   "metadata": {},
   "outputs": [],
   "source": [
    "#kag.LotFrontage.fillna(lambda x: random.choice(kag[kag['LotFrontage'] != np.nan][\"LotFrontage\"]), inplace =True)"
   ]
  },
  {
   "cell_type": "code",
   "execution_count": 72,
   "metadata": {},
   "outputs": [],
   "source": [
    "categorical_col = [col for col in train_df.columns if train_df.dtypes[col]=='object']\n",
    "numerical_col = [col for col in train_df.columns if train_df.dtypes[col]!='object']"
   ]
  },
  {
   "cell_type": "code",
   "execution_count": 79,
   "metadata": {},
   "outputs": [
    {
     "data": {
      "text/plain": [
       "['MSSubClass',\n",
       " 'LotFrontage',\n",
       " 'LotArea',\n",
       " 'OverallQual',\n",
       " 'OverallCond',\n",
       " 'YearBuilt',\n",
       " 'YearRemodAdd',\n",
       " 'MasVnrArea',\n",
       " 'BsmtFinSF1',\n",
       " 'BsmtFinSF2',\n",
       " 'BsmtUnfSF',\n",
       " 'TotalBsmtSF',\n",
       " '1stFlrSF',\n",
       " '2ndFlrSF',\n",
       " 'LowQualFinSF',\n",
       " 'GrLivArea',\n",
       " 'BsmtFullBath',\n",
       " 'BsmtHalfBath',\n",
       " 'FullBath',\n",
       " 'HalfBath',\n",
       " 'BedroomAbvGr',\n",
       " 'KitchenAbvGr',\n",
       " 'TotRmsAbvGrd',\n",
       " 'Fireplaces',\n",
       " 'GarageCars',\n",
       " 'GarageArea',\n",
       " 'WoodDeckSF',\n",
       " 'OpenPorchSF',\n",
       " 'EnclosedPorch',\n",
       " '3SsnPorch',\n",
       " 'ScreenPorch',\n",
       " 'PoolArea',\n",
       " 'MiscVal',\n",
       " 'MoSold',\n",
       " 'YrSold',\n",
       " 'SalePrice']"
      ]
     },
     "execution_count": 79,
     "metadata": {},
     "output_type": "execute_result"
    }
   ],
   "source": [
    "numerical_col"
   ]
  },
  {
   "cell_type": "code",
   "execution_count": 90,
   "metadata": {},
   "outputs": [],
   "source": [
    "#Quantitative features\n",
    "quant_feats = ['LotFrontage','LotArea','MasVnrArea','BsmtFinSF1','BsmtFinSF2','BsmtUnfSF',\n",
    "              'TotalBsmtSF','1stFlrSF','2ndFlrSF','LowQualFinSF','GrLivArea','BsmtFullBath',\n",
    "              'BsmtHalfBath','FullBath','HalfBath','BedroomAbvGr','KitchenAbvGr',\n",
    "              'TotRmsAbvGrd','Fireplaces','GarageCars','GarageArea','WoodDeckSF',\n",
    "              'OpenPorchSF','EnclosedPorch','3SsnPorch','ScreenPorch','PoolArea',\n",
    "              'MiscVal', 'SalePrice']"
   ]
  },
  {
   "cell_type": "code",
   "execution_count": 118,
   "metadata": {},
   "outputs": [],
   "source": [
    "train_df[quant_feats].to_csv('c:\\\\users\\\\chris\\\\csv files\\\\train_quants.csv')"
   ]
  },
  {
   "cell_type": "code",
   "execution_count": 91,
   "metadata": {},
   "outputs": [],
   "source": [
    "# #cat_feats\n",
    "# cat_feats = []\n",
    "# for each in train_df.keys():\n",
    "#     if each not in quant_feats:\n",
    "#         cat_feats.append(each)"
   ]
  },
  {
   "cell_type": "code",
   "execution_count": 105,
   "metadata": {},
   "outputs": [],
   "source": [
    "cat_feats = [item for item in train_df.columns if item not in quant_feats]"
   ]
  },
  {
   "cell_type": "code",
   "execution_count": 115,
   "metadata": {},
   "outputs": [],
   "source": [
    "train_df[cat_feats] = train_df[cat_feats].astype(object)"
   ]
  },
  {
   "cell_type": "code",
   "execution_count": 116,
   "metadata": {},
   "outputs": [
    {
     "data": {
      "text/plain": [
       "MSSubClass       object\n",
       "MSZoning         object\n",
       "Street           object\n",
       "Alley            object\n",
       "LotShape         object\n",
       "LandContour      object\n",
       "Utilities        object\n",
       "LotConfig        object\n",
       "LandSlope        object\n",
       "Neighborhood     object\n",
       "Condition1       object\n",
       "Condition2       object\n",
       "BldgType         object\n",
       "HouseStyle       object\n",
       "OverallQual      object\n",
       "OverallCond      object\n",
       "YearBuilt        object\n",
       "YearRemodAdd     object\n",
       "RoofStyle        object\n",
       "RoofMatl         object\n",
       "Exterior1st      object\n",
       "Exterior2nd      object\n",
       "MasVnrType       object\n",
       "ExterQual        object\n",
       "ExterCond        object\n",
       "Foundation       object\n",
       "BsmtQual         object\n",
       "BsmtCond         object\n",
       "BsmtExposure     object\n",
       "BsmtFinType1     object\n",
       "BsmtFinType2     object\n",
       "Heating          object\n",
       "HeatingQC        object\n",
       "CentralAir       object\n",
       "Electrical       object\n",
       "KitchenQual      object\n",
       "Functional       object\n",
       "FireplaceQu      object\n",
       "GarageType       object\n",
       "GarageYrBlt      object\n",
       "GarageFinish     object\n",
       "GarageQual       object\n",
       "GarageCond       object\n",
       "PavedDrive       object\n",
       "PoolQC           object\n",
       "Fence            object\n",
       "MiscFeature      object\n",
       "MoSold           object\n",
       "YrSold           object\n",
       "SaleType         object\n",
       "SaleCondition    object\n",
       "dtype: object"
      ]
     },
     "execution_count": 116,
     "metadata": {},
     "output_type": "execute_result"
    }
   ],
   "source": [
    "train_df[cat_feats].dtypes #removed Id"
   ]
  },
  {
   "cell_type": "code",
   "execution_count": 80,
   "metadata": {},
   "outputs": [
    {
     "ename": "NameError",
     "evalue": "name 'cat_cats' is not defined",
     "output_type": "error",
     "traceback": [
      "\u001b[1;31m---------------------------------------------------------------------------\u001b[0m",
      "\u001b[1;31mNameError\u001b[0m                                 Traceback (most recent call last)",
      "\u001b[1;32m<ipython-input-80-469e54856b6b>\u001b[0m in \u001b[0;36m<module>\u001b[1;34m()\u001b[0m\n\u001b[1;32m----> 1\u001b[1;33m \u001b[0mcat_cats\u001b[0m\u001b[1;33m.\u001b[0m\u001b[0mdrop\u001b[0m\u001b[1;33m(\u001b[0m\u001b[1;34m'SalePrice'\u001b[0m\u001b[1;33m)\u001b[0m \u001b[1;31m#Remove Id, SalePrice\u001b[0m\u001b[1;33m\u001b[0m\u001b[0m\n\u001b[0m",
      "\u001b[1;31mNameError\u001b[0m: name 'cat_cats' is not defined"
     ]
    }
   ],
   "source": [
    "cat_feats.drop('') #Remove Id, SalePrice"
   ]
  },
  {
   "cell_type": "code",
   "execution_count": 266,
   "metadata": {},
   "outputs": [],
   "source": [
    "description = [kag[x].describe() for x in kag.columns]"
   ]
  },
  {
   "cell_type": "markdown",
   "metadata": {},
   "source": [
    "# **Regression**"
   ]
  },
  {
   "cell_type": "code",
   "execution_count": 24,
   "metadata": {},
   "outputs": [],
   "source": [
    "# Set price as y-value\n",
    "y = kag.SalePrice"
   ]
  },
  {
   "cell_type": "code",
   "execution_count": 16,
   "metadata": {},
   "outputs": [],
   "source": [
    "#Set some predictors, removed LotFrontage because of NA's\n",
    "predictors = ['LotArea','OverallQual','TotalBsmtSF','GrLivArea','TotRmsAbvGrd','GarageArea']"
   ]
  },
  {
   "cell_type": "code",
   "execution_count": 27,
   "metadata": {},
   "outputs": [],
   "source": [
    "# Set predictors to X\n",
    "X = kag[quant_cats]"
   ]
  },
  {
   "cell_type": "code",
   "execution_count": 28,
   "metadata": {},
   "outputs": [],
   "source": [
    "kag_reg = LinearRegression()"
   ]
  },
  {
   "cell_type": "code",
   "execution_count": 29,
   "metadata": {},
   "outputs": [
    {
     "ename": "ValueError",
     "evalue": "Input contains NaN, infinity or a value too large for dtype('float64').",
     "output_type": "error",
     "traceback": [
      "\u001b[1;31m---------------------------------------------------------------------------\u001b[0m",
      "\u001b[1;31mValueError\u001b[0m                                Traceback (most recent call last)",
      "\u001b[1;32m<ipython-input-29-122ab0601377>\u001b[0m in \u001b[0;36m<module>\u001b[1;34m()\u001b[0m\n\u001b[1;32m----> 1\u001b[1;33m \u001b[0mkag_reg\u001b[0m\u001b[1;33m.\u001b[0m\u001b[0mfit\u001b[0m\u001b[1;33m(\u001b[0m\u001b[0mX\u001b[0m\u001b[1;33m,\u001b[0m\u001b[0my\u001b[0m\u001b[1;33m,\u001b[0m \u001b[0msample_weight\u001b[0m\u001b[1;33m=\u001b[0m\u001b[1;32mNone\u001b[0m\u001b[1;33m)\u001b[0m\u001b[1;33m\u001b[0m\u001b[0m\n\u001b[0m",
      "\u001b[1;32m~\\Anaconda3\\lib\\site-packages\\sklearn\\linear_model\\base.py\u001b[0m in \u001b[0;36mfit\u001b[1;34m(self, X, y, sample_weight)\u001b[0m\n\u001b[0;32m    480\u001b[0m         \u001b[0mn_jobs_\u001b[0m \u001b[1;33m=\u001b[0m \u001b[0mself\u001b[0m\u001b[1;33m.\u001b[0m\u001b[0mn_jobs\u001b[0m\u001b[1;33m\u001b[0m\u001b[0m\n\u001b[0;32m    481\u001b[0m         X, y = check_X_y(X, y, accept_sparse=['csr', 'csc', 'coo'],\n\u001b[1;32m--> 482\u001b[1;33m                          y_numeric=True, multi_output=True)\n\u001b[0m\u001b[0;32m    483\u001b[0m \u001b[1;33m\u001b[0m\u001b[0m\n\u001b[0;32m    484\u001b[0m         \u001b[1;32mif\u001b[0m \u001b[0msample_weight\u001b[0m \u001b[1;32mis\u001b[0m \u001b[1;32mnot\u001b[0m \u001b[1;32mNone\u001b[0m \u001b[1;32mand\u001b[0m \u001b[0mnp\u001b[0m\u001b[1;33m.\u001b[0m\u001b[0matleast_1d\u001b[0m\u001b[1;33m(\u001b[0m\u001b[0msample_weight\u001b[0m\u001b[1;33m)\u001b[0m\u001b[1;33m.\u001b[0m\u001b[0mndim\u001b[0m \u001b[1;33m>\u001b[0m \u001b[1;36m1\u001b[0m\u001b[1;33m:\u001b[0m\u001b[1;33m\u001b[0m\u001b[0m\n",
      "\u001b[1;32m~\\Anaconda3\\lib\\site-packages\\sklearn\\utils\\validation.py\u001b[0m in \u001b[0;36mcheck_X_y\u001b[1;34m(X, y, accept_sparse, dtype, order, copy, force_all_finite, ensure_2d, allow_nd, multi_output, ensure_min_samples, ensure_min_features, y_numeric, warn_on_dtype, estimator)\u001b[0m\n\u001b[0;32m    571\u001b[0m     X = check_array(X, accept_sparse, dtype, order, copy, force_all_finite,\n\u001b[0;32m    572\u001b[0m                     \u001b[0mensure_2d\u001b[0m\u001b[1;33m,\u001b[0m \u001b[0mallow_nd\u001b[0m\u001b[1;33m,\u001b[0m \u001b[0mensure_min_samples\u001b[0m\u001b[1;33m,\u001b[0m\u001b[1;33m\u001b[0m\u001b[0m\n\u001b[1;32m--> 573\u001b[1;33m                     ensure_min_features, warn_on_dtype, estimator)\n\u001b[0m\u001b[0;32m    574\u001b[0m     \u001b[1;32mif\u001b[0m \u001b[0mmulti_output\u001b[0m\u001b[1;33m:\u001b[0m\u001b[1;33m\u001b[0m\u001b[0m\n\u001b[0;32m    575\u001b[0m         y = check_array(y, 'csr', force_all_finite=True, ensure_2d=False,\n",
      "\u001b[1;32m~\\Anaconda3\\lib\\site-packages\\sklearn\\utils\\validation.py\u001b[0m in \u001b[0;36mcheck_array\u001b[1;34m(array, accept_sparse, dtype, order, copy, force_all_finite, ensure_2d, allow_nd, ensure_min_samples, ensure_min_features, warn_on_dtype, estimator)\u001b[0m\n\u001b[0;32m    451\u001b[0m                              % (array.ndim, estimator_name))\n\u001b[0;32m    452\u001b[0m         \u001b[1;32mif\u001b[0m \u001b[0mforce_all_finite\u001b[0m\u001b[1;33m:\u001b[0m\u001b[1;33m\u001b[0m\u001b[0m\n\u001b[1;32m--> 453\u001b[1;33m             \u001b[0m_assert_all_finite\u001b[0m\u001b[1;33m(\u001b[0m\u001b[0marray\u001b[0m\u001b[1;33m)\u001b[0m\u001b[1;33m\u001b[0m\u001b[0m\n\u001b[0m\u001b[0;32m    454\u001b[0m \u001b[1;33m\u001b[0m\u001b[0m\n\u001b[0;32m    455\u001b[0m     \u001b[0mshape_repr\u001b[0m \u001b[1;33m=\u001b[0m \u001b[0m_shape_repr\u001b[0m\u001b[1;33m(\u001b[0m\u001b[0marray\u001b[0m\u001b[1;33m.\u001b[0m\u001b[0mshape\u001b[0m\u001b[1;33m)\u001b[0m\u001b[1;33m\u001b[0m\u001b[0m\n",
      "\u001b[1;32m~\\Anaconda3\\lib\\site-packages\\sklearn\\utils\\validation.py\u001b[0m in \u001b[0;36m_assert_all_finite\u001b[1;34m(X)\u001b[0m\n\u001b[0;32m     42\u001b[0m             and not np.isfinite(X).all()):\n\u001b[0;32m     43\u001b[0m         raise ValueError(\"Input contains NaN, infinity\"\n\u001b[1;32m---> 44\u001b[1;33m                          \" or a value too large for %r.\" % X.dtype)\n\u001b[0m\u001b[0;32m     45\u001b[0m \u001b[1;33m\u001b[0m\u001b[0m\n\u001b[0;32m     46\u001b[0m \u001b[1;33m\u001b[0m\u001b[0m\n",
      "\u001b[1;31mValueError\u001b[0m: Input contains NaN, infinity or a value too large for dtype('float64')."
     ]
    }
   ],
   "source": [
    "kag_reg.fit(X,y, sample_weight=None)"
   ]
  },
  {
   "cell_type": "code",
   "execution_count": 345,
   "metadata": {},
   "outputs": [
    {
     "data": {
      "text/plain": [
       "array([ 221266.9757884 ,  196134.08363858,  215496.66370232, ...,\n",
       "        230175.99091614,  125385.03783036,  163171.09104072])"
      ]
     },
     "execution_count": 345,
     "metadata": {},
     "output_type": "execute_result"
    }
   ],
   "source": [
    "kag_reg.predict(X)"
   ]
  },
  {
   "cell_type": "code",
   "execution_count": 346,
   "metadata": {},
   "outputs": [
    {
     "data": {
      "text/plain": [
       "0.79687905497998968"
      ]
     },
     "execution_count": 346,
     "metadata": {},
     "output_type": "execute_result"
    }
   ],
   "source": [
    "kag_reg.score(X,y)"
   ]
  },
  {
   "cell_type": "markdown",
   "metadata": {},
   "source": [
    "# **Clasiffication** "
   ]
  },
  {
   "cell_type": "code",
   "execution_count": 474,
   "metadata": {},
   "outputs": [],
   "source": [
    "from sklearn.tree import DecisionTreeRegressor"
   ]
  },
  {
   "cell_type": "code",
   "execution_count": 495,
   "metadata": {},
   "outputs": [],
   "source": [
    "from sklearn import preprocessing\n",
    "le = preprocessing.LabelEncoder()"
   ]
  },
  {
   "cell_type": "code",
   "execution_count": 496,
   "metadata": {},
   "outputs": [
    {
     "ename": "ValueError",
     "evalue": "bad input shape (1460, 49)",
     "output_type": "error",
     "traceback": [
      "\u001b[1;31m---------------------------------------------------------------------------\u001b[0m",
      "\u001b[1;31mValueError\u001b[0m                                Traceback (most recent call last)",
      "\u001b[1;32m<ipython-input-496-9636c48922c3>\u001b[0m in \u001b[0;36m<module>\u001b[1;34m()\u001b[0m\n\u001b[1;32m----> 1\u001b[1;33m \u001b[0mle\u001b[0m\u001b[1;33m.\u001b[0m\u001b[0mfit\u001b[0m\u001b[1;33m(\u001b[0m\u001b[0mnew_kag\u001b[0m\u001b[1;33m)\u001b[0m\u001b[1;33m\u001b[0m\u001b[0m\n\u001b[0m",
      "\u001b[1;32m~\\Anaconda3\\lib\\site-packages\\sklearn\\preprocessing\\label.py\u001b[0m in \u001b[0;36mfit\u001b[1;34m(self, y)\u001b[0m\n\u001b[0;32m     93\u001b[0m         \u001b[0mself\u001b[0m \u001b[1;33m:\u001b[0m \u001b[0mreturns\u001b[0m \u001b[0man\u001b[0m \u001b[0minstance\u001b[0m \u001b[0mof\u001b[0m \u001b[0mself\u001b[0m\u001b[1;33m.\u001b[0m\u001b[1;33m\u001b[0m\u001b[0m\n\u001b[0;32m     94\u001b[0m         \"\"\"\n\u001b[1;32m---> 95\u001b[1;33m         \u001b[0my\u001b[0m \u001b[1;33m=\u001b[0m \u001b[0mcolumn_or_1d\u001b[0m\u001b[1;33m(\u001b[0m\u001b[0my\u001b[0m\u001b[1;33m,\u001b[0m \u001b[0mwarn\u001b[0m\u001b[1;33m=\u001b[0m\u001b[1;32mTrue\u001b[0m\u001b[1;33m)\u001b[0m\u001b[1;33m\u001b[0m\u001b[0m\n\u001b[0m\u001b[0;32m     96\u001b[0m         \u001b[0mself\u001b[0m\u001b[1;33m.\u001b[0m\u001b[0mclasses_\u001b[0m \u001b[1;33m=\u001b[0m \u001b[0mnp\u001b[0m\u001b[1;33m.\u001b[0m\u001b[0munique\u001b[0m\u001b[1;33m(\u001b[0m\u001b[0my\u001b[0m\u001b[1;33m)\u001b[0m\u001b[1;33m\u001b[0m\u001b[0m\n\u001b[0;32m     97\u001b[0m         \u001b[1;32mreturn\u001b[0m \u001b[0mself\u001b[0m\u001b[1;33m\u001b[0m\u001b[0m\n",
      "\u001b[1;32m~\\Anaconda3\\lib\\site-packages\\sklearn\\utils\\validation.py\u001b[0m in \u001b[0;36mcolumn_or_1d\u001b[1;34m(y, warn)\u001b[0m\n\u001b[0;32m    612\u001b[0m         \u001b[1;32mreturn\u001b[0m \u001b[0mnp\u001b[0m\u001b[1;33m.\u001b[0m\u001b[0mravel\u001b[0m\u001b[1;33m(\u001b[0m\u001b[0my\u001b[0m\u001b[1;33m)\u001b[0m\u001b[1;33m\u001b[0m\u001b[0m\n\u001b[0;32m    613\u001b[0m \u001b[1;33m\u001b[0m\u001b[0m\n\u001b[1;32m--> 614\u001b[1;33m     \u001b[1;32mraise\u001b[0m \u001b[0mValueError\u001b[0m\u001b[1;33m(\u001b[0m\u001b[1;34m\"bad input shape {0}\"\u001b[0m\u001b[1;33m.\u001b[0m\u001b[0mformat\u001b[0m\u001b[1;33m(\u001b[0m\u001b[0mshape\u001b[0m\u001b[1;33m)\u001b[0m\u001b[1;33m)\u001b[0m\u001b[1;33m\u001b[0m\u001b[0m\n\u001b[0m\u001b[0;32m    615\u001b[0m \u001b[1;33m\u001b[0m\u001b[0m\n\u001b[0;32m    616\u001b[0m \u001b[1;33m\u001b[0m\u001b[0m\n",
      "\u001b[1;31mValueError\u001b[0m: bad input shape (1460, 49)"
     ]
    }
   ],
   "source": [
    "le.fit()"
   ]
  },
  {
   "cell_type": "code",
   "execution_count": 475,
   "metadata": {},
   "outputs": [],
   "source": [
    "kag_model = DecisionTreeRegressor()"
   ]
  },
  {
   "cell_type": "code",
   "execution_count": 485,
   "metadata": {},
   "outputs": [],
   "source": [
    "X_tree = new_kag"
   ]
  },
  {
   "cell_type": "code",
   "execution_count": 486,
   "metadata": {},
   "outputs": [
    {
     "ename": "ValueError",
     "evalue": "could not convert string to float: 'WD'",
     "output_type": "error",
     "traceback": [
      "\u001b[1;31m---------------------------------------------------------------------------\u001b[0m",
      "\u001b[1;31mValueError\u001b[0m                                Traceback (most recent call last)",
      "\u001b[1;32m<ipython-input-486-e8bf0d5cec65>\u001b[0m in \u001b[0;36m<module>\u001b[1;34m()\u001b[0m\n\u001b[1;32m----> 1\u001b[1;33m \u001b[0mkag_model\u001b[0m\u001b[1;33m.\u001b[0m\u001b[0mfit\u001b[0m\u001b[1;33m(\u001b[0m\u001b[0mX_tree\u001b[0m\u001b[1;33m,\u001b[0m \u001b[0my\u001b[0m\u001b[1;33m)\u001b[0m\u001b[1;33m\u001b[0m\u001b[0m\n\u001b[0m",
      "\u001b[1;32m~\\Anaconda3\\lib\\site-packages\\sklearn\\tree\\tree.py\u001b[0m in \u001b[0;36mfit\u001b[1;34m(self, X, y, sample_weight, check_input, X_idx_sorted)\u001b[0m\n\u001b[0;32m   1122\u001b[0m             \u001b[0msample_weight\u001b[0m\u001b[1;33m=\u001b[0m\u001b[0msample_weight\u001b[0m\u001b[1;33m,\u001b[0m\u001b[1;33m\u001b[0m\u001b[0m\n\u001b[0;32m   1123\u001b[0m             \u001b[0mcheck_input\u001b[0m\u001b[1;33m=\u001b[0m\u001b[0mcheck_input\u001b[0m\u001b[1;33m,\u001b[0m\u001b[1;33m\u001b[0m\u001b[0m\n\u001b[1;32m-> 1124\u001b[1;33m             X_idx_sorted=X_idx_sorted)\n\u001b[0m\u001b[0;32m   1125\u001b[0m         \u001b[1;32mreturn\u001b[0m \u001b[0mself\u001b[0m\u001b[1;33m\u001b[0m\u001b[0m\n\u001b[0;32m   1126\u001b[0m \u001b[1;33m\u001b[0m\u001b[0m\n",
      "\u001b[1;32m~\\Anaconda3\\lib\\site-packages\\sklearn\\tree\\tree.py\u001b[0m in \u001b[0;36mfit\u001b[1;34m(self, X, y, sample_weight, check_input, X_idx_sorted)\u001b[0m\n\u001b[0;32m    114\u001b[0m         \u001b[0mrandom_state\u001b[0m \u001b[1;33m=\u001b[0m \u001b[0mcheck_random_state\u001b[0m\u001b[1;33m(\u001b[0m\u001b[0mself\u001b[0m\u001b[1;33m.\u001b[0m\u001b[0mrandom_state\u001b[0m\u001b[1;33m)\u001b[0m\u001b[1;33m\u001b[0m\u001b[0m\n\u001b[0;32m    115\u001b[0m         \u001b[1;32mif\u001b[0m \u001b[0mcheck_input\u001b[0m\u001b[1;33m:\u001b[0m\u001b[1;33m\u001b[0m\u001b[0m\n\u001b[1;32m--> 116\u001b[1;33m             \u001b[0mX\u001b[0m \u001b[1;33m=\u001b[0m \u001b[0mcheck_array\u001b[0m\u001b[1;33m(\u001b[0m\u001b[0mX\u001b[0m\u001b[1;33m,\u001b[0m \u001b[0mdtype\u001b[0m\u001b[1;33m=\u001b[0m\u001b[0mDTYPE\u001b[0m\u001b[1;33m,\u001b[0m \u001b[0maccept_sparse\u001b[0m\u001b[1;33m=\u001b[0m\u001b[1;34m\"csc\"\u001b[0m\u001b[1;33m)\u001b[0m\u001b[1;33m\u001b[0m\u001b[0m\n\u001b[0m\u001b[0;32m    117\u001b[0m             \u001b[0my\u001b[0m \u001b[1;33m=\u001b[0m \u001b[0mcheck_array\u001b[0m\u001b[1;33m(\u001b[0m\u001b[0my\u001b[0m\u001b[1;33m,\u001b[0m \u001b[0mensure_2d\u001b[0m\u001b[1;33m=\u001b[0m\u001b[1;32mFalse\u001b[0m\u001b[1;33m,\u001b[0m \u001b[0mdtype\u001b[0m\u001b[1;33m=\u001b[0m\u001b[1;32mNone\u001b[0m\u001b[1;33m)\u001b[0m\u001b[1;33m\u001b[0m\u001b[0m\n\u001b[0;32m    118\u001b[0m             \u001b[1;32mif\u001b[0m \u001b[0missparse\u001b[0m\u001b[1;33m(\u001b[0m\u001b[0mX\u001b[0m\u001b[1;33m)\u001b[0m\u001b[1;33m:\u001b[0m\u001b[1;33m\u001b[0m\u001b[0m\n",
      "\u001b[1;32m~\\Anaconda3\\lib\\site-packages\\sklearn\\utils\\validation.py\u001b[0m in \u001b[0;36mcheck_array\u001b[1;34m(array, accept_sparse, dtype, order, copy, force_all_finite, ensure_2d, allow_nd, ensure_min_samples, ensure_min_features, warn_on_dtype, estimator)\u001b[0m\n\u001b[0;32m    431\u001b[0m                                       force_all_finite)\n\u001b[0;32m    432\u001b[0m     \u001b[1;32melse\u001b[0m\u001b[1;33m:\u001b[0m\u001b[1;33m\u001b[0m\u001b[0m\n\u001b[1;32m--> 433\u001b[1;33m         \u001b[0marray\u001b[0m \u001b[1;33m=\u001b[0m \u001b[0mnp\u001b[0m\u001b[1;33m.\u001b[0m\u001b[0marray\u001b[0m\u001b[1;33m(\u001b[0m\u001b[0marray\u001b[0m\u001b[1;33m,\u001b[0m \u001b[0mdtype\u001b[0m\u001b[1;33m=\u001b[0m\u001b[0mdtype\u001b[0m\u001b[1;33m,\u001b[0m \u001b[0morder\u001b[0m\u001b[1;33m=\u001b[0m\u001b[0morder\u001b[0m\u001b[1;33m,\u001b[0m \u001b[0mcopy\u001b[0m\u001b[1;33m=\u001b[0m\u001b[0mcopy\u001b[0m\u001b[1;33m)\u001b[0m\u001b[1;33m\u001b[0m\u001b[0m\n\u001b[0m\u001b[0;32m    434\u001b[0m \u001b[1;33m\u001b[0m\u001b[0m\n\u001b[0;32m    435\u001b[0m         \u001b[1;32mif\u001b[0m \u001b[0mensure_2d\u001b[0m\u001b[1;33m:\u001b[0m\u001b[1;33m\u001b[0m\u001b[0m\n",
      "\u001b[1;31mValueError\u001b[0m: could not convert string to float: 'WD'"
     ]
    }
   ],
   "source": [
    "kag_model.fit(X_tree, y)"
   ]
  }
 ],
 "metadata": {
  "kernelspec": {
   "display_name": "Python 3",
   "language": "python",
   "name": "python3"
  },
  "language_info": {
   "codemirror_mode": {
    "name": "ipython",
    "version": 3
   },
   "file_extension": ".py",
   "mimetype": "text/x-python",
   "name": "python",
   "nbconvert_exporter": "python",
   "pygments_lexer": "ipython3",
   "version": "3.6.4"
  }
 },
 "nbformat": 4,
 "nbformat_minor": 2
}
