{
 "cells": [
  {
   "cell_type": "markdown",
   "metadata": {},
   "source": [
    "## Importing Data and making Dataframe"
   ]
  },
  {
   "cell_type": "code",
   "execution_count": 37,
   "metadata": {},
   "outputs": [],
   "source": [
    "import pandas as pd\n",
    "import numpy as np\n",
    "from scipy import stats\n",
    "import matplotlib.pyplot as plt\n",
    "from scipy import stats\n",
    "\n",
    "from sklearn import linear_model\n",
    "\n",
    "test = pd.read_csv('test.csv')\n",
    "train = pd.read_csv('train.csv')\n",
    "\n",
    "train2 = train.copy()\n",
    "\n",
    "train2 = train2.drop('Id',axis=1)"
   ]
  },
  {
   "cell_type": "code",
   "execution_count": 38,
   "metadata": {},
   "outputs": [
    {
     "name": "stdout",
     "output_type": "stream",
     "text": [
      "Index(['MSSubClass', 'MSZoning', 'LotFrontage', 'LotArea', 'Street', 'Alley',\n",
      "       'LotShape', 'LandContour', 'Utilities', 'LotConfig', 'LandSlope',\n",
      "       'Neighborhood', 'Condition1', 'Condition2', 'BldgType', 'HouseStyle',\n",
      "       'OverallQual', 'OverallCond', 'YearBuilt', 'YearRemodAdd', 'RoofStyle',\n",
      "       'RoofMatl', 'Exterior1st', 'Exterior2nd', 'MasVnrType', 'MasVnrArea',\n",
      "       'ExterQual', 'ExterCond', 'Foundation', 'BsmtQual', 'BsmtCond',\n",
      "       'BsmtExposure', 'BsmtFinType1', 'BsmtFinSF1', 'BsmtFinType2',\n",
      "       'BsmtFinSF2', 'BsmtUnfSF', 'TotalBsmtSF', 'Heating', 'HeatingQC',\n",
      "       'CentralAir', 'Electrical', '1stFlrSF', '2ndFlrSF', 'LowQualFinSF',\n",
      "       'GrLivArea', 'BsmtFullBath', 'BsmtHalfBath', 'FullBath', 'HalfBath',\n",
      "       'BedroomAbvGr', 'KitchenAbvGr', 'KitchenQual', 'TotRmsAbvGrd',\n",
      "       'Functional', 'Fireplaces', 'FireplaceQu', 'GarageType', 'GarageYrBlt',\n",
      "       'GarageFinish', 'GarageCars', 'GarageArea', 'GarageQual', 'GarageCond',\n",
      "       'PavedDrive', 'WoodDeckSF', 'OpenPorchSF', 'EnclosedPorch', '3SsnPorch',\n",
      "       'ScreenPorch', 'PoolArea', 'PoolQC', 'Fence', 'MiscFeature', 'MiscVal',\n",
      "       'MoSold', 'YrSold', 'SaleType', 'SaleCondition', 'SalePrice'],\n",
      "      dtype='object')\n"
     ]
    },
    {
     "data": {
      "text/plain": [
       "(1460, 80)"
      ]
     },
     "execution_count": 38,
     "metadata": {},
     "output_type": "execute_result"
    }
   ],
   "source": [
    "print(train2.keys())\n",
    "train2.shape"
   ]
  },
  {
   "cell_type": "markdown",
   "metadata": {},
   "source": [
    "## Identifying NAs"
   ]
  },
  {
   "cell_type": "code",
   "execution_count": 66,
   "metadata": {},
   "outputs": [
    {
     "data": {
      "text/plain": [
       "<matplotlib.axes._subplots.AxesSubplot at 0x1a1769e630>"
      ]
     },
     "execution_count": 66,
     "metadata": {},
     "output_type": "execute_result"
    },
    {
     "data": {
      "image/png": "[encoded data removed]",
      "text/plain": [
       "<Figure size 432x288 with 1 Axes>"
      ]
     },
     "metadata": {},
     "output_type": "display_data"
    }
   ],
   "source": [
    "%matplotlib inline\n",
    "\n",
    "missing = train2.isnull().sum()\n",
    "missing = missing[missing > 0]\n",
    "missing.sort_values(inplace=True)\n",
    "missing.plot.bar()"
   ]
  },
  {
   "cell_type": "code",
   "execution_count": 67,
   "metadata": {},
   "outputs": [
    {
     "data": {
      "text/plain": [
       "array(['WD', 'New', 'COD', 'ConLD', 'ConLI', 'CWD', 'ConLw', 'Con', 'Oth'],\n",
       "      dtype=object)"
      ]
     },
     "execution_count": 67,
     "metadata": {},
     "output_type": "execute_result"
    }
   ],
   "source": [
    "train2[\"SaleType\"].unique()"
   ]
  },
  {
   "cell_type": "code",
   "execution_count": 68,
   "metadata": {},
   "outputs": [
    {
     "data": {
      "text/plain": [
       "Index(['MSSubClass', 'MSZoning', 'LotFrontage', 'LotArea', 'Street', 'Alley',\n",
       "       'LotShape', 'LandContour', 'Utilities', 'LotConfig', 'LandSlope',\n",
       "       'Neighborhood', 'Condition1', 'Condition2', 'BldgType', 'HouseStyle',\n",
       "       'OverallQual', 'OverallCond', 'YearBuilt', 'YearRemodAdd', 'RoofStyle',\n",
       "       'RoofMatl', 'Exterior1st', 'Exterior2nd', 'MasVnrType', 'MasVnrArea',\n",
       "       'ExterQual', 'ExterCond', 'Foundation', 'BsmtQual', 'BsmtCond',\n",
       "       'BsmtExposure', 'BsmtFinType1', 'BsmtFinSF1', 'BsmtFinType2',\n",
       "       'BsmtFinSF2', 'BsmtUnfSF', 'TotalBsmtSF', 'Heating', 'HeatingQC',\n",
       "       'CentralAir', 'Electrical', '1stFlrSF', '2ndFlrSF', 'LowQualFinSF',\n",
       "       'GrLivArea', 'BsmtFullBath', 'BsmtHalfBath', 'FullBath', 'HalfBath',\n",
       "       'BedroomAbvGr', 'KitchenAbvGr', 'KitchenQual', 'TotRmsAbvGrd',\n",
       "       'Functional', 'Fireplaces', 'FireplaceQu', 'GarageType', 'GarageYrBlt',\n",
       "       'GarageFinish', 'GarageCars', 'GarageArea', 'GarageQual', 'GarageCond',\n",
       "       'PavedDrive', 'WoodDeckSF', 'OpenPorchSF', 'EnclosedPorch', '3SsnPorch',\n",
       "       'ScreenPorch', 'PoolArea', 'PoolQC', 'Fence', 'MiscFeature', 'MiscVal',\n",
       "       'MoSold', 'YrSold', 'SaleType', 'SaleCondition', 'SalePrice'],\n",
       "      dtype='object')"
      ]
     },
     "execution_count": 68,
     "metadata": {},
     "output_type": "execute_result"
    }
   ],
   "source": [
    "quant = [f for f in train2.columns if train2.dtypes[f] != 'object']\n",
    "#qual = [f for f in train2.columns if train2.dtypes[f] == 'object']\n",
    "\n",
    "train2[quant]\n",
    "train2.columns"
   ]
  },
  {
   "cell_type": "code",
   "execution_count": 69,
   "metadata": {},
   "outputs": [
    {
     "data": {
      "text/plain": [
       "LinearRegression(copy_X=True, fit_intercept=True, n_jobs=1, normalize=False)"
      ]
     },
     "execution_count": 69,
     "metadata": {},
     "output_type": "execute_result"
    }
   ],
   "source": [
    "from sklearn import linear_model\n",
    "ols = linear_model.LinearRegression()\n",
    "## fit your linear model with fit() function\n",
    "ols.fit(train2[['SalePrice']], train2['LotArea'])"
   ]
  },
  {
   "cell_type": "code",
   "execution_count": 70,
   "metadata": {},
   "outputs": [
    {
     "data": {
      "text/plain": [
       "Electrical         1\n",
       "MasVnrType         8\n",
       "MasVnrArea         8\n",
       "BsmtQual          37\n",
       "BsmtCond          37\n",
       "BsmtFinType1      37\n",
       "BsmtExposure      38\n",
       "BsmtFinType2      38\n",
       "GarageCond        81\n",
       "GarageQual        81\n",
       "GarageFinish      81\n",
       "GarageType        81\n",
       "GarageYrBlt       81\n",
       "LotFrontage      259\n",
       "FireplaceQu      690\n",
       "Fence           1179\n",
       "Alley           1369\n",
       "MiscFeature     1406\n",
       "PoolQC          1453\n",
       "dtype: int64"
      ]
     },
     "execution_count": 70,
     "metadata": {},
     "output_type": "execute_result"
    }
   ],
   "source": [
    "train2.isnull().sum().sort_values(ascending=False)\n",
    "missing[missing>0] "
   ]
  },
  {
   "cell_type": "code",
   "execution_count": 71,
   "metadata": {},
   "outputs": [
    {
     "name": "stderr",
     "output_type": "stream",
     "text": [
      "/anaconda3/lib/python3.6/site-packages/matplotlib/axes/_axes.py:6462: UserWarning: The 'normed' kwarg is deprecated, and has been replaced by the 'density' kwarg.\n",
      "  warnings.warn(\"The 'normed' kwarg is deprecated, and has been \"\n"
     ]
    },
    {
     "data": {
      "text/plain": [
       "<matplotlib.axes._subplots.AxesSubplot at 0x1a17671c18>"
      ]
     },
     "execution_count": 71,
     "metadata": {},
     "output_type": "execute_result"
    },
    {
     "data": {
      "image/png": "[encoded data removed]",
      "text/plain": [
       "<Figure size 432x288 with 1 Axes>"
      ]
     },
     "metadata": {},
     "output_type": "display_data"
    }
   ],
   "source": [
    "histlot = train2[train2['LotFrontage'].notnull()]\n",
    "sns.distplot(dummy_train.TotalBsmtSF, kde=False, fit=st.johnsonsu)"
   ]
  },
  {
   "cell_type": "code",
   "execution_count": 72,
   "metadata": {},
   "outputs": [
    {
     "data": {
      "text/plain": [
       "count    1201.000000\n",
       "mean        4.207109\n",
       "std         0.346228\n",
       "min         3.091042\n",
       "25%         4.094345\n",
       "50%         4.248495\n",
       "75%         4.394449\n",
       "max         5.749393\n",
       "Name: LotFrontage, dtype: float64"
      ]
     },
     "execution_count": 72,
     "metadata": {},
     "output_type": "execute_result"
    }
   ],
   "source": [
    "train2[train2['LotFrontage'].notnull()].LotFrontage.describe()"
   ]
  },
  {
   "cell_type": "markdown",
   "metadata": {},
   "source": [
    "## Cleaning and munging Data"
   ]
  },
  {
   "cell_type": "code",
   "execution_count": 73,
   "metadata": {},
   "outputs": [],
   "source": [
    "train2['PoolQC'].fillna('No Pool',inplace = True)\n",
    "train2['MiscFeature'].fillna('None',inplace = True)\n",
    "train2['Alley'].fillna('No Alley Access',inplace = True)\n",
    "train2['Fence'].fillna('No Fence',inplace = True)\n",
    "train2['FireplaceQu'].fillna('No Fireplace',inplace = True)\n",
    "train2['LotFrontage'] = train2['LotFrontage'].fillna(train2.groupby(['Neighborhood'])['LotFrontage'].transform('mean').round())\n",
    "train2['GarageYrBlt'].fillna('No Garage',inplace = True)\n",
    "train2['GarageType'].fillna('No Garage',inplace = True)\n",
    "train2['GarageFinish'].fillna('No Garage',inplace = True)\n",
    "train2['GarageQual'].fillna('No Garage',inplace = True)\n",
    "train2['GarageCond'].fillna('No Garage',inplace = True)\n",
    "train2['BsmtFinType2'].fillna('No Garage',inplace = True)\n",
    "train2['BsmtExposure'].fillna('No Garage',inplace = True)\n",
    "train2['BsmtFinType1'].fillna('No Garage',inplace = True)\n",
    "train2['BsmtCond'].fillna('No Garage',inplace = True)\n",
    "train2['BsmtQual'].fillna('No Garage',inplace = True)\n",
    "train2['MasVnrArea'].fillna(0,inplace = True)\n",
    "train2['MasVnrType'].fillna('None',inplace = True)\n",
    "train2['Electrical'].fillna('SBrkr', inplace = True)"
   ]
  },
  {
   "cell_type": "code",
   "execution_count": 74,
   "metadata": {},
   "outputs": [
    {
     "data": {
      "text/plain": [
       "MSSubClass        1.407657\n",
       "LotFrontage      -0.512388\n",
       "LotArea          -0.137404\n",
       "OverallQual       0.216944\n",
       "OverallCond       0.693067\n",
       "YearBuilt        -0.613461\n",
       "YearRemodAdd     -0.503562\n",
       "MasVnrArea        2.677616\n",
       "BsmtFinSF1        1.685503\n",
       "BsmtFinSF2        4.255261\n",
       "BsmtUnfSF         0.920268\n",
       "TotalBsmtSF      -5.154670\n",
       "1stFlrSF          1.376757\n",
       "2ndFlrSF          0.813030\n",
       "LowQualFinSF      9.011341\n",
       "GrLivArea         1.366560\n",
       "BsmtFullBath      0.596067\n",
       "BsmtHalfBath      4.103403\n",
       "FullBath          0.036562\n",
       "HalfBath          0.675897\n",
       "BedroomAbvGr      0.211790\n",
       "KitchenAbvGr      4.488397\n",
       "TotRmsAbvGrd      0.676341\n",
       "Fireplaces        0.649565\n",
       "GarageCars       -0.342549\n",
       "GarageArea        0.179981\n",
       "WoodDeckSF        1.541376\n",
       "OpenPorchSF       2.364342\n",
       "EnclosedPorch     3.089872\n",
       "3SsnPorch        10.304342\n",
       "ScreenPorch       4.122214\n",
       "PoolArea         14.828374\n",
       "MiscVal          24.476794\n",
       "MoSold            0.212053\n",
       "YrSold            0.096269\n",
       "SalePrice         1.882876\n",
       "dtype: float64"
      ]
     },
     "execution_count": 74,
     "metadata": {},
     "output_type": "execute_result"
    }
   ],
   "source": [
    "#stats.skew(train2[quant])\n",
    "train2.skew()"
   ]
  },
  {
   "cell_type": "markdown",
   "metadata": {},
   "source": [
    "## Normalizing Data"
   ]
  },
  {
   "cell_type": "code",
   "execution_count": 75,
   "metadata": {},
   "outputs": [
    {
     "name": "stderr",
     "output_type": "stream",
     "text": [
      "/anaconda3/lib/python3.6/site-packages/matplotlib/axes/_axes.py:6462: UserWarning: The 'normed' kwarg is deprecated, and has been replaced by the 'density' kwarg.\n",
      "  warnings.warn(\"The 'normed' kwarg is deprecated, and has been \"\n",
      "/anaconda3/lib/python3.6/site-packages/scipy/stats/_distn_infrastructure.py:1615: RuntimeWarning: divide by zero encountered in log\n",
      "  return log(self._pdf(x, *args))\n"
     ]
    },
    {
     "data": {
      "text/plain": [
       "PoolArea    40.177307\n",
       "dtype: float64"
      ]
     },
     "execution_count": 75,
     "metadata": {},
     "output_type": "execute_result"
    },
    {
     "data": {
      "image/png": "[encoded data removed]",
      "text/plain": [
       "<Figure size 432x288 with 1 Axes>"
      ]
     },
     "metadata": {},
     "output_type": "display_data"
    }
   ],
   "source": [
    "import scipy.stats as st\n",
    "import seaborn as sns\n",
    "\n",
    "y = pd.DataFrame(train2.PoolArea)\n",
    "\n",
    "plt.figure(1); plt.title('Johnson SU')\n",
    "sns.distplot(y, kde=False, fit=st.johnsonsu)\n",
    "\n",
    "y.std()"
   ]
  },
  {
   "cell_type": "code",
   "execution_count": 77,
   "metadata": {},
   "outputs": [],
   "source": [
    "train2.MasVnrArea = np.log1p(train2.MasVnrArea)"
   ]
  },
  {
   "cell_type": "code",
   "execution_count": 78,
   "metadata": {},
   "outputs": [],
   "source": [
    "train2.TotalBsmtSF = np.log1p(train2.TotalBsmtSF)\n",
    "train2.LotFrontage = np.log1p(train2.LotFrontage)\n",
    "train2.LotArea = np.log1p(train2.LotArea)\n",
    "#train2.MiscVal = np.log1p(train2.MiscVal)\n",
    "#train2.BsmtFinSF1 = np.log1p(train2.BsmtFinSF1)\n",
    "#train2.BsmtHalfBath = np.log1p(train2.BsmtHalfBath)\n",
    "#train2.BsmtFinSF2 = np.log1p(train2.BsmtFinSF2)\n",
    "#train2['1stFlrSF'] = np.log1p(train2['1stFlrSF'])\n",
    "#train2.OpenPorchSF = np.log1p(train2.OpenPorchSF)\n",
    "#train2.WoodDeckSF = np.log1p(train2.WoodDeckSF)\n",
    "#train2.BsmtHalfBath = np.log1p(train2.BsmtHalfBath)"
   ]
  },
  {
   "cell_type": "code",
   "execution_count": 79,
   "metadata": {},
   "outputs": [],
   "source": [
    "quant_feats = ['LotFrontage','LotArea','MasVnrArea','BsmtFinSF1','BsmtFinSF2','BsmtUnfSF',\n",
    "              'TotalBsmtSF','1stFlrSF','2ndFlrSF','LowQualFinSF','GrLivArea','BsmtFullBath',\n",
    "              'BsmtHalfBath','FullBath','HalfBath','BedroomAbvGr','KitchenAbvGr',\n",
    "              'TotRmsAbvGrd','Fireplaces','GarageCars','GarageArea','WoodDeckSF',\n",
    "              'OpenPorchSF','EnclosedPorch','3SsnPorch','ScreenPorch','PoolArea',\n",
    "              'MiscVal','SalePrice','YearBuilt','YearRemodAdd']\n",
    "\n",
    "qual_feats = [item for item in train2.columns if item not in quant_feats]"
   ]
  },
  {
   "cell_type": "code",
   "execution_count": 80,
   "metadata": {},
   "outputs": [],
   "source": [
    "train2[qual_feats] = train2[qual_feats].astype(object)"
   ]
  },
  {
   "cell_type": "code",
   "execution_count": 81,
   "metadata": {},
   "outputs": [
    {
     "data": {
      "image/png": "[encoded data removed]",
      "text/plain": [
       "<Figure size 432x288 with 1 Axes>"
      ]
     },
     "metadata": {},
     "output_type": "display_data"
    }
   ],
   "source": [
    "import numpy as np \n",
    "import pylab \n",
    "import scipy.stats as stats\n",
    "  \n",
    "stats.probplot(train2.LotFrontage, dist=\"norm\", plot=pylab)\n",
    "pylab.show()"
   ]
  },
  {
   "cell_type": "markdown",
   "metadata": {},
   "source": [
    "## Dummyfying the Data"
   ]
  },
  {
   "cell_type": "code",
   "execution_count": 82,
   "metadata": {},
   "outputs": [],
   "source": [
    "df = train2.copy()"
   ]
  },
  {
   "cell_type": "code",
   "execution_count": 83,
   "metadata": {},
   "outputs": [],
   "source": [
    "qual_dummies = pd.get_dummies(df[qual_feats], drop_first = True)"
   ]
  },
  {
   "cell_type": "code",
   "execution_count": 84,
   "metadata": {},
   "outputs": [],
   "source": [
    "#qual_dummies.shape\n",
    "dummy_train = pd.concat([train2[quant_feats],qual_dummies],axis = 1)"
   ]
  },
  {
   "cell_type": "code",
   "execution_count": 85,
   "metadata": {},
   "outputs": [
    {
     "data": {
      "text/plain": [
       "<matplotlib.axes._subplots.AxesSubplot at 0x1a171a1898>"
      ]
     },
     "execution_count": 85,
     "metadata": {},
     "output_type": "execute_result"
    },
    {
     "data": {
      "image/png": "[encoded data removed]",
      "text/plain": [
       "<Figure size 432x288 with 2 Axes>"
      ]
     },
     "metadata": {},
     "output_type": "display_data"
    }
   ],
   "source": [
    "sns.heatmap(train2[quant].sample(15, axis=1).corr())"
   ]
  },
  {
   "cell_type": "code",
   "execution_count": 86,
   "metadata": {},
   "outputs": [],
   "source": [
    "#dummy_train.iloc[[1298]]\n",
    "dummy_train.drop(dummy_train.index[1298], inplace = True)\n",
    "dummy_train.drop(dummy_train.index[523], inplace = True)\n",
    "dummy_train.drop(dummy_train.index[1182], inplace = True)"
   ]
  },
  {
   "cell_type": "code",
   "execution_count": 87,
   "metadata": {},
   "outputs": [
    {
     "data": {
      "text/plain": [
       "[1457, 397]"
      ]
     },
     "execution_count": 87,
     "metadata": {},
     "output_type": "execute_result"
    }
   ],
   "source": [
    "list(dummy_train.shape)"
   ]
  },
  {
   "cell_type": "markdown",
   "metadata": {},
   "source": [
    "## Regression"
   ]
  },
  {
   "cell_type": "code",
   "execution_count": 88,
   "metadata": {},
   "outputs": [],
   "source": [
    "from sklearn.model_selection import train_test_split\n",
    "from sklearn.linear_model import LinearRegression"
   ]
  },
  {
   "cell_type": "code",
   "execution_count": 89,
   "metadata": {},
   "outputs": [],
   "source": [
    "y = dummy_train.SalePrice\n",
    "X = dummy_train.loc[:, dummy_train.columns != 'SalePrice']"
   ]
  },
  {
   "cell_type": "code",
   "execution_count": 90,
   "metadata": {},
   "outputs": [],
   "source": [
    "train_X, val_X, train_y, val_y = train_test_split(X, y,test_size = 0.25,random_state=0)"
   ]
  },
  {
   "cell_type": "code",
   "execution_count": 91,
   "metadata": {},
   "outputs": [],
   "source": [
    "kag_reg = LinearRegression()"
   ]
  },
  {
   "cell_type": "code",
   "execution_count": 92,
   "metadata": {},
   "outputs": [
    {
     "data": {
      "text/plain": [
       "LinearRegression(copy_X=True, fit_intercept=True, n_jobs=1, normalize=False)"
      ]
     },
     "execution_count": 92,
     "metadata": {},
     "output_type": "execute_result"
    }
   ],
   "source": [
    "kag_reg.fit(train_X,train_y, sample_weight=None)"
   ]
  },
  {
   "cell_type": "code",
   "execution_count": 93,
   "metadata": {},
   "outputs": [
    {
     "data": {
      "text/plain": [
       "array([ 1.34841590e+05,  1.74494890e+05,  1.17043949e+05,  1.41715753e+05,\n",
       "        3.03018611e+05,  1.51098184e+05,  1.83820035e+05,  1.20628960e+05,\n",
       "        1.39471670e+05,  2.71861956e+05,  2.07371249e+05,  2.25377075e+05,\n",
       "        1.71836583e+05,  1.47143938e+05,  8.17512638e+04,  1.61451547e+05,\n",
       "        2.01222476e+05,  8.48290745e+04,  1.53821822e+05,  4.52065128e+05,\n",
       "        3.04975868e+05,  1.58970860e+05,  3.02711178e+05,  7.72370335e+04,\n",
       "        1.17976019e+05,  1.24184440e+05,  1.15154859e+05,  1.02917489e+05,\n",
       "        1.42189384e+05,  3.05871805e+05,  1.71016684e+05,  2.44731013e+05,\n",
       "        1.79616127e+05,  1.98801366e+05, -2.59498111e+08,  1.67173853e+05,\n",
       "        9.73273781e+04,  1.73283136e+05,  1.52759184e+05,  9.93188128e+04,\n",
       "        1.18720947e+05,  1.94037637e+05,  2.95990650e+05,  8.61552224e+04,\n",
       "        1.72001637e+05,  1.19931484e+05,  2.64154615e+05,  1.31411229e+05,\n",
       "        1.13147949e+05,  2.65364478e+05,  2.75001094e+05,  1.04048880e+05,\n",
       "        7.10171583e+09,  1.29927572e+05,  3.91576612e+05,  2.61182687e+05,\n",
       "        2.94935155e+05,  1.30692144e+05,  1.73123652e+05,  1.45831028e+05,\n",
       "        1.16639472e+05,  1.59639316e+05,  9.68862333e+04,  1.44756701e+05,\n",
       "        1.15409743e+05,  1.81099683e+05,  3.61905944e+05,  1.59191626e+05,\n",
       "        2.43242479e+05,  1.79840954e+05,  1.79519532e+05,  2.64833153e+05,\n",
       "        1.04727383e+05,  2.44676972e+05,  4.04789597e+05,  3.03928921e+05,\n",
       "        2.33264275e+05,  7.40972102e+04,  1.49701747e+05,  1.59836513e+05,\n",
       "        1.37348212e+05,  1.47018744e+05,  2.52768691e+05,  2.19372281e+05,\n",
       "        1.23980439e+05,  2.23210992e+05,  1.60876288e+05,  1.36932397e+05,\n",
       "        1.20082195e+05,  3.24034542e+05,  2.86224045e+05,  1.67580078e+05,\n",
       "        1.19795451e+05,  1.24327376e+05,  3.64928113e+05,  1.06374370e+05,\n",
       "        2.97394946e+05,  1.12010865e+05,  1.39786966e+05,  1.61578586e+05,\n",
       "        1.53972477e+05,  2.18727828e+05,  1.95187606e+05,  1.43295903e+05,\n",
       "        1.30169296e+05,  1.95274946e+05,  2.05761628e+05,  2.07558862e+05,\n",
       "        2.93867531e+05,  2.44668543e+05,  1.23955600e+05,  1.51614507e+05,\n",
       "        2.13015864e+05,  1.23606758e+05,  1.92669686e+05,  8.18122713e+04,\n",
       "        2.03140778e+05,  2.50822876e+05,  2.93039055e+05,  1.38910911e+05,\n",
       "        2.35648002e+05,  1.42940101e+05,  7.16525872e+04,  8.63375180e+04,\n",
       "        1.97266888e+05,  1.59018251e+05,  1.34555656e+05,  1.66420264e+05,\n",
       "        2.54858616e+05,  2.06903383e+05,  3.64476382e+05,  1.38910309e+05,\n",
       "        2.06813844e+05,  2.64429404e+05,  2.60772698e+05,  1.53354565e+05,\n",
       "        3.21653751e+05,  1.54100130e+05,  1.63291692e+05,  2.81748762e+05,\n",
       "        3.12444572e+05,  1.23380537e+05,  1.67907375e+05,  1.03259632e+05,\n",
       "        1.83053855e+05,  1.54082718e+05,  1.40859975e+05,  1.89365380e+05,\n",
       "        1.36648897e+05,  1.09705602e+05,  1.27621577e+05,  1.02928605e+05,\n",
       "        1.82209340e+05,  3.54106531e+04,  1.61608074e+05,  1.78206146e+05,\n",
       "        2.08336668e+05,  1.46388789e+05,  5.28180264e+05,  1.36742071e+05,\n",
       "        8.28468136e+04,  2.16221572e+05,  4.39670588e+05,  1.42383404e+05,\n",
       "        1.86605394e+05,  2.39498253e+05,  2.00891572e+05,  1.02288123e+05,\n",
       "        8.21779114e+04,  1.53924504e+05,  1.30524647e+05,  1.73020922e+05,\n",
       "        1.11571252e+05,  2.95450235e+05,  4.39467999e+05,  1.66190675e+05,\n",
       "        1.10971444e+05,  1.88534981e+05,  9.05788658e+04,  1.14086215e+05,\n",
       "        1.44309727e+05,  9.84974789e+04,  1.75412366e+05,  1.30342731e+05,\n",
       "        2.72105317e+05,  1.83886557e+05,  2.10426939e+05,  1.83604609e+05,\n",
       "        1.04813085e+05,  1.11623009e+05,  9.65150424e+04,  3.35206427e+05,\n",
       "        1.38229142e+05,  1.13286393e+05,  1.73306704e+05,  1.55085954e+05,\n",
       "        1.43865299e+05,  1.80457172e+05,  1.27090895e+05,  1.53340256e+05,\n",
       "        1.35027727e+05,  1.33340210e+05,  2.12398174e+05,  4.12645075e+05,\n",
       "        1.17926936e+05,  1.16710499e+05,  1.75092367e+05,  2.48881519e+05,\n",
       "        2.55001794e+05,  2.04557246e+05,  1.87054866e+05,  9.47209052e+04,\n",
       "        2.13575870e+05,  1.07007307e+05,  2.86054458e+05,  7.12399492e+04,\n",
       "        2.66646416e+05,  1.29301350e+05,  1.90927181e+05,  2.97934742e+05,\n",
       "        8.68266497e+04,  1.51463850e+05,  1.50805938e+05,  1.18253766e+05,\n",
       "        2.44453360e+05,  1.96109193e+05,  9.95654697e+04,  1.24685440e+05,\n",
       "        1.07907715e+05,  1.09151236e+05,  1.96343689e+05,  2.07746972e+05,\n",
       "        1.99289361e+05,  2.06201215e+05,  2.30502031e+05,  1.79781954e+05,\n",
       "        1.37193375e+05,  1.85139346e+05,  1.66515690e+05,  2.21860595e+05,\n",
       "        2.35826646e+05,  4.92293259e+05,  1.18107818e+05,  1.26297075e+05,\n",
       "        9.47468866e+04,  1.99147984e+05,  2.18367711e+05,  2.16438972e+05,\n",
       "        9.94744436e+04,  1.75695436e+05,  1.89147804e+05,  1.08567719e+05,\n",
       "        1.15894756e+05,  1.31396138e+05,  1.60968733e+05,  2.06696134e+05,\n",
       "        1.98186226e+05,  9.56941370e+04,  1.40495670e+05,  1.43115693e+05,\n",
       "        7.35948768e+04,  1.17099559e+05,  2.22959313e+05,  1.46202951e+05,\n",
       "        3.78091189e+05,  3.13208945e+05,  1.73121738e+05,  9.34643934e+04,\n",
       "        1.41984852e+05,  1.42262875e+05,  1.01179747e+05,  2.60059839e+05,\n",
       "        2.38916231e+05,  9.46903584e+04,  1.03281892e+05,  2.68514770e+05,\n",
       "        1.33302115e+05,  9.15938999e+04,  1.77757235e+05,  2.03442184e+05,\n",
       "        1.96768266e+05,  9.26256696e+04,  1.49533687e+05,  1.74845545e+05,\n",
       "        1.19022558e+05,  8.96625999e+04,  1.49341053e+05,  1.86218126e+05,\n",
       "        1.13562539e+05,  1.26431657e+05,  1.57238377e+05,  1.27342932e+05,\n",
       "        1.40906958e+05,  1.08776318e+05,  1.19446552e+05,  2.39325614e+05,\n",
       "        1.60519584e+05,  3.20040413e+05,  1.51659324e+05,  9.73790871e+04,\n",
       "        1.61599173e+05,  1.01972865e+05,  1.49202817e+05,  1.37753908e+05,\n",
       "        2.92947105e+05,  1.27988606e+05,  1.73040896e+05,  1.22397326e+05,\n",
       "        1.74581329e+05,  2.12251300e+05,  1.69734984e+05,  2.22320527e+05,\n",
       "        1.66842778e+05,  2.63497578e+05,  1.53640541e+05,  1.87014416e+05,\n",
       "        1.61634043e+05,  3.49551074e+05,  3.12971651e+05,  7.54773996e+04,\n",
       "        2.43903277e+05,  1.26686248e+05,  1.38132442e+05,  1.92593166e+05,\n",
       "        1.75019239e+05,  3.61341962e+05,  7.89520704e+04,  2.05892268e+05,\n",
       "        9.98938390e+04,  1.27073000e+05,  1.32007413e+05,  1.26786356e+05,\n",
       "        4.74088867e+05,  1.47207723e+05,  2.80152902e+05,  8.28847866e+04,\n",
       "        2.14040574e+05,  3.17418569e+05,  1.74370238e+05,  1.45262197e+05,\n",
       "        2.78288608e+05,  1.51214541e+05,  2.07911887e+05,  8.58040006e+04,\n",
       "        3.56308605e+05,  1.80403369e+05,  1.26869106e+05,  3.20457392e+05,\n",
       "        1.19966528e+05,  2.21862635e+05,  2.50139163e+05,  2.94015280e+05,\n",
       "        2.89434640e+05,  1.63953887e+05,  2.29975940e+05,  1.39931157e+05,\n",
       "        2.32779226e+05,  1.37973417e+05,  9.71936013e+04,  1.63989839e+05,\n",
       "        8.08258005e+04,  1.32517564e+05,  2.39801531e+05,  1.06725801e+05,\n",
       "        8.88574561e+04])"
      ]
     },
     "execution_count": 93,
     "metadata": {},
     "output_type": "execute_result"
    }
   ],
   "source": [
    "kag_reg.predict(val_X)"
   ]
  },
  {
   "cell_type": "code",
   "execution_count": 94,
   "metadata": {},
   "outputs": [
    {
     "data": {
      "text/plain": [
       "-21749841.61920641"
      ]
     },
     "execution_count": 94,
     "metadata": {},
     "output_type": "execute_result"
    }
   ],
   "source": [
    "kag_reg.score(val_X,val_y)"
   ]
  },
  {
   "cell_type": "markdown",
   "metadata": {},
   "source": [
    "## Ridge and Lasso"
   ]
  },
  {
   "cell_type": "code",
   "execution_count": 95,
   "metadata": {},
   "outputs": [],
   "source": [
    "from sklearn.linear_model import LassoCV\n",
    "from sklearn.linear_model import RidgeCV"
   ]
  },
  {
   "cell_type": "code",
   "execution_count": 96,
   "metadata": {},
   "outputs": [
    {
     "data": {
      "text/plain": [
       "0.9163535642256252"
      ]
     },
     "execution_count": 96,
     "metadata": {},
     "output_type": "execute_result"
    }
   ],
   "source": [
    "ridge_reg = RidgeCV(cv=12)\n",
    "ridge_reg.fit(train_X, train_y)\n",
    "ridge_reg.predict(val_X)\n",
    "ridge_reg.score(val_X, val_y)"
   ]
  },
  {
   "cell_type": "code",
   "execution_count": 97,
   "metadata": {},
   "outputs": [
    {
     "data": {
      "text/plain": [
       "RidgeCV(alphas=(0.1, 1.0, 10.0), cv=12, fit_intercept=True, gcv_mode=None,\n",
       "    normalize=False, scoring=None, store_cv_values=False)"
      ]
     },
     "execution_count": 97,
     "metadata": {},
     "output_type": "execute_result"
    }
   ],
   "source": [
    "ridge_reg"
   ]
  },
  {
   "cell_type": "code",
   "execution_count": 98,
   "metadata": {},
   "outputs": [
    {
     "data": {
      "text/plain": [
       "0.8136339044976111"
      ]
     },
     "execution_count": 98,
     "metadata": {},
     "output_type": "execute_result"
    }
   ],
   "source": [
    "lasso_reg = LassoCV(cv=10)\n",
    "lasso_reg.fit(train_X, train_y)\n",
    "lasso_reg.predict(val_X)\n",
    "lasso_reg.score(val_X, val_y)"
   ]
  }
 ],
 "metadata": {
  "kernelspec": {
   "display_name": "Python 3",
   "language": "python",
   "name": "python3"
  },
  "language_info": {
   "codemirror_mode": {
    "name": "ipython",
    "version": 3
   },
   "file_extension": ".py",
   "mimetype": "text/x-python",
   "name": "python",
   "nbconvert_exporter": "python",
   "pygments_lexer": "ipython3",
   "version": "3.6.5"
  }
 },
 "nbformat": 4,
 "nbformat_minor": 2
}
