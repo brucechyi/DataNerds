{
 "cells": [
  {
   "cell_type": "markdown",
   "metadata": {},
   "source": [
    "## Importing Data and making Dataframe"
   ]
  },
  {
   "cell_type": "code",
   "execution_count": 555,
   "metadata": {},
   "outputs": [],
   "source": [
    "import pandas as pd\n",
    "import numpy as np\n",
    "from scipy import stats\n",
    "import matplotlib.pyplot as plt\n",
    "from scipy import stats\n",
    "\n",
    "from sklearn import linear_model\n",
    "\n",
    "test = pd.read_csv('test.csv')\n",
    "train = pd.read_csv('train.csv')\n",
    "\n",
    "train2 = train.copy()\n",
    "\n",
    "train2 = train2.drop('Id',axis=1)"
   ]
  },
  {
   "cell_type": "code",
   "execution_count": 497,
   "metadata": {},
   "outputs": [
    {
     "name": "stdout",
     "output_type": "stream",
     "text": [
      "Index(['MSSubClass', 'MSZoning', 'LotFrontage', 'LotArea', 'Street', 'Alley',\n",
      "       'LotShape', 'LandContour', 'Utilities', 'LotConfig', 'LandSlope',\n",
      "       'Neighborhood', 'Condition1', 'Condition2', 'BldgType', 'HouseStyle',\n",
      "       'OverallQual', 'OverallCond', 'YearBuilt', 'YearRemodAdd', 'RoofStyle',\n",
      "       'RoofMatl', 'Exterior1st', 'Exterior2nd', 'MasVnrType', 'MasVnrArea',\n",
      "       'ExterQual', 'ExterCond', 'Foundation', 'BsmtQual', 'BsmtCond',\n",
      "       'BsmtExposure', 'BsmtFinType1', 'BsmtFinSF1', 'BsmtFinType2',\n",
      "       'BsmtFinSF2', 'BsmtUnfSF', 'TotalBsmtSF', 'Heating', 'HeatingQC',\n",
      "       'CentralAir', 'Electrical', '1stFlrSF', '2ndFlrSF', 'LowQualFinSF',\n",
      "       'GrLivArea', 'BsmtFullBath', 'BsmtHalfBath', 'FullBath', 'HalfBath',\n",
      "       'BedroomAbvGr', 'KitchenAbvGr', 'KitchenQual', 'TotRmsAbvGrd',\n",
      "       'Functional', 'Fireplaces', 'FireplaceQu', 'GarageType', 'GarageYrBlt',\n",
      "       'GarageFinish', 'GarageCars', 'GarageArea', 'GarageQual', 'GarageCond',\n",
      "       'PavedDrive', 'WoodDeckSF', 'OpenPorchSF', 'EnclosedPorch', '3SsnPorch',\n",
      "       'ScreenPorch', 'PoolArea', 'PoolQC', 'Fence', 'MiscFeature', 'MiscVal',\n",
      "       'MoSold', 'YrSold', 'SaleType', 'SaleCondition', 'SalePrice'],\n",
      "      dtype='object')\n"
     ]
    },
    {
     "data": {
      "text/plain": [
       "(1460, 80)"
      ]
     },
     "execution_count": 497,
     "metadata": {},
     "output_type": "execute_result"
    }
   ],
   "source": [
    "print(train2.keys())\n",
    "train2.shape"
   ]
  },
  {
   "cell_type": "markdown",
   "metadata": {},
   "source": [
    "## Identifying NAs"
   ]
  },
  {
   "cell_type": "code",
   "execution_count": 98,
   "metadata": {},
   "outputs": [
    {
     "data": {
      "text/plain": [
       "<matplotlib.axes._subplots.AxesSubplot at 0x113b8540198>"
      ]
     },
     "execution_count": 98,
     "metadata": {},
     "output_type": "execute_result"
    },
    {
     "data": {
      "image/png": "[encoded data removed]",
      "text/plain": [
       "<matplotlib.figure.Figure at 0x113cbc37be0>"
      ]
     },
     "metadata": {},
     "output_type": "display_data"
    }
   ],
   "source": [
    "%matplotlib inline\n",
    "\n",
    "missing = train2.isnull().sum()\n",
    "missing = missing[missing > 0]\n",
    "missing.sort_values(inplace=True)\n",
    "missing.plot.bar()"
   ]
  },
  {
   "cell_type": "code",
   "execution_count": 61,
   "metadata": {},
   "outputs": [
    {
     "data": {
      "text/plain": [
       "array(['WD', 'New', 'COD', 'ConLD', 'ConLI', 'CWD', 'ConLw', 'Con', 'Oth'], dtype=object)"
      ]
     },
     "execution_count": 61,
     "metadata": {},
     "output_type": "execute_result"
    }
   ],
   "source": [
    "train2[\"SaleType\"].unique()"
   ]
  },
  {
   "cell_type": "code",
   "execution_count": 498,
   "metadata": {},
   "outputs": [
    {
     "data": {
      "text/plain": [
       "Index(['MSSubClass', 'MSZoning', 'LotFrontage', 'LotArea', 'Street', 'Alley',\n",
       "       'LotShape', 'LandContour', 'Utilities', 'LotConfig', 'LandSlope',\n",
       "       'Neighborhood', 'Condition1', 'Condition2', 'BldgType', 'HouseStyle',\n",
       "       'OverallQual', 'OverallCond', 'YearBuilt', 'YearRemodAdd', 'RoofStyle',\n",
       "       'RoofMatl', 'Exterior1st', 'Exterior2nd', 'MasVnrType', 'MasVnrArea',\n",
       "       'ExterQual', 'ExterCond', 'Foundation', 'BsmtQual', 'BsmtCond',\n",
       "       'BsmtExposure', 'BsmtFinType1', 'BsmtFinSF1', 'BsmtFinType2',\n",
       "       'BsmtFinSF2', 'BsmtUnfSF', 'TotalBsmtSF', 'Heating', 'HeatingQC',\n",
       "       'CentralAir', 'Electrical', '1stFlrSF', '2ndFlrSF', 'LowQualFinSF',\n",
       "       'GrLivArea', 'BsmtFullBath', 'BsmtHalfBath', 'FullBath', 'HalfBath',\n",
       "       'BedroomAbvGr', 'KitchenAbvGr', 'KitchenQual', 'TotRmsAbvGrd',\n",
       "       'Functional', 'Fireplaces', 'FireplaceQu', 'GarageType', 'GarageYrBlt',\n",
       "       'GarageFinish', 'GarageCars', 'GarageArea', 'GarageQual', 'GarageCond',\n",
       "       'PavedDrive', 'WoodDeckSF', 'OpenPorchSF', 'EnclosedPorch', '3SsnPorch',\n",
       "       'ScreenPorch', 'PoolArea', 'PoolQC', 'Fence', 'MiscFeature', 'MiscVal',\n",
       "       'MoSold', 'YrSold', 'SaleType', 'SaleCondition', 'SalePrice'],\n",
       "      dtype='object')"
      ]
     },
     "execution_count": 498,
     "metadata": {},
     "output_type": "execute_result"
    }
   ],
   "source": [
    "quant = [f for f in train2.columns if train2.dtypes[f] != 'object']\n",
    "#qual = [f for f in train2.columns if train2.dtypes[f] == 'object']\n",
    "\n",
    "train2[quant]\n",
    "train2.columns"
   ]
  },
  {
   "cell_type": "code",
   "execution_count": 100,
   "metadata": {},
   "outputs": [
    {
     "data": {
      "text/plain": [
       "LinearRegression(copy_X=True, fit_intercept=True, n_jobs=1, normalize=False)"
      ]
     },
     "execution_count": 100,
     "metadata": {},
     "output_type": "execute_result"
    }
   ],
   "source": [
    "from sklearn import linear_model\n",
    "ols = linear_model.LinearRegression()\n",
    "## fit your linear model with fit() function\n",
    "ols.fit(train2[['SalePrice']], train2['LotArea'])"
   ]
  },
  {
   "cell_type": "code",
   "execution_count": 101,
   "metadata": {},
   "outputs": [
    {
     "data": {
      "image/png": "[encoded data removed]",
      "text/plain": [
       "<matplotlib.figure.Figure at 0x113b853d390>"
      ]
     },
     "metadata": {},
     "output_type": "display_data"
    }
   ],
   "source": [
    "plt.plot(train2[['SalePrice']], ols.predict(train2[['SalePrice']]), lw=2)\n",
    "## plot the data points\n",
    "plt.scatter(train2[['SalePrice']].iloc[:,0], y, c='k')\n",
    "plt.xlabel('Population')\n",
    "plt.ylabel('Profit')\n",
    "plt.show()"
   ]
  },
  {
   "cell_type": "code",
   "execution_count": 102,
   "metadata": {},
   "outputs": [
    {
     "data": {
      "text/plain": [
       "Index(['MSSubClass', 'MSZoning', 'LotFrontage', 'LotArea', 'Street', 'Alley',\n",
       "       'LotShape', 'LandContour', 'Utilities', 'LotConfig', 'LandSlope',\n",
       "       'Neighborhood', 'Condition1', 'Condition2', 'BldgType', 'HouseStyle',\n",
       "       'OverallQual', 'OverallCond', 'YearBuilt', 'YearRemodAdd', 'RoofStyle',\n",
       "       'RoofMatl', 'Exterior1st', 'Exterior2nd', 'MasVnrType', 'MasVnrArea',\n",
       "       'ExterQual', 'ExterCond', 'Foundation', 'BsmtQual', 'BsmtCond',\n",
       "       'BsmtExposure', 'BsmtFinType1', 'BsmtFinSF1', 'BsmtFinType2',\n",
       "       'BsmtFinSF2', 'BsmtUnfSF', 'TotalBsmtSF', 'Heating', 'HeatingQC',\n",
       "       'CentralAir', 'Electrical', '1stFlrSF', '2ndFlrSF', 'LowQualFinSF',\n",
       "       'GrLivArea', 'BsmtFullBath', 'BsmtHalfBath', 'FullBath', 'HalfBath',\n",
       "       'BedroomAbvGr', 'KitchenAbvGr', 'KitchenQual', 'TotRmsAbvGrd',\n",
       "       'Functional', 'Fireplaces', 'FireplaceQu', 'GarageType', 'GarageYrBlt',\n",
       "       'GarageFinish', 'GarageCars', 'GarageArea', 'GarageQual', 'GarageCond',\n",
       "       'PavedDrive', 'WoodDeckSF', 'OpenPorchSF', 'EnclosedPorch', '3SsnPorch',\n",
       "       'ScreenPorch', 'PoolArea', 'PoolQC', 'Fence', 'MiscFeature', 'MiscVal',\n",
       "       'MoSold', 'YrSold', 'SaleType', 'SaleCondition', 'SalePrice'],\n",
       "      dtype='object')"
      ]
     },
     "execution_count": 102,
     "metadata": {},
     "output_type": "execute_result"
    }
   ],
   "source": [
    "train2.isnull().sum().sort_values(ascending=False)\n",
    "missing[missing>0] "
   ]
  },
  {
   "cell_type": "code",
   "execution_count": 29,
   "metadata": {},
   "outputs": [
    {
     "data": {
      "text/plain": [
       "<matplotlib.axes._subplots.AxesSubplot at 0x113c1190588>"
      ]
     },
     "execution_count": 29,
     "metadata": {},
     "output_type": "execute_result"
    }
   ],
   "source": [
    "histlot = train2[train2['LotFrontage'].notnull()]\n",
    "sns.distplot(dummy_train.TotalBsmtSF, kde=False, fit=st.johnsonsu)"
   ]
  },
  {
   "cell_type": "code",
   "execution_count": 19,
   "metadata": {},
   "outputs": [
    {
     "data": {
      "text/plain": [
       "count    1201.000000\n",
       "mean       70.049958\n",
       "std        24.284752\n",
       "min        21.000000\n",
       "25%        59.000000\n",
       "50%        69.000000\n",
       "75%        80.000000\n",
       "max       313.000000\n",
       "Name: LotFrontage, dtype: float64"
      ]
     },
     "execution_count": 19,
     "metadata": {},
     "output_type": "execute_result"
    }
   ],
   "source": [
    "train2[train2['LotFrontage'].notnull()].LotFrontage.describe()"
   ]
  },
  {
   "cell_type": "markdown",
   "metadata": {},
   "source": [
    "## Cleaning and munging Data"
   ]
  },
  {
   "cell_type": "code",
   "execution_count": 556,
   "metadata": {},
   "outputs": [],
   "source": [
    "train2['PoolQC'].fillna('No Pool',inplace = True)\n",
    "train2['MiscFeature'].fillna('None',inplace = True)\n",
    "train2['Alley'].fillna('No Alley Access',inplace = True)\n",
    "train2['Fence'].fillna('No Fence',inplace = True)\n",
    "train2['FireplaceQu'].fillna('No Fireplace',inplace = True)\n",
    "train2['LotFrontage'] = train2['LotFrontage'].fillna(train2.groupby(['Neighborhood'])['LotFrontage'].transform('mean').round())\n",
    "train2['GarageYrBlt'].fillna('No Garage',inplace = True)\n",
    "train2['GarageType'].fillna('No Garage',inplace = True)\n",
    "train2['GarageFinish'].fillna('No Garage',inplace = True)\n",
    "train2['GarageQual'].fillna('No Garage',inplace = True)\n",
    "train2['GarageCond'].fillna('No Garage',inplace = True)\n",
    "train2['BsmtFinType2'].fillna('No Garage',inplace = True)\n",
    "train2['BsmtExposure'].fillna('No Garage',inplace = True)\n",
    "train2['BsmtFinType1'].fillna('No Garage',inplace = True)\n",
    "train2['BsmtCond'].fillna('No Garage',inplace = True)\n",
    "train2['BsmtQual'].fillna('No Garage',inplace = True)\n",
    "train2['MasVnrArea'].fillna(0,inplace = True)\n",
    "train2['MasVnrType'].fillna('None',inplace = True)\n",
    "train2['Electrical'].fillna('SBrkr', inplace = True)"
   ]
  },
  {
   "cell_type": "code",
   "execution_count": 575,
   "metadata": {},
   "outputs": [
    {
     "data": {
      "text/plain": [
       "LotFrontage      -0.920886\n",
       "LotArea          -0.137404\n",
       "YearBuilt        -0.613461\n",
       "YearRemodAdd     -0.503562\n",
       "MasVnrArea        0.503532\n",
       "BsmtFinSF1        1.685503\n",
       "BsmtFinSF2        4.255261\n",
       "BsmtUnfSF         0.920268\n",
       "TotalBsmtSF      -5.154670\n",
       "1stFlrSF          1.376757\n",
       "2ndFlrSF          0.813030\n",
       "LowQualFinSF      9.011341\n",
       "GrLivArea         0.000195\n",
       "BsmtFullBath      0.596067\n",
       "BsmtHalfBath      4.103403\n",
       "FullBath          0.036562\n",
       "HalfBath          0.675897\n",
       "BedroomAbvGr      0.211790\n",
       "KitchenAbvGr      4.488397\n",
       "TotRmsAbvGrd      0.676341\n",
       "Fireplaces        0.649565\n",
       "GarageCars       -0.342549\n",
       "GarageArea        0.179981\n",
       "WoodDeckSF        1.541376\n",
       "OpenPorchSF       2.364342\n",
       "EnclosedPorch     3.089872\n",
       "3SsnPorch        10.304342\n",
       "ScreenPorch       4.122214\n",
       "PoolArea         14.828374\n",
       "MiscVal          24.476794\n",
       "SalePrice         1.882876\n",
       "dtype: float64"
      ]
     },
     "execution_count": 575,
     "metadata": {},
     "output_type": "execute_result"
    }
   ],
   "source": [
    "#stats.skew(train2[quant])\n",
    "train2.skew()"
   ]
  },
  {
   "cell_type": "markdown",
   "metadata": {},
   "source": [
    "## Normalizing Data"
   ]
  },
  {
   "cell_type": "code",
   "execution_count": 474,
   "metadata": {},
   "outputs": [
    {
     "data": {
      "text/plain": [
       "PoolArea    40.177307\n",
       "dtype: float64"
      ]
     },
     "execution_count": 474,
     "metadata": {},
     "output_type": "execute_result"
    },
    {
     "data": {
      "image/png": "[encoded data removed]",
      "text/plain": [
       "<matplotlib.figure.Figure at 0x113b883cb38>"
      ]
     },
     "metadata": {},
     "output_type": "display_data"
    }
   ],
   "source": [
    "import scipy.stats as st\n",
    "import seaborn as sns\n",
    "\n",
    "y = pd.DataFrame(train2.PoolArea)\n",
    "\n",
    "plt.figure(1); plt.title('Johnson SU')\n",
    "sns.distplot(y, kde=False, fit=st.johnsonsu)\n",
    "\n",
    "y.std()"
   ]
  },
  {
   "cell_type": "code",
   "execution_count": 557,
   "metadata": {},
   "outputs": [],
   "source": [
    "train2.GrLivArea = pd.DataFrame(boxcox(train2.GrLivArea)[0])"
   ]
  },
  {
   "cell_type": "code",
   "execution_count": 558,
   "metadata": {},
   "outputs": [],
   "source": [
    "train2.MasVnrArea = np.log1p(train2.MasVnrArea)"
   ]
  },
  {
   "cell_type": "code",
   "execution_count": 559,
   "metadata": {},
   "outputs": [],
   "source": [
    "train2.TotalBsmtSF = np.log1p(train2.TotalBsmtSF)\n",
    "train2.LotFrontage = np.log1p(train2.LotFrontage)\n",
    "train2.LotArea = np.log1p(train2.LotArea)\n",
    "#train2.MiscVal = np.log1p(train2.MiscVal)\n",
    "#train2.BsmtFinSF1 = np.log1p(train2.BsmtFinSF1)\n",
    "#train2.BsmtHalfBath = np.log1p(train2.BsmtHalfBath)\n",
    "#train2.BsmtFinSF2 = np.log1p(train2.BsmtFinSF2)\n",
    "#train2['1stFlrSF'] = np.log1p(train2['1stFlrSF'])\n",
    "#train2.OpenPorchSF = np.log1p(train2.OpenPorchSF)\n",
    "#train2.WoodDeckSF = np.log1p(train2.WoodDeckSF)\n",
    "#train2.BsmtHalfBath = np.log1p(train2.BsmtHalfBath)"
   ]
  },
  {
   "cell_type": "code",
   "execution_count": 560,
   "metadata": {},
   "outputs": [],
   "source": [
    "quant_feats = ['LotFrontage','LotArea','MasVnrArea','BsmtFinSF1','BsmtFinSF2','BsmtUnfSF',\n",
    "              'TotalBsmtSF','1stFlrSF','2ndFlrSF','LowQualFinSF','GrLivArea','BsmtFullBath',\n",
    "              'BsmtHalfBath','FullBath','HalfBath','BedroomAbvGr','KitchenAbvGr',\n",
    "              'TotRmsAbvGrd','Fireplaces','GarageCars','GarageArea','WoodDeckSF',\n",
    "              'OpenPorchSF','EnclosedPorch','3SsnPorch','ScreenPorch','PoolArea',\n",
    "              'MiscVal','SalePrice','YearBuilt','YearRemodAdd']\n",
    "\n",
    "qual_feats = [item for item in train2.columns if item not in quant_feats]"
   ]
  },
  {
   "cell_type": "code",
   "execution_count": 561,
   "metadata": {},
   "outputs": [],
   "source": [
    "train2[qual_feats] = train2[qual_feats].astype(object)"
   ]
  },
  {
   "cell_type": "code",
   "execution_count": 562,
   "metadata": {},
   "outputs": [
    {
     "data": {
      "image/png": "[encoded data removed]",
      "text/plain": [
       "<matplotlib.figure.Figure at 0x113cd945668>"
      ]
     },
     "metadata": {},
     "output_type": "display_data"
    }
   ],
   "source": [
    "import numpy as np \n",
    "import pylab \n",
    "import scipy.stats as stats\n",
    "  \n",
    "stats.probplot(train2.LotFrontage, dist=\"norm\", plot=pylab)\n",
    "pylab.show()"
   ]
  },
  {
   "cell_type": "markdown",
   "metadata": {},
   "source": [
    "## Dummyfying the Data"
   ]
  },
  {
   "cell_type": "code",
   "execution_count": 563,
   "metadata": {},
   "outputs": [],
   "source": [
    "df = train2.copy()"
   ]
  },
  {
   "cell_type": "code",
   "execution_count": 564,
   "metadata": {},
   "outputs": [],
   "source": [
    "qual_dummies = pd.get_dummies(df[qual_feats], drop_first = True)"
   ]
  },
  {
   "cell_type": "code",
   "execution_count": 565,
   "metadata": {},
   "outputs": [],
   "source": [
    "#qual_dummies.shape\n",
    "dummy_train = pd.concat([train2[quant_feats],qual_dummies],axis = 1)"
   ]
  },
  {
   "cell_type": "code",
   "execution_count": 485,
   "metadata": {},
   "outputs": [
    {
     "data": {
      "text/plain": [
       "<matplotlib.axes._subplots.AxesSubplot at 0x113cbc91a20>"
      ]
     },
     "execution_count": 485,
     "metadata": {},
     "output_type": "execute_result"
    },
    {
     "data": {
      "image/png": "[encoded data removed]",
      "text/plain": [
       "<matplotlib.figure.Figure at 0x113cbecf588>"
      ]
     },
     "metadata": {},
     "output_type": "display_data"
    }
   ],
   "source": [
    "sns.heatmap(train2[quant].sample(15, axis=1).corr())"
   ]
  },
  {
   "cell_type": "code",
   "execution_count": 566,
   "metadata": {},
   "outputs": [],
   "source": [
    "#dummy_train.iloc[[1298]]\n",
    "dummy_train.drop(dummy_train.index[1298], inplace = True)\n",
    "dummy_train.drop(dummy_train.index[523], inplace = True)\n",
    "dummy_train.drop(dummy_train.index[1182], inplace = True)"
   ]
  },
  {
   "cell_type": "code",
   "execution_count": 567,
   "metadata": {},
   "outputs": [
    {
     "data": {
      "text/plain": [
       "[1457, 397]"
      ]
     },
     "execution_count": 567,
     "metadata": {},
     "output_type": "execute_result"
    }
   ],
   "source": [
    "list(dummy_train.shape)"
   ]
  },
  {
   "cell_type": "markdown",
   "metadata": {},
   "source": [
    "## Regression"
   ]
  },
  {
   "cell_type": "code",
   "execution_count": 568,
   "metadata": {},
   "outputs": [],
   "source": [
    "from sklearn.model_selection import train_test_split\n",
    "from sklearn.linear_model import LinearRegression"
   ]
  },
  {
   "cell_type": "code",
   "execution_count": 569,
   "metadata": {},
   "outputs": [],
   "source": [
    "y = dummy_train.SalePrice\n",
    "X = dummy_train.loc[:, dummy_train.columns != 'SalePrice']"
   ]
  },
  {
   "cell_type": "code",
   "execution_count": 570,
   "metadata": {},
   "outputs": [],
   "source": [
    "train_X, val_X, train_y, val_y = train_test_split(X, y,test_size = 0.25,random_state=0)"
   ]
  },
  {
   "cell_type": "code",
   "execution_count": 491,
   "metadata": {},
   "outputs": [],
   "source": [
    "kag_reg = LinearRegression()"
   ]
  },
  {
   "cell_type": "code",
   "execution_count": 352,
   "metadata": {},
   "outputs": [
    {
     "data": {
      "text/plain": [
       "LinearRegression(copy_X=True, fit_intercept=True, n_jobs=1, normalize=False)"
      ]
     },
     "execution_count": 352,
     "metadata": {},
     "output_type": "execute_result"
    }
   ],
   "source": [
    "kag_reg.fit(train_X,train_y, sample_weight=None)"
   ]
  },
  {
   "cell_type": "code",
   "execution_count": 305,
   "metadata": {},
   "outputs": [
    {
     "data": {
      "text/plain": [
       "array([  1.43222086e+05,   1.82093988e+05,   1.29884162e+05,\n",
       "         1.52254511e+05,   3.15747154e+05,   1.49447109e+05,\n",
       "         1.81274993e+05,   1.18145617e+05,   1.33824547e+05,\n",
       "         2.70135851e+05,   2.16861129e+05,   2.17682896e+05,\n",
       "         1.76161644e+05,   1.42862500e+05,   7.32781471e+04,\n",
       "         1.50938735e+05,   2.01883843e+05,   1.02219805e+05,\n",
       "         1.50278584e+05,   4.64307935e+05,   2.96557545e+05,\n",
       "         1.55970003e+05,   3.06731826e+05,   1.04508414e+05,\n",
       "         1.22121894e+05,   1.21573123e+05,   1.21565556e+05,\n",
       "         1.27455044e+05,   1.43937275e+05,   3.00834826e+05,\n",
       "         1.75533535e+05,   2.33359863e+05,   1.89558019e+05,\n",
       "         2.00540932e+05,   1.61397119e+09,   1.69110993e+05,\n",
       "         1.21098461e+05,   1.71125690e+05,   1.44109493e+05,\n",
       "         8.23920649e+04,   1.08063595e+05,   1.92960834e+05,\n",
       "         2.85977395e+05,   9.27669407e+04,   2.05404464e+05,\n",
       "         1.23743782e+05,   2.65605816e+05,   1.32091494e+05,\n",
       "         1.19885242e+05,   2.66316409e+05,   2.72216799e+05,\n",
       "         1.01253265e+05,   6.76791952e+08,   1.38514476e+05,\n",
       "         4.15014606e+05,   2.62927418e+05,   2.86211336e+05,\n",
       "         1.25705582e+05,   1.68306224e+05,   1.41844823e+05,\n",
       "         1.15287623e+05,   1.44030954e+05,   9.88380412e+04,\n",
       "         1.44703004e+05,   1.03120548e+05,   1.76990020e+05,\n",
       "         3.61280567e+05,   1.58609596e+05,   2.45131218e+05,\n",
       "         1.78744433e+05,   1.77290742e+05,   3.00115132e+05,\n",
       "         1.03445775e+05,   2.55047764e+05,   4.13649463e+05,\n",
       "         3.03610210e+05,   2.26495032e+05,   6.62532044e+04,\n",
       "         1.43044988e+05,   1.66337253e+05,   1.44327073e+05,\n",
       "         1.60122535e+05,   2.52630569e+05,   2.17116856e+05,\n",
       "         1.23325763e+05,   2.23265656e+05,   1.46248123e+05,\n",
       "         1.42726516e+05,   1.18714104e+05,   3.15686322e+05,\n",
       "         2.80678828e+05,   1.60653268e+05,   1.25603020e+05,\n",
       "         1.16654172e+05,   3.71435056e+05,   1.07158970e+05,\n",
       "         2.84494741e+05,   1.22894877e+05,   1.41898354e+05,\n",
       "         1.54838628e+05,   1.40859659e+05,   2.07098229e+05,\n",
       "         1.91752665e+05,   1.44297983e+05,   1.33390302e+05,\n",
       "         1.87264387e+05,   2.11026348e+05,   2.08456911e+05,\n",
       "         2.90920686e+05,   2.40490079e+05,   1.23631967e+05,\n",
       "         1.56541258e+05,   2.07350332e+05,   1.30331063e+05,\n",
       "         1.98083789e+05,   9.27725163e+04,   2.00468565e+05,\n",
       "         2.64016593e+05,   3.06885519e+05,   1.35601312e+05,\n",
       "         2.35827363e+05,   1.34329161e+05,   7.49993972e+04,\n",
       "         1.00679322e+05,   2.13395695e+05,   1.52818906e+05,\n",
       "         1.30824848e+05,   1.82773494e+05,   2.49124499e+05,\n",
       "         2.26174106e+05,   3.59344367e+05,   1.37934264e+05,\n",
       "         2.09607727e+05,   2.66600279e+05,   2.62514062e+05,\n",
       "         1.64622998e+05,   3.24164875e+05,   1.51322157e+05,\n",
       "         1.49142587e+05,   2.88549608e+05,   3.04781332e+05,\n",
       "         1.22319405e+05,   1.67433518e+05,   1.13365869e+05,\n",
       "         1.67987401e+05,   1.16111903e+05,   1.14885147e+05,\n",
       "         1.94309524e+05,   1.38717660e+05,   1.06944217e+05,\n",
       "         1.28892473e+05,   9.11342550e+04,   1.84005420e+05,\n",
       "         6.34246834e+04,   1.72464783e+05,   1.73366286e+05,\n",
       "         2.08525190e+05,   1.45565620e+05,   4.97642308e+05,\n",
       "         1.37205958e+05,   8.62952231e+04,   2.11851476e+05,\n",
       "         4.32837917e+05,   1.40999749e+05,   1.92543621e+05,\n",
       "         2.36281907e+05,   1.97812851e+05,   1.18901606e+05,\n",
       "         9.75456342e+04,   1.49357435e+05,   1.35154296e+05,\n",
       "         1.74748731e+05,   1.11481759e+05,   2.96802999e+05,\n",
       "         4.41001849e+05,   1.58428579e+05,   1.03273087e+05,\n",
       "         1.79009150e+05,   9.94601908e+04,   1.14146312e+05,\n",
       "         1.44005706e+05,   1.02941237e+05,   1.76597665e+05,\n",
       "         1.36377361e+05,   2.57881255e+05,   1.67580981e+05,\n",
       "         2.13404612e+05,   1.74851285e+05,   9.99803147e+04,\n",
       "         1.04239887e+05,   1.03218587e+05,   3.20614539e+05,\n",
       "         1.44604927e+05,   1.31489353e+05,   1.89312174e+05,\n",
       "         1.49218571e+05,   1.31811028e+05,   1.68094126e+05,\n",
       "         1.27716329e+05,   1.54208950e+05,   1.40164705e+05,\n",
       "         1.34111847e+05,   2.07147875e+05,   3.88555269e+05,\n",
       "         1.27733750e+05,   1.23087500e+05,   1.81002454e+05,\n",
       "         2.44333846e+05,   2.63473917e+05,   1.97235001e+05,\n",
       "         1.85713464e+05,   1.00953940e+05,   2.14809451e+05,\n",
       "         1.10522651e+05,   2.83828228e+05,   9.04756663e+04,\n",
       "         3.00533194e+05,   1.29443003e+05,   1.93852282e+05,\n",
       "         2.94753840e+05,   9.44009457e+04,   1.55920226e+05,\n",
       "         1.50183414e+05,   1.22609643e+05,   2.36396318e+05,\n",
       "         1.75949149e+05,   9.26552005e+04,   1.54113431e+05,\n",
       "         9.86669487e+04,   8.77908559e+04,   1.99101964e+05,\n",
       "         2.09680907e+05,   1.99664927e+05,   2.12633820e+05,\n",
       "         2.29474613e+05,   1.56050834e+05,   1.26109830e+05,\n",
       "         1.84101617e+05,   1.55854640e+05,   2.21673777e+05,\n",
       "         2.31135361e+05,   5.02520968e+05,   1.07293080e+05,\n",
       "         1.11108858e+05,   9.26508369e+04,   2.04237087e+05,\n",
       "         1.74355432e+05,   2.13602631e+05,   1.03073745e+05,\n",
       "         1.79408893e+05,   1.92359155e+05,   1.14396538e+05,\n",
       "         9.77009700e+04,   1.35008136e+05,   1.63247713e+05,\n",
       "         2.07239622e+05,   1.93074214e+05,   9.54892143e+04,\n",
       "         1.44673868e+05,   1.45504839e+05,   9.16577304e+04,\n",
       "         1.22037432e+05,   2.33156133e+05,   1.52181936e+05,\n",
       "         3.76589903e+05,   3.11171067e+05,   1.73987651e+05,\n",
       "         6.87825320e+04,   1.42522275e+05,   1.36618809e+05,\n",
       "         1.07678140e+05,   2.68212557e+05,   2.41376860e+05,\n",
       "         8.67179380e+04,   1.16282700e+05,   2.63858511e+05,\n",
       "         1.42123921e+05,   1.07449943e+05,   1.71092132e+05,\n",
       "         2.04396120e+05,   2.02368716e+05,   1.02738641e+05,\n",
       "         1.57937260e+05,   1.75192759e+05,   1.35964519e+05,\n",
       "         7.22306096e+04,   1.52105347e+05,   1.83994700e+05,\n",
       "         1.14576338e+05,   1.37585486e+05,   1.52137638e+05,\n",
       "         1.25804604e+05,   1.49248254e+05,   9.53280325e+04,\n",
       "         1.14253602e+05,   2.41797240e+05,   1.48153903e+05,\n",
       "         3.22887865e+05,   1.38140944e+05,   1.12852095e+05,\n",
       "         1.59902306e+05,   1.21159626e+05,   1.58592361e+05,\n",
       "         1.30883367e+05,   2.93050303e+05,   1.35470075e+05,\n",
       "         1.68013415e+05,   1.20268397e+05,   1.53607555e+05,\n",
       "         2.16532037e+05,   1.53827783e+05,   2.20073149e+05,\n",
       "         1.67141120e+05,   2.66918579e+05,   1.45207546e+05,\n",
       "         1.89043445e+05,   1.69112867e+05,   3.56775247e+05,\n",
       "         3.19843361e+05,   7.02324667e+04,   2.44125206e+05,\n",
       "         1.17206082e+05,   1.41354796e+05,   1.92491579e+05,\n",
       "         1.73960450e+05,   3.61255117e+05,   7.17649648e+04,\n",
       "         2.03435458e+05,   1.06303965e+05,   1.32616918e+05,\n",
       "         1.31072386e+05,   1.39493003e+05,   4.80261491e+05,\n",
       "         1.53358717e+05,   2.71526422e+05,   7.96816894e+04,\n",
       "         2.40324662e+05,   3.06201093e+05,   1.73956512e+05,\n",
       "         1.44432431e+05,   2.68880958e+05,   1.61519742e+05,\n",
       "         2.06458605e+05,   9.88309672e+04,   3.48547509e+05,\n",
       "         1.81341915e+05,   1.39973860e+05,   3.19736430e+05,\n",
       "         1.33174828e+05,   2.20994178e+05,   2.45653585e+05,\n",
       "         3.00149530e+05,   2.94692576e+05,   1.60047832e+05,\n",
       "         2.29202787e+05,   1.26955129e+05,   2.32561979e+05,\n",
       "         1.46748137e+05,   9.71588448e+04,   1.60135224e+05,\n",
       "         9.29834629e+04,   1.52937802e+05,   2.37558949e+05,\n",
       "         1.09936503e+05,   1.01053575e+05])"
      ]
     },
     "execution_count": 305,
     "metadata": {},
     "output_type": "execute_result"
    }
   ],
   "source": [
    "kag_reg.predict(val_X)"
   ]
  },
  {
   "cell_type": "code",
   "execution_count": 263,
   "metadata": {},
   "outputs": [
    {
     "data": {
      "text/plain": [
       "0.88459017755449421"
      ]
     },
     "execution_count": 263,
     "metadata": {},
     "output_type": "execute_result"
    }
   ],
   "source": [
    "kag_reg.score(val_X,val_y)"
   ]
  },
  {
   "cell_type": "markdown",
   "metadata": {},
   "source": [
    "## Ridge and Lasso"
   ]
  },
  {
   "cell_type": "code",
   "execution_count": 571,
   "metadata": {},
   "outputs": [],
   "source": [
    "from sklearn.linear_model import LassoCV\n",
    "from sklearn.linear_model import RidgeCV"
   ]
  },
  {
   "cell_type": "code",
   "execution_count": 572,
   "metadata": {},
   "outputs": [
    {
     "data": {
      "text/plain": [
       "0.91955351525668205"
      ]
     },
     "execution_count": 572,
     "metadata": {},
     "output_type": "execute_result"
    }
   ],
   "source": [
    "ridge_reg = RidgeCV(cv=12)\n",
    "\n",
    "ridge_reg.fit(train_X, train_y)\n",
    "\n",
    "ridge_reg.predict(val_X)\n",
    "\n",
    "ridge_reg.score(val_X, val_y)"
   ]
  },
  {
   "cell_type": "code",
   "execution_count": 573,
   "metadata": {},
   "outputs": [
    {
     "data": {
      "text/plain": [
       "RidgeCV(alphas=(0.1, 1.0, 10.0), cv=12, fit_intercept=True, gcv_mode=None,\n",
       "    normalize=False, scoring=None, store_cv_values=False)"
      ]
     },
     "execution_count": 573,
     "metadata": {},
     "output_type": "execute_result"
    }
   ],
   "source": [
    "ridge_reg"
   ]
  },
  {
   "cell_type": "code",
   "execution_count": 574,
   "metadata": {},
   "outputs": [
    {
     "data": {
      "text/plain": [
       "0.81451093014885734"
      ]
     },
     "execution_count": 574,
     "metadata": {},
     "output_type": "execute_result"
    }
   ],
   "source": [
    "lasso_reg = LassoCV(cv=10)\n",
    "\n",
    "lasso_reg.fit(train_X, train_y)\n",
    "\n",
    "lasso_reg.predict(val_X)\n",
    "\n",
    "lasso_reg.score(val_X, val_y)"
   ]
  },
  {
   "cell_type": "code",
   "execution_count": null,
   "metadata": {},
   "outputs": [],
   "source": []
  }
 ],
 "metadata": {
  "kernelspec": {
   "display_name": "Python [default]",
   "language": "python",
   "name": "python3"
  },
  "language_info": {
   "codemirror_mode": {
    "name": "ipython",
    "version": 3
   },
   "file_extension": ".py",
   "mimetype": "text/x-python",
   "name": "python",
   "nbconvert_exporter": "python",
   "pygments_lexer": "ipython3",
   "version": "3.5.4"
  }
 },
 "nbformat": 4,
 "nbformat_minor": 2
}
